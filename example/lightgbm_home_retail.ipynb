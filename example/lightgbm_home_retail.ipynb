{
 "cells": [
  {
   "cell_type": "code",
   "execution_count": 1,
   "metadata": {},
   "outputs": [
    {
     "name": "stdout",
     "output_type": "stream",
     "text": [
      "Deprecaton set to False\n"
     ]
    }
   ],
   "source": [
    "%load_ext autoreload\n",
    "%autoreload 2\n",
    "\n",
    "import mlmodels\n",
    "from mlmodels.models import module_load\n",
    "import json\n",
    "from mlmodels.optim import optim"
   ]
  },
  {
   "cell_type": "code",
   "execution_count": 9,
   "metadata": {},
   "outputs": [
    {
     "name": "stdout",
     "output_type": "stream",
     "text": [
      "\n",
      "  ({'objective': 'regression', 'random_state': 2}, {'mode': 'train', 'path': '../dataset/tabular/home_rentals.csv', 'data_type': 'pandas', 'colX': ['number_of_rooms', 'number_of_bathrooms', 'sqft', 'days_on_market', 'initial_price'], 'coly': 'rental_price'}, {'lightgbm_pars': {}, 'metric_score': 'mean_squared_error'}, {'engine_pars': {'engine': 'optuna', 'ntrials': 1, 'metric_target': 'mean_squared_error', 'method': 'normal'}, 'num_leaves': {'type': 'int', 'init': 100, 'range': [5, 200]}, 'max_depth': {'type': 'int', 'init': 4, 'range': [0, 6]}}) \n",
      "\n",
      "  (<module 'mlmodels.model_sklearn.model_lightgbm' from '/Users/lai/congviec/upwork/mlmodels/mlmodels/model_sklearn/model_lightgbm.py'>,) \n",
      "\n",
      "  ('###### Hyper-optimization through study   ##################################',) \n",
      "\n",
      "  ('check', <module 'mlmodels.model_sklearn.model_lightgbm' from '/Users/lai/congviec/upwork/mlmodels/mlmodels/model_sklearn/model_lightgbm.py'>, {'mode': 'train', 'path': '../dataset/tabular/home_rentals.csv', 'data_type': 'pandas', 'colX': ['number_of_rooms', 'number_of_bathrooms', 'sqft', 'days_on_market', 'initial_price'], 'coly': 'rental_price'}) \n",
      "mean_squared_error\n",
      "{'lightgbm_pars': {}, 'metric_score': 'mean_squared_error'}\n"
     ]
    },
    {
     "name": "stderr",
     "output_type": "stream",
     "text": [
      "\u001b[32m[I 2020-04-03 17:43:00,651]\u001b[0m Finished trial#0 resulted in value: 59.6479835703086. Current best value is 59.6479835703086 with parameters: {'num_leaves': 57, 'max_depth': 6}.\u001b[0m\n"
     ]
    },
    {
     "name": "stdout",
     "output_type": "stream",
     "text": [
      "\n",
      " ################################### ('Optim, finished',) ###################################\n",
      "\n",
      "  ('### Save Stats   ##########################################################',) \n",
      "\n",
      "  ('### Run Model with best   #################################################',) \n",
      "\n",
      "  ('#### Saving     ###########################################################',) \n",
      "{'path': './temp', 'model_type': 'model_sklearn', 'model_uri': 'model_sklearn-model_lightgbm-py'}\n"
     ]
    }
   ],
   "source": [
    "data_path = 'hyper_lightgbm_home_retail.json'  \n",
    "\n",
    "pars = json.load(open( data_path , mode='r'))\n",
    "for key, pdict in  pars.items() :\n",
    "  globals()[key] = pdict  \n",
    "\n",
    "hypermodel_pars = test['hypermodel_pars']\n",
    "model_pars      = test['model_pars']\n",
    "data_pars       = test['data_pars']\n",
    "compute_pars    = test['compute_pars']\n",
    "out_pars        = test['out_pars']\n",
    "\n",
    "model_uri    = \"model_sklearn.model_lightgbm.py\"\n",
    "module        =  module_load( model_uri= model_uri)\n",
    "\n",
    "model_pars_update = optim(\n",
    "    model_uri       = model_uri,\n",
    "    hypermodel_pars = hypermodel_pars,\n",
    "    model_pars      = model_pars,\n",
    "    data_pars       = data_pars,\n",
    "    compute_pars    = compute_pars,\n",
    "    out_pars        = out_pars\n",
    ")"
   ]
  },
  {
   "cell_type": "code",
   "execution_count": 10,
   "metadata": {},
   "outputs": [],
   "source": [
    "model = module.Model(model_pars, data_pars, compute_pars)\n",
    "model, session = module.fit(model, data_pars, compute_pars, out_pars)"
   ]
  },
  {
   "cell_type": "code",
   "execution_count": 11,
   "metadata": {},
   "outputs": [
    {
     "name": "stdout",
     "output_type": "stream",
     "text": [
      "[[3.000e+00 2.000e+00 1.032e+03 1.200e+01 4.788e+03]\n",
      " [2.000e+00 1.000e+00 9.210e+02 1.000e+00 3.550e+03]\n",
      " [3.000e+00 2.000e+00 1.033e+03 2.000e+00 4.852e+03]\n",
      " ...\n",
      " [3.000e+00 2.000e+00 1.009e+03 7.000e+00 4.826e+03]\n",
      " [0.000e+00 1.000e+00 1.910e+02 5.600e+01 1.008e+03]\n",
      " [2.000e+00 1.000e+00 7.740e+02 3.000e+00 3.875e+03]]\n"
     ]
    }
   ],
   "source": [
    "ypred       = module.predict(model,  data_pars=data_pars, compute_pars=compute_pars, out_pars=out_pars)     # predict pipeline\n",
    "ypred"
   ]
  },
  {
   "cell_type": "code",
   "execution_count": 12,
   "metadata": {},
   "outputs": [
    {
     "name": "stdout",
     "output_type": "stream",
     "text": [
      "mean_squared_error\n",
      "{'lightgbm_pars': {}, 'metric_score': 'mean_squared_error'}\n"
     ]
    },
    {
     "data": {
      "text/plain": [
       "{'mean_squared_error': 61.09078412874933}"
      ]
     },
     "execution_count": 12,
     "metadata": {},
     "output_type": "execute_result"
    }
   ],
   "source": [
    "metrics_val = module.fit_metrics(model, data_pars, compute_pars, out_pars)\n",
    "metrics_val"
   ]
  },
  {
   "cell_type": "code",
   "execution_count": null,
   "metadata": {},
   "outputs": [],
   "source": []
  }
 ],
 "metadata": {
  "kernelspec": {
   "display_name": "mlmodels",
   "language": "python",
   "name": "myenv"
  },
  "language_info": {
   "codemirror_mode": {
    "name": "ipython",
    "version": 3
   },
   "file_extension": ".py",
   "mimetype": "text/x-python",
   "name": "python",
   "nbconvert_exporter": "python",
   "pygments_lexer": "ipython3",
   "version": "3.7.6"
  }
 },
 "nbformat": 4,
 "nbformat_minor": 4
}
