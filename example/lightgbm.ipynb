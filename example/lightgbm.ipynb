{
 "cells": [
  {
   "cell_type": "markdown",
   "metadata": {},
   "source": [
    "## Import library and functions"
   ]
  },
  {
   "cell_type": "code",
   "execution_count": 7,
   "metadata": {},
   "outputs": [
    {
     "name": "stdout",
     "output_type": "stream",
     "text": [
      "The autoreload extension is already loaded. To reload it, use:\n",
      "  %reload_ext autoreload\n"
     ]
    }
   ],
   "source": [
    "%load_ext autoreload\n",
    "%autoreload 2\n",
    "\n",
    "import mlmodels\n",
    "from mlmodels.models import module_load\n",
    "import json"
   ]
  },
  {
   "cell_type": "markdown",
   "metadata": {},
   "source": [
    "## Load model and data definitions from json"
   ]
  },
  {
   "cell_type": "code",
   "execution_count": 8,
   "metadata": {},
   "outputs": [],
   "source": [
    "model_uri    = \"model_sklearn.model_lightgbm.py\"\n",
    "module        =  module_load( model_uri= model_uri)\n",
    "\n",
    "data_path = 'lightgbm_titanic.json'  \n",
    "\n",
    "pars = json.load(open( data_path , mode='r'))\n",
    "for key, pdict in  pars.items() :\n",
    "  globals()[key] = pdict   \n",
    "\n",
    "model_pars      = test['model_pars']\n",
    "data_pars       = test['data_pars']\n",
    "compute_pars    = test['compute_pars']\n",
    "out_pars        = test['out_pars']"
   ]
  },
  {
   "cell_type": "markdown",
   "metadata": {},
   "source": [
    "## Load parameters and train"
   ]
  },
  {
   "cell_type": "code",
   "execution_count": 4,
   "metadata": {},
   "outputs": [],
   "source": [
    "model = module.Model(model_pars, data_pars, compute_pars)\n",
    "model, session = module.fit(model, data_pars, compute_pars, out_pars)"
   ]
  },
  {
   "cell_type": "markdown",
   "metadata": {},
   "source": [
    "## Check inference"
   ]
  },
  {
   "cell_type": "code",
   "execution_count": 5,
   "metadata": {},
   "outputs": [
    {
     "name": "stdout",
     "output_type": "stream",
     "text": [
      "[[ 1.07258847 -0.58652394 -1.34267579 -1.23685338  1.24328724  0.87583893\n",
      "  -0.3264995   0.62336218 -0.43495668  1.11438298]\n",
      " [ 1.34740825  0.73302323  0.83863475 -1.89881206 -0.54245992 -1.11711069\n",
      "  -1.09715436 -0.50897228 -0.16648595 -1.03918232]\n",
      " [ 1.13545112  0.8616231   0.04906169 -2.08639057 -1.1146902   0.36180164\n",
      "  -0.80617821  0.42592018  0.0490804  -0.59608633]\n",
      " [ 0.98379959 -0.40724002  0.93272141  0.16056499 -1.278618   -0.12014998\n",
      "   0.19975956  0.38560229  0.71829074 -0.5301198 ]\n",
      " [ 1.16777676 -0.66575452 -1.23312074 -1.67419581  1.01313574  0.82502982\n",
      "  -0.12046457 -0.49821356 -0.31098498 -1.18231813]\n",
      " [ 0.78801845  0.30196005  0.70098212 -0.39468968 -1.20376927 -1.17181338\n",
      "   0.75539203  0.98401224 -0.55968142 -0.19893745]\n",
      " [ 0.87874071 -0.01923163  0.31965694  0.15001628 -1.46662161  0.46353432\n",
      "  -0.89868319  0.39788042 -0.99601089  0.3181542 ]\n",
      " [ 0.89891716  0.55743945 -0.75806733  0.18103874  0.84146721  1.10717545\n",
      "   0.69336623  1.44287693 -0.53968156 -0.8088472 ]\n",
      " [ 1.77547698 -0.20339445 -0.19883786  0.24266944  0.96435056  0.20183018\n",
      "  -0.54577417  0.66102029  1.79215821 -0.7003985 ]\n",
      " [ 1.39198128 -0.19022103 -0.53722302 -0.44873803  0.70455707 -0.67244804\n",
      "  -0.70134443 -0.55749472  0.93916874  0.15626385]\n",
      " [ 0.70017571  0.55607351  0.08968641  1.69380911  0.88239331  0.19686978\n",
      "  -0.56378873  0.16986926 -1.16400797 -0.6011568 ]\n",
      " [ 0.87122579 -0.20975294 -0.45698786  0.93514778 -0.87353582  1.81252782\n",
      "   0.92550121  0.14010988 -1.41914878  1.06898597]\n",
      " [ 0.5630779  -1.17598267 -0.17418034  1.01012718  1.06796368  0.92001793\n",
      "  -0.16819884 -0.19505734  0.80539342  0.4611641 ]\n",
      " [ 0.6236295   0.98635218  1.45391758 -0.46615486  0.93640333  1.38499134\n",
      "   0.03494359 -1.07296428  0.49515861  0.66168108]\n",
      " [ 0.96457205 -0.10679399  1.12232832  1.45142926  1.21828168 -0.61803685\n",
      "   0.43816635 -2.03720123 -1.94258918 -0.9970198 ]\n",
      " [ 0.44118981  0.47985237 -0.1920037  -1.55269878 -1.88873982  0.57846442\n",
      "   0.39859839 -0.9612636  -1.45832446 -3.05376438]\n",
      " [ 1.06702918 -0.42914228  0.35016716  1.20845633  0.75148062  1.1157018\n",
      "  -0.4791571   0.84086156 -0.10288722  0.01716473]\n",
      " [ 1.12641981 -0.6294416   1.1010002  -1.1134361   0.94459507 -0.06741002\n",
      "  -0.1834002   1.16143998 -0.02752939  0.78002714]\n",
      " [ 0.69174373  1.00978733 -1.21333813 -1.55694156 -1.20257258 -0.61244213\n",
      "  -2.69836174 -0.13935181 -0.72853749  0.0722519 ]\n",
      " [ 0.345716   -0.41302931 -0.46867382  1.83471763  0.77151441  0.56438286\n",
      "   0.02186284  2.13782807 -0.785534    0.85328122]\n",
      " [ 1.22867367  0.13437312 -0.18242041 -0.2683713  -1.73963799 -0.13167563\n",
      "  -0.92687194  1.01855247  1.2305582  -0.49112514]\n",
      " [ 0.79032389  1.61336137 -2.09424782 -0.37480469  0.91588404 -0.74996962\n",
      "   0.31027229  2.0546241   0.05340954 -0.22876583]\n",
      " [ 1.16755486  0.0353601   0.7147896  -1.53879325  1.10863359 -0.44789518\n",
      "  -1.75592564  0.61798553 -0.18417633  0.85270406]\n",
      " [ 0.55853873 -0.51634791 -0.51814555  0.3511169   0.82550695 -0.06877046\n",
      "  -0.9520621  -1.34776494  1.47073986 -1.4614036 ]\n",
      " [ 0.99785516 -0.6001388   0.45794708  0.14676526 -0.93355729  0.57180488\n",
      "   0.57296273 -0.03681766  0.11236849 -0.01781755]]\n"
     ]
    }
   ],
   "source": [
    "ypred       = module.predict(model,  data_pars=data_pars, compute_pars=compute_pars, out_pars=out_pars)     # predict pipeline\n",
    "ypred"
   ]
  },
  {
   "cell_type": "markdown",
   "metadata": {},
   "source": [
    "## Check metrics"
   ]
  },
  {
   "cell_type": "code",
   "execution_count": 6,
   "metadata": {},
   "outputs": [
    {
     "data": {
      "text/plain": [
       "{'feature_importance': array([11, 15,  2, 19, 63, 31, 11,  6,  8,  4])}"
      ]
     },
     "execution_count": 6,
     "metadata": {},
     "output_type": "execute_result"
    }
   ],
   "source": [
    "metrics_val = module.fit_metrics(model, data_pars, compute_pars, out_pars)\n",
    "metrics_val"
   ]
  },
  {
   "cell_type": "code",
   "execution_count": null,
   "metadata": {},
   "outputs": [],
   "source": []
  }
 ],
 "metadata": {
  "kernelspec": {
   "display_name": "mlmodels",
   "language": "python",
   "name": "mlmodels"
  },
  "language_info": {
   "codemirror_mode": {
    "name": "ipython",
    "version": 3
   },
   "file_extension": ".py",
   "mimetype": "text/x-python",
   "name": "python",
   "nbconvert_exporter": "python",
   "pygments_lexer": "ipython3",
   "version": "3.7.4"
  }
 },
 "nbformat": 4,
 "nbformat_minor": 4
}
