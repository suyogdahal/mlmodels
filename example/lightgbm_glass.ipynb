{
 "cells": [
  {
   "cell_type": "code",
   "execution_count": 14,
   "metadata": {},
   "outputs": [
    {
     "name": "stdout",
     "output_type": "stream",
     "text": [
      "The autoreload extension is already loaded. To reload it, use:\n",
      "  %reload_ext autoreload\n"
     ]
    }
   ],
   "source": [
    "%load_ext autoreload\n",
    "%autoreload 2\n",
    "\n",
    "# import library\n",
    "import mlmodels\n",
    "from mlmodels.models import module_load\n",
    "from mlmodels.util import path_norm_dict, path_norm, params_json_load\n",
    "import json\n",
    "\n",
    "print( os.getcwd())\n"
   ]
  },
  {
   "cell_type": "code",
   "execution_count": null,
   "metadata": {},
   "outputs": [],
   "source": [
    "config_path  = 'hyper_lightgbm_glass.json'  \n",
    "model_uri    = \"model_sklearn.model_lightgbm.py\"\n",
    "config_mode  = \"test\"\n",
    "\n"
   ]
  },
  {
   "cell_type": "code",
   "execution_count": null,
   "metadata": {},
   "outputs": [],
   "source": [
    "pars = json.load(open( config_path , mode='r'))[config_mode]\n",
    "\n",
    "hypermodel_pars = path_norm_dict( pars.get('hypermodel_pars' ) )\n",
    "model_pars      = path_norm_dict( pars['model_pars'] )\n",
    "data_pars       = path_norm_dict( pars['data_pars'] )\n",
    "compute_pars    = path_norm_dict( pars['compute_pars'] )\n",
    "out_pars        = path_norm_dict( pars['out_pars'] )\n",
    "\n"
   ]
  },
  {
   "cell_type": "code",
   "execution_count": 45,
   "metadata": {},
   "outputs": [
    {
     "name": "stdout",
     "output_type": "stream",
     "text": [
      "Deprecaton set to False\n",
      "\n",
      "  ({'objective': 'multiclass', 'random_state': 2, 'num_class': 6}, {'mode': 'train', 'path': '../dataset/tabular/glass.csv', 'data_type': 'pandas', 'colX': ['RI', 'Na', 'Mg', 'Al', 'Si', 'K', 'Ca', 'Ba', 'Fe'], 'coly': 'Type'}, {'lightgbm_pars': {}, 'metric_score': 'accuracy_score'}, {'engine_pars': {'engine': 'optuna', 'ntrials': 1, 'metric_target': 'accuracy_score', 'method': 'normal'}, 'num_leaves': {'type': 'int', 'init': 100, 'range': [5, 200]}, 'max_depth': {'type': 'int', 'init': 4, 'range': [0, 6]}}) \n",
      "\n",
      "  (<module 'mlmodels.model_sklearn.model_lightgbm' from '/Users/lai/congviec/upwork/mlmodels/mlmodels/model_sklearn/model_lightgbm.py'>,) \n",
      "\n",
      "  ('###### Hyper-optimization through study   ##################################',) \n",
      "\n",
      "  ('check', <module 'mlmodels.model_sklearn.model_lightgbm' from '/Users/lai/congviec/upwork/mlmodels/mlmodels/model_sklearn/model_lightgbm.py'>, {'mode': 'train', 'path': '../dataset/tabular/glass.csv', 'data_type': 'pandas', 'colX': ['RI', 'Na', 'Mg', 'Al', 'Si', 'K', 'Ca', 'Ba', 'Fe'], 'coly': 'Type'}) \n"
     ]
    },
    {
     "name": "stderr",
     "output_type": "stream",
     "text": [
      "\u001b[32m[I 2020-04-03 17:18:14,449]\u001b[0m Finished trial#0 resulted in value: 0.9629629629629629. Current best value is 0.9629629629629629 with parameters: {'num_leaves': 52, 'max_depth': 0}.\u001b[0m\n"
     ]
    },
    {
     "name": "stdout",
     "output_type": "stream",
     "text": [
      "\n",
      " ################################### ('Optim, finished',) ###################################\n",
      "\n",
      "  ('### Save Stats   ##########################################################',) \n",
      "\n",
      "  ('### Run Model with best   #################################################',) \n",
      "\n",
      "  ('#### Saving     ###########################################################',) \n",
      "{'path': './temp', 'model_type': 'model_sklearn', 'model_uri': 'model_sklearn-model_lightgbm-py'}\n"
     ]
    }
   ],
   "source": [
    "#### Hyper-parameter Search\n",
    "\n",
    "model_pars_update = optim(\n",
    "    model_uri       = model_uri,\n",
    "    hypermodel_pars = hypermodel_pars,\n",
    "    model_pars      = model_pars,\n",
    "    data_pars       = data_pars,\n",
    "    compute_pars    = compute_pars,\n",
    "    out_pars        = out_pars\n",
    ")\n",
    "\n",
    "\n"
   ]
  },
  {
   "cell_type": "code",
   "execution_count": 46,
   "metadata": {},
   "outputs": [],
   "source": [
    "module         =  module_load( model_uri= model_uri)\n",
    "model          = module.Model(model_pars, data_pars, compute_pars)\n",
    "model, session = module.fit(model, data_pars, compute_pars, out_pars)"
   ]
  },
  {
   "cell_type": "code",
   "execution_count": 47,
   "metadata": {},
   "outputs": [
    {
     "name": "stdout",
     "output_type": "stream",
     "text": [
      "[[1.52213e+00 1.42100e+01 3.82000e+00 4.70000e-01 7.17700e+01 1.10000e-01\n",
      "  9.57000e+00 0.00000e+00 0.00000e+00]\n",
      " [1.51779e+00 1.32100e+01 3.39000e+00 1.33000e+00 7.27600e+01 5.90000e-01\n",
      "  8.59000e+00 0.00000e+00 0.00000e+00]\n",
      " [1.52172e+00 1.35100e+01 3.86000e+00 8.80000e-01 7.17900e+01 2.30000e-01\n",
      "  9.54000e+00 0.00000e+00 1.10000e-01]\n",
      " [1.51769e+00 1.36500e+01 3.66000e+00 1.11000e+00 7.27700e+01 1.10000e-01\n",
      "  8.60000e+00 0.00000e+00 0.00000e+00]\n",
      " [1.52247e+00 1.48600e+01 2.20000e+00 2.06000e+00 7.02600e+01 7.60000e-01\n",
      "  9.76000e+00 0.00000e+00 0.00000e+00]\n",
      " [1.51905e+00 1.40000e+01 2.39000e+00 1.56000e+00 7.23700e+01 0.00000e+00\n",
      "  9.57000e+00 0.00000e+00 0.00000e+00]\n",
      " [1.51667e+00 1.29400e+01 3.61000e+00 1.26000e+00 7.27500e+01 5.60000e-01\n",
      "  8.60000e+00 0.00000e+00 0.00000e+00]\n",
      " [1.51567e+00 1.32900e+01 3.45000e+00 1.21000e+00 7.27400e+01 5.60000e-01\n",
      "  8.57000e+00 0.00000e+00 0.00000e+00]\n",
      " [1.51800e+00 1.37100e+01 3.93000e+00 1.54000e+00 7.18100e+01 5.40000e-01\n",
      "  8.21000e+00 0.00000e+00 1.50000e-01]\n",
      " [1.51625e+00 1.33600e+01 3.58000e+00 1.49000e+00 7.27200e+01 4.50000e-01\n",
      "  8.21000e+00 0.00000e+00 0.00000e+00]\n",
      " [1.51753e+00 1.25700e+01 3.47000e+00 1.38000e+00 7.33900e+01 6.00000e-01\n",
      "  8.55000e+00 0.00000e+00 6.00000e-02]\n",
      " [1.51514e+00 1.48500e+01 0.00000e+00 2.42000e+00 7.37200e+01 0.00000e+00\n",
      "  8.39000e+00 5.60000e-01 0.00000e+00]\n",
      " [1.51844e+00 1.32500e+01 3.76000e+00 1.32000e+00 7.24000e+01 5.80000e-01\n",
      "  8.42000e+00 0.00000e+00 0.00000e+00]\n",
      " [1.51900e+00 1.34900e+01 3.48000e+00 1.35000e+00 7.19500e+01 5.50000e-01\n",
      "  9.00000e+00 0.00000e+00 0.00000e+00]\n",
      " [1.52369e+00 1.34400e+01 0.00000e+00 1.58000e+00 7.22200e+01 3.20000e-01\n",
      "  1.22400e+01 0.00000e+00 0.00000e+00]\n",
      " [1.51911e+00 1.39000e+01 3.73000e+00 1.18000e+00 7.21200e+01 6.00000e-02\n",
      "  8.89000e+00 0.00000e+00 0.00000e+00]\n",
      " [1.52151e+00 1.10300e+01 1.71000e+00 1.56000e+00 7.34400e+01 5.80000e-01\n",
      "  1.16200e+01 0.00000e+00 0.00000e+00]\n",
      " [1.51569e+00 1.32400e+01 3.49000e+00 1.47000e+00 7.32500e+01 3.80000e-01\n",
      "  8.03000e+00 0.00000e+00 0.00000e+00]\n",
      " [1.51775e+00 1.28500e+01 3.48000e+00 1.23000e+00 7.29700e+01 6.10000e-01\n",
      "  8.56000e+00 9.00000e-02 2.20000e-01]\n",
      " [1.51707e+00 1.34800e+01 3.48000e+00 1.71000e+00 7.25200e+01 6.20000e-01\n",
      "  7.99000e+00 0.00000e+00 0.00000e+00]\n",
      " [1.52365e+00 1.57900e+01 1.83000e+00 1.31000e+00 7.04300e+01 3.10000e-01\n",
      "  8.61000e+00 1.68000e+00 0.00000e+00]\n",
      " [1.51574e+00 1.48600e+01 3.67000e+00 1.74000e+00 7.18700e+01 1.60000e-01\n",
      "  7.36000e+00 0.00000e+00 1.20000e-01]\n",
      " [1.52043e+00 1.33800e+01 0.00000e+00 1.40000e+00 7.22500e+01 3.30000e-01\n",
      "  1.25000e+01 0.00000e+00 0.00000e+00]\n",
      " [1.52152e+00 1.30500e+01 3.65000e+00 8.70000e-01 7.23200e+01 1.90000e-01\n",
      "  9.85000e+00 0.00000e+00 1.70000e-01]\n",
      " [1.51665e+00 1.31400e+01 3.45000e+00 1.76000e+00 7.24800e+01 6.00000e-01\n",
      "  8.38000e+00 0.00000e+00 1.70000e-01]\n",
      " [1.51966e+00 1.47700e+01 3.75000e+00 2.90000e-01 7.20200e+01 3.00000e-02\n",
      "  9.00000e+00 0.00000e+00 0.00000e+00]\n",
      " [1.52211e+00 1.41900e+01 3.78000e+00 9.10000e-01 7.13600e+01 2.30000e-01\n",
      "  9.14000e+00 0.00000e+00 3.70000e-01]\n",
      " [1.51905e+00 1.36000e+01 3.62000e+00 1.11000e+00 7.26400e+01 1.40000e-01\n",
      "  8.76000e+00 0.00000e+00 0.00000e+00]\n",
      " [1.51605e+00 1.29000e+01 3.44000e+00 1.45000e+00 7.30600e+01 4.40000e-01\n",
      "  8.27000e+00 0.00000e+00 0.00000e+00]\n",
      " [1.51888e+00 1.49900e+01 7.80000e-01 1.74000e+00 7.25000e+01 0.00000e+00\n",
      "  9.95000e+00 0.00000e+00 0.00000e+00]\n",
      " [1.51732e+00 1.49500e+01 0.00000e+00 1.80000e+00 7.29900e+01 0.00000e+00\n",
      "  8.61000e+00 1.55000e+00 0.00000e+00]\n",
      " [1.51743e+00 1.33000e+01 3.60000e+00 1.14000e+00 7.30900e+01 5.80000e-01\n",
      "  8.17000e+00 0.00000e+00 0.00000e+00]\n",
      " [1.51808e+00 1.34300e+01 2.87000e+00 1.19000e+00 7.28400e+01 5.50000e-01\n",
      "  9.03000e+00 0.00000e+00 0.00000e+00]\n",
      " [1.51755e+00 1.27100e+01 3.42000e+00 1.20000e+00 7.32000e+01 5.90000e-01\n",
      "  8.64000e+00 0.00000e+00 0.00000e+00]\n",
      " [1.51709e+00 1.30000e+01 3.47000e+00 1.79000e+00 7.27200e+01 6.60000e-01\n",
      "  8.18000e+00 0.00000e+00 0.00000e+00]\n",
      " [1.51755e+00 1.30000e+01 3.60000e+00 1.36000e+00 7.29900e+01 5.70000e-01\n",
      "  8.40000e+00 0.00000e+00 1.10000e-01]\n",
      " [1.51797e+00 1.27400e+01 3.48000e+00 1.35000e+00 7.29600e+01 6.40000e-01\n",
      "  8.68000e+00 0.00000e+00 0.00000e+00]\n",
      " [1.51837e+00 1.31400e+01 2.84000e+00 1.28000e+00 7.28500e+01 5.50000e-01\n",
      "  9.07000e+00 0.00000e+00 0.00000e+00]\n",
      " [1.51690e+00 1.33300e+01 3.54000e+00 1.61000e+00 7.25400e+01 6.80000e-01\n",
      "  8.11000e+00 0.00000e+00 0.00000e+00]\n",
      " [1.51643e+00 1.21600e+01 3.52000e+00 1.35000e+00 7.28900e+01 5.70000e-01\n",
      "  8.53000e+00 0.00000e+00 0.00000e+00]\n",
      " [1.51768e+00 1.25600e+01 3.52000e+00 1.43000e+00 7.31500e+01 5.70000e-01\n",
      "  8.54000e+00 0.00000e+00 0.00000e+00]\n",
      " [1.52320e+00 1.37200e+01 3.72000e+00 5.10000e-01 7.17500e+01 9.00000e-02\n",
      "  1.00600e+01 0.00000e+00 1.60000e-01]\n",
      " [1.51617e+00 1.49500e+01 0.00000e+00 2.27000e+00 7.33000e+01 0.00000e+00\n",
      "  8.71000e+00 6.70000e-01 0.00000e+00]\n",
      " [1.51811e+00 1.33300e+01 3.85000e+00 1.25000e+00 7.27800e+01 5.20000e-01\n",
      "  8.12000e+00 0.00000e+00 0.00000e+00]\n",
      " [1.51613e+00 1.38800e+01 1.78000e+00 1.79000e+00 7.31000e+01 0.00000e+00\n",
      "  8.67000e+00 7.60000e-01 0.00000e+00]\n",
      " [1.51316e+00 1.30200e+01 0.00000e+00 3.04000e+00 7.04800e+01 6.21000e+00\n",
      "  6.96000e+00 0.00000e+00 0.00000e+00]\n",
      " [1.51848e+00 1.36400e+01 3.87000e+00 1.27000e+00 7.19600e+01 5.40000e-01\n",
      "  8.32000e+00 0.00000e+00 3.20000e-01]\n",
      " [1.51640e+00 1.43700e+01 0.00000e+00 2.74000e+00 7.28500e+01 0.00000e+00\n",
      "  9.45000e+00 5.40000e-01 0.00000e+00]\n",
      " [1.52475e+00 1.14500e+01 0.00000e+00 1.88000e+00 7.21900e+01 8.10000e-01\n",
      "  1.32400e+01 0.00000e+00 3.40000e-01]\n",
      " [1.51761e+00 1.28100e+01 3.54000e+00 1.23000e+00 7.32400e+01 5.80000e-01\n",
      "  8.39000e+00 0.00000e+00 0.00000e+00]\n",
      " [1.51321e+00 1.30000e+01 0.00000e+00 3.02000e+00 7.07000e+01 6.21000e+00\n",
      "  6.93000e+00 0.00000e+00 0.00000e+00]\n",
      " [1.51623e+00 1.42000e+01 0.00000e+00 2.79000e+00 7.34600e+01 4.00000e-02\n",
      "  9.04000e+00 4.00000e-01 9.00000e-02]\n",
      " [1.52081e+00 1.37800e+01 2.28000e+00 1.43000e+00 7.19900e+01 4.90000e-01\n",
      "  9.85000e+00 0.00000e+00 1.70000e-01]\n",
      " [1.51818e+00 1.37200e+01 0.00000e+00 5.60000e-01 7.44500e+01 0.00000e+00\n",
      "  1.09900e+01 0.00000e+00 0.00000e+00]]\n"
     ]
    }
   ],
   "source": [
    "# predict pipeline\n",
    "ypred       = module.predict(model,  data_pars=data_pars, compute_pars=compute_pars, out_pars=out_pars)     \n",
    "ypred"
   ]
  },
  {
   "cell_type": "code",
   "execution_count": 48,
   "metadata": {},
   "outputs": [
    {
     "data": {
      "text/plain": [
       "{'accuracy_score': 0.9444444444444444}"
      ]
     },
     "execution_count": 48,
     "metadata": {},
     "output_type": "execute_result"
    }
   ],
   "source": [
    "metrics_val = module.fit_metrics(model, data_pars, compute_pars, out_pars)\n",
    "metrics_val"
   ]
  },
  {
   "cell_type": "code",
   "execution_count": null,
   "metadata": {},
   "outputs": [],
   "source": []
  }
 ],
 "metadata": {
  "hide_input": false,
  "kernelspec": {
   "display_name": "Python [conda env:mlmodels2]",
   "language": "python",
   "name": "conda-env-mlmodels2-py"
  },
  "language_info": {
   "codemirror_mode": {
    "name": "ipython",
    "version": 3
   },
   "file_extension": ".py",
   "mimetype": "text/x-python",
   "name": "python",
   "nbconvert_exporter": "python",
   "pygments_lexer": "ipython3",
   "version": "3.6.5"
  },
  "toc": {
   "base_numbering": 1,
   "nav_menu": {},
   "number_sections": true,
   "sideBar": true,
   "skip_h1_title": false,
   "title_cell": "Table of Contents",
   "title_sidebar": "Contents",
   "toc_cell": false,
   "toc_position": {},
   "toc_section_display": true,
   "toc_window_display": false
  },
  "varInspector": {
   "cols": {
    "lenName": 16,
    "lenType": 16,
    "lenVar": 40
   },
   "kernels_config": {
    "python": {
     "delete_cmd_postfix": "",
     "delete_cmd_prefix": "del ",
     "library": "var_list.py",
     "varRefreshCmd": "print(var_dic_list())"
    },
    "r": {
     "delete_cmd_postfix": ") ",
     "delete_cmd_prefix": "rm(",
     "library": "var_list.r",
     "varRefreshCmd": "cat(var_dic_list()) "
    }
   },
   "types_to_exclude": [
    "module",
    "function",
    "builtin_function_or_method",
    "instance",
    "_Feature"
   ],
   "window_display": false
  }
 },
 "nbformat": 4,
 "nbformat_minor": 4
}
