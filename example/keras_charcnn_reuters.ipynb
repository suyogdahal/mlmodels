{
 "cells": [
  {
   "cell_type": "code",
   "execution_count": 1,
   "metadata": {},
   "outputs": [],
   "source": [
    "%load_ext autoreload\n",
    "%autoreload 2\n",
    "\n",
    "# import library\n",
    "import mlmodels\n",
    "from mlmodels.models import module_load\n",
    "from mlmodels.util import path_norm_dict, path_norm, params_json_load\n",
    "import json"
   ]
  },
  {
   "cell_type": "code",
   "execution_count": 2,
   "metadata": {},
   "outputs": [],
   "source": [
    "config_path  = 'reuters_charcnn.json'  \n",
    "model_uri    = \"model_keras/charcnn.py\"\n",
    "config_mode  = \"test\""
   ]
  },
  {
   "cell_type": "code",
   "execution_count": 12,
   "metadata": {},
   "outputs": [
    {
     "name": "stdout",
     "output_type": "stream",
     "text": [
      "f:\\congviec\\forme\\mlmodels\\mlmodels\n"
     ]
    }
   ],
   "source": [
    "pars = json.load(open( config_path , mode='r'))[config_mode]\n",
    "model_pars      = path_norm_dict( pars['model_pars'] )\n",
    "data_pars       = path_norm_dict( pars['data_pars'] )\n",
    "compute_pars    = path_norm_dict( pars['compute_pars'] )\n",
    "out_pars        = path_norm_dict( pars['out_pars'] )"
   ]
  },
  {
   "cell_type": "code",
   "execution_count": 13,
   "metadata": {},
   "outputs": [],
   "source": [
    "module         =  module_load( model_uri= model_uri)"
   ]
  },
  {
   "cell_type": "code",
   "execution_count": 14,
   "metadata": {
    "scrolled": true
   },
   "outputs": [
    {
     "name": "stdout",
     "output_type": "stream",
     "text": [
      "CharCNNKim model built: \n",
      "Model: \"model_2\"\n",
      "_________________________________________________________________\n",
      "Layer (type)                 Output Shape              Param #   \n",
      "=================================================================\n",
      "sent_input (InputLayer)      (None, 10000)             0         \n",
      "_________________________________________________________________\n",
      "embedding_2 (Embedding)      (None, 10000, 2)          140       \n",
      "_________________________________________________________________\n",
      "flatten_5 (Flatten)          (None, 20000)             0         \n",
      "_________________________________________________________________\n",
      "dense_3 (Dense)              (None, 512)               10240512  \n",
      "_________________________________________________________________\n",
      "alpha_dropout_2 (AlphaDropou (None, 512)               0         \n",
      "_________________________________________________________________\n",
      "dense_4 (Dense)              (None, 46)                23598     \n",
      "=================================================================\n",
      "Total params: 10,264,250\n",
      "Trainable params: 10,264,250\n",
      "Non-trainable params: 0\n",
      "_________________________________________________________________\n",
      "Loading data...\n",
      "f:\\congviec\\forme\\mlmodels\\mlmodels\n",
      "Train on 8982 samples, validate on 2246 samples\n",
      "Epoch 1/50\n",
      "8982/8982 [==============================] - 11s 1ms/step - loss: 2.7965 - val_loss: 2.2199\n",
      "Epoch 2/50\n",
      " 128/8982 [..............................] - ETA: 9s - loss: 1.9954"
     ]
    },
    {
     "name": "stderr",
     "output_type": "stream",
     "text": [
      "f:\\congviec\\forme\\mlmodels\\env\\lib\\site-packages\\keras\\callbacks\\callbacks.py:846: RuntimeWarning: Early stopping conditioned on metric `val_acc` which is not available. Available metrics are: val_loss,loss\n",
      "  (self.monitor, ','.join(list(logs.keys()))), RuntimeWarning\n"
     ]
    },
    {
     "name": "stdout",
     "output_type": "stream",
     "text": [
      "8982/8982 [==============================] - 10s 1ms/step - loss: 1.6251 - val_loss: 1.4135\n",
      "Epoch 3/50\n",
      "8982/8982 [==============================] - 11s 1ms/step - loss: 0.9875 - val_loss: 1.0917\n",
      "Epoch 4/50\n",
      "8982/8982 [==============================] - 11s 1ms/step - loss: 0.6450 - val_loss: 0.9588\n",
      "Epoch 5/50\n",
      "8982/8982 [==============================] - 11s 1ms/step - loss: 0.4419 - val_loss: 0.9735\n",
      "Epoch 6/50\n",
      "8982/8982 [==============================] - 10s 1ms/step - loss: 0.3347 - val_loss: 0.9611\n",
      "Epoch 7/50\n",
      "8982/8982 [==============================] - 11s 1ms/step - loss: 0.2672 - val_loss: 0.9791\n",
      "Epoch 8/50\n",
      "8982/8982 [==============================] - 11s 1ms/step - loss: 0.2260 - val_loss: 1.0279\n",
      "Epoch 9/50\n",
      "8982/8982 [==============================] - 11s 1ms/step - loss: 0.2122 - val_loss: 1.0303\n",
      "Epoch 10/50\n",
      "8982/8982 [==============================] - 10s 1ms/step - loss: 0.1979 - val_loss: 1.0354\n",
      "Epoch 11/50\n",
      "8982/8982 [==============================] - 10s 1ms/step - loss: 0.1877 - val_loss: 1.1261\n",
      "Epoch 12/50\n",
      "8982/8982 [==============================] - 11s 1ms/step - loss: 0.1795 - val_loss: 1.1497\n",
      "Epoch 13/50\n",
      "8982/8982 [==============================] - 10s 1ms/step - loss: 0.1690 - val_loss: 1.0601\n",
      "Epoch 14/50\n",
      "8982/8982 [==============================] - 11s 1ms/step - loss: 0.1629 - val_loss: 1.1214\n",
      "Epoch 15/50\n",
      "8982/8982 [==============================] - 11s 1ms/step - loss: 0.1599 - val_loss: 1.1698\n",
      "Epoch 16/50\n",
      "8982/8982 [==============================] - 11s 1ms/step - loss: 0.1536 - val_loss: 1.1180\n",
      "Epoch 17/50\n",
      "8982/8982 [==============================] - 11s 1ms/step - loss: 0.1549 - val_loss: 1.1765\n",
      "Epoch 18/50\n",
      "8982/8982 [==============================] - 11s 1ms/step - loss: 0.1551 - val_loss: 1.2519\n",
      "Epoch 19/50\n",
      "8982/8982 [==============================] - 11s 1ms/step - loss: 0.1491 - val_loss: 1.2146\n",
      "Epoch 20/50\n",
      "8982/8982 [==============================] - 11s 1ms/step - loss: 0.1494 - val_loss: 1.1967\n",
      "Epoch 21/50\n",
      "8982/8982 [==============================] - 10s 1ms/step - loss: 0.1437 - val_loss: 1.1502\n",
      "Epoch 22/50\n",
      "8982/8982 [==============================] - 10s 1ms/step - loss: 0.1416 - val_loss: 1.2113\n",
      "Epoch 23/50\n",
      "8982/8982 [==============================] - 10s 1ms/step - loss: 0.1423 - val_loss: 1.2031\n",
      "Epoch 24/50\n",
      "8982/8982 [==============================] - 11s 1ms/step - loss: 0.1368 - val_loss: 1.2267\n",
      "Epoch 25/50\n",
      "8982/8982 [==============================] - 11s 1ms/step - loss: 0.1308 - val_loss: 1.2263\n",
      "Epoch 26/50\n",
      "8982/8982 [==============================] - 10s 1ms/step - loss: 0.1337 - val_loss: 1.1972\n",
      "Epoch 27/50\n",
      "8982/8982 [==============================] - 10s 1ms/step - loss: 0.1400 - val_loss: 1.2303\n",
      "Epoch 28/50\n",
      "8982/8982 [==============================] - 10s 1ms/step - loss: 0.1323 - val_loss: 1.2200\n",
      "Epoch 29/50\n",
      "8982/8982 [==============================] - 10s 1ms/step - loss: 0.1286 - val_loss: 1.2347\n",
      "Epoch 30/50\n",
      "8982/8982 [==============================] - 11s 1ms/step - loss: 0.1322 - val_loss: 1.2421\n",
      "Epoch 31/50\n",
      "8982/8982 [==============================] - 10s 1ms/step - loss: 0.1294 - val_loss: 1.3152\n",
      "Epoch 32/50\n",
      "8982/8982 [==============================] - 10s 1ms/step - loss: 0.1281 - val_loss: 1.2450\n",
      "Epoch 33/50\n",
      "8982/8982 [==============================] - 11s 1ms/step - loss: 0.1300 - val_loss: 1.1817\n",
      "Epoch 34/50\n",
      "8982/8982 [==============================] - 11s 1ms/step - loss: 0.1323 - val_loss: 1.2191\n",
      "Epoch 35/50\n",
      "8982/8982 [==============================] - 11s 1ms/step - loss: 0.1334 - val_loss: 1.2750\n",
      "Epoch 36/50\n",
      "8982/8982 [==============================] - 11s 1ms/step - loss: 0.1295 - val_loss: 1.2294\n",
      "Epoch 37/50\n",
      "8982/8982 [==============================] - 10s 1ms/step - loss: 0.1237 - val_loss: 1.2305\n",
      "Epoch 38/50\n",
      "8982/8982 [==============================] - 11s 1ms/step - loss: 0.1239 - val_loss: 1.2775\n",
      "Epoch 39/50\n",
      "8982/8982 [==============================] - 11s 1ms/step - loss: 0.1246 - val_loss: 1.2198\n",
      "Epoch 40/50\n",
      "8982/8982 [==============================] - 11s 1ms/step - loss: 0.1216 - val_loss: 1.2689\n",
      "Epoch 41/50\n",
      "8982/8982 [==============================] - 10s 1ms/step - loss: 0.1264 - val_loss: 1.3236\n",
      "Epoch 42/50\n",
      "8982/8982 [==============================] - 10s 1ms/step - loss: 0.1228 - val_loss: 1.2350\n",
      "Epoch 43/50\n",
      "8982/8982 [==============================] - 10s 1ms/step - loss: 0.1190 - val_loss: 1.2776\n",
      "Epoch 44/50\n",
      "8982/8982 [==============================] - 10s 1ms/step - loss: 0.1262 - val_loss: 1.2512\n",
      "Epoch 45/50\n",
      "8982/8982 [==============================] - 10s 1ms/step - loss: 0.1263 - val_loss: 1.2629\n",
      "Epoch 46/50\n",
      "8982/8982 [==============================] - 11s 1ms/step - loss: 0.1309 - val_loss: 1.2471\n",
      "Epoch 47/50\n",
      "8982/8982 [==============================] - 11s 1ms/step - loss: 0.1223 - val_loss: 1.1931\n",
      "Epoch 48/50\n",
      "8982/8982 [==============================] - 10s 1ms/step - loss: 0.1217 - val_loss: 1.1935\n",
      "Epoch 49/50\n",
      "8982/8982 [==============================] - 11s 1ms/step - loss: 0.1234 - val_loss: 1.2913\n",
      "Epoch 50/50\n",
      "8982/8982 [==============================] - 11s 1ms/step - loss: 0.1224 - val_loss: 1.3086\n"
     ]
    }
   ],
   "source": [
    "model = module.Model(model_pars, data_pars, compute_pars) # create model instance\n",
    "model, session = module.fit(model, data_pars, compute_pars, out_pars)"
   ]
  },
  {
   "cell_type": "code",
   "execution_count": 15,
   "metadata": {
    "scrolled": true
   },
   "outputs": [
    {
     "name": "stdout",
     "output_type": "stream",
     "text": [
      "Loading data...\n",
      "f:\\congviec\\forme\\mlmodels\\mlmodels\n"
     ]
    },
    {
     "data": {
      "text/plain": [
       "{'accuracy_score': 0.776046304541407}"
      ]
     },
     "execution_count": 15,
     "metadata": {},
     "output_type": "execute_result"
    }
   ],
   "source": [
    "metrics_val = module.fit_metrics(model, data_pars, compute_pars, out_pars)\n",
    "metrics_val"
   ]
  },
  {
   "cell_type": "code",
   "execution_count": null,
   "metadata": {},
   "outputs": [],
   "source": []
  }
 ],
 "metadata": {
  "kernelspec": {
   "display_name": "mlmodels",
   "language": "python",
   "name": "mlmodels"
  },
  "language_info": {
   "codemirror_mode": {
    "name": "ipython",
    "version": 3
   },
   "file_extension": ".py",
   "mimetype": "text/x-python",
   "name": "python",
   "nbconvert_exporter": "python",
   "pygments_lexer": "ipython3",
   "version": "3.7.4"
  }
 },
 "nbformat": 4,
 "nbformat_minor": 2
}
