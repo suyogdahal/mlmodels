{
 "cells": [
  {
   "cell_type": "code",
   "execution_count": 1,
   "metadata": {},
   "outputs": [
    {
     "name": "stdout",
     "output_type": "stream",
     "text": [
      "D:\\_devs\\Python01\\gitdev\\mlmodels\\mlmodels\\example\n"
     ]
    }
   ],
   "source": [
    "# import library\n",
    "import mlmodels\n",
    "from mlmodels.models import module_load\n",
    "from mlmodels.util import path_norm_dict, path_norm, params_json_load\n",
    "import json\n",
    "\n",
    "print( os.getcwd())"
   ]
  },
  {
   "cell_type": "markdown",
   "metadata": {},
   "source": [
    "## Load model and data definitions from json"
   ]
  },
  {
   "cell_type": "code",
   "execution_count": 11,
   "metadata": {},
   "outputs": [
    {
     "name": "stdout",
     "output_type": "stream",
     "text": [
      "{'model_pars': {'learning_rate': 0.001, 'num_layers': 1, 'size': 6, 'size_layer': 128, 'output_size': 6, 'timestep': 4, 'epoch': 2}, 'data_pars': {'data_path': 'd:\\\\_devs\\\\python01\\\\gitdev\\\\mlmodels\\\\mlmodels\\\\dataset/timeseries/GOOG-year.csv', 'data_type': 'pandas', 'size': [0, 0, 6], 'output_size': [0, 6]}, 'compute_pars': {'learning_rate': 0.001, 'epoch': 2}, 'out_pars': {'path': 'd:\\\\_devs\\\\python01\\\\gitdev\\\\mlmodels\\\\mlmodels\\\\ztest/1_lstm/', 'model_path': 'd:\\\\_devs\\\\python01\\\\gitdev\\\\mlmodels\\\\mlmodels\\\\ztest/1_lstm/model/'}}\n"
     ]
    }
   ],
   "source": [
    "#### Model URI and Config JSON\n",
    "model_uri   = \"model_tf.1_lstm\"\n",
    "config_path = path_norm( 'example/1_lstm.json'  )\n",
    "config_mode = \"test\"  ### test/prod\n",
    "\n",
    "# Model Parameters\n",
    "pars = json.load(open( config_path , mode='r'))[config_mode]\n",
    "model_pars      = path_norm_dict( pars['model_pars'] )\n",
    "data_pars       = path_norm_dict( pars['data_pars'] )\n",
    "compute_pars    = path_norm_dict( pars['compute_pars'] )\n",
    "out_pars        = path_norm_dict( pars['out_pars'] )\n",
    "print(pars)\n"
   ]
  },
  {
   "cell_type": "markdown",
   "metadata": {},
   "source": [
    "## Load parameters and train"
   ]
  },
  {
   "cell_type": "code",
   "execution_count": 12,
   "metadata": {},
   "outputs": [
    {
     "name": "stdout",
     "output_type": "stream",
     "text": [
      "{'data_path': 'd:\\\\_devs\\\\python01\\\\gitdev\\\\mlmodels\\\\mlmodels\\\\dataset/timeseries/GOOG-year.csv', 'data_type': 'pandas', 'size': [0, 0, 6], 'output_size': [0, 6]}\n",
      "d:\\_devs\\python01\\gitdev\\mlmodels\\mlmodels\\dataset/timeseries/GOOG-year.csv\n",
      "         Date        Open        High         Low       Close   Adj Close  \\\n",
      "0  2016-11-02  778.200012  781.650024  763.450012  768.700012  768.700012   \n",
      "1  2016-11-03  767.250000  769.950012  759.030029  762.130005  762.130005   \n",
      "2  2016-11-04  750.659973  770.359985  750.560974  762.020020  762.020020   \n",
      "3  2016-11-07  774.500000  785.190002  772.549988  782.520020  782.520020   \n",
      "4  2016-11-08  783.400024  795.632996  780.190002  790.510010  790.510010   \n",
      "\n",
      "    Volume  \n",
      "0  1872400  \n",
      "1  1943200  \n",
      "2  2134800  \n",
      "3  1585100  \n",
      "4  1350800  \n",
      "          0         1         2         3         4         5\n",
      "0  0.706562  0.629914  0.682052  0.599302  0.599302  0.153665\n",
      "1  0.458824  0.320251  0.598101  0.478596  0.478596  0.174523\n",
      "2  0.083484  0.331101  0.437246  0.476576  0.476576  0.230969\n",
      "3  0.622851  0.723606  0.854891  0.853206  0.853206  0.069025\n",
      "4  0.824209  1.000000  1.000000  1.000000  1.000000  0.000000\n"
     ]
    }
   ],
   "source": [
    "#### Load Parameters and Train\n",
    "module  =  module_load( model_uri= model_uri)\n",
    "model = module.Model(model_pars, data_pars, compute_pars) # create model instance\n",
    "model, session = module.fit(model, data_pars, compute_pars, out_pars) # fit model\n",
    "\n",
    "\n"
   ]
  },
  {
   "cell_type": "markdown",
   "metadata": {},
   "source": [
    "## Check inference"
   ]
  },
  {
   "cell_type": "code",
   "execution_count": 9,
   "metadata": {},
   "outputs": [
    {
     "name": "stdout",
     "output_type": "stream",
     "text": [
      "{'data_path': 'd:\\\\_devs\\\\python01\\\\gitdev\\\\mlmodels\\\\mlmodels\\\\dataset/timeseries/GOOG-year.csv', 'data_type': 'pandas', 'size': [0, 0, 6], 'output_size': [0, 6]}\n",
      "d:\\_devs\\python01\\gitdev\\mlmodels\\mlmodels\\dataset/timeseries/GOOG-year.csv\n",
      "         Date        Open        High         Low       Close   Adj Close  \\\n",
      "0  2016-11-02  778.200012  781.650024  763.450012  768.700012  768.700012   \n",
      "1  2016-11-03  767.250000  769.950012  759.030029  762.130005  762.130005   \n",
      "2  2016-11-04  750.659973  770.359985  750.560974  762.020020  762.020020   \n",
      "3  2016-11-07  774.500000  785.190002  772.549988  782.520020  782.520020   \n",
      "4  2016-11-08  783.400024  795.632996  780.190002  790.510010  790.510010   \n",
      "\n",
      "    Volume  \n",
      "0  1872400  \n",
      "1  1943200  \n",
      "2  2134800  \n",
      "3  1585100  \n",
      "4  1350800  \n",
      "          0         1         2         3         4         5\n",
      "0  0.706562  0.629914  0.682052  0.599302  0.599302  0.153665\n",
      "1  0.458824  0.320251  0.598101  0.478596  0.478596  0.174523\n",
      "2  0.083484  0.331101  0.437246  0.476576  0.476576  0.230969\n",
      "3  0.622851  0.723606  0.854891  0.853206  0.853206  0.069025\n",
      "4  0.824209  1.000000  1.000000  1.000000  1.000000  0.000000\n",
      "5  0.745928  0.883387  0.838176  0.904464  0.904464  0.370110\n",
      "6  1.000000  0.881878  0.467996  0.486496  0.486496  1.000000\n",
      "7  0.216516  0.077549  0.433808  0.329598  0.329598  0.318466\n",
      "8  0.195249  0.000000  0.000000  0.000000  0.000000  0.671960\n",
      "9  0.000000  0.173783  0.369041  0.411721  0.411721  0.304384\n"
     ]
    },
    {
     "data": {
      "text/plain": [
       "array([[ 0.        ,  0.        ,  0.        ,  0.        ,  0.        ,\n",
       "         0.        ],\n",
       "       [ 0.05442802,  0.0073923 , -0.01233746,  0.03134631,  0.02719136,\n",
       "        -0.01183338],\n",
       "       [ 0.29020134,  0.03811435, -0.1610387 , -0.07564906,  0.12365373,\n",
       "        -0.09367265],\n",
       "       [ 0.19300352,  0.175943  , -0.01336288, -0.16241482, -0.22863427,\n",
       "         0.14199163],\n",
       "       [-0.03396037, -0.06635427, -0.00886466, -0.00629899,  0.07659697,\n",
       "         0.33814102],\n",
       "       [-0.05023714, -0.39627796,  0.50053161, -0.20282602,  0.27982616,\n",
       "        -0.00199795],\n",
       "       [ 0.0138495 , -0.45568901,  0.04347289, -0.15299761,  0.75071841,\n",
       "        -0.07940994],\n",
       "       [-0.41955844,  0.37603047, -0.53591204,  0.11541019,  0.25451913,\n",
       "        -0.58595937],\n",
       "       [ 0.17434983,  0.21022639,  0.07632355,  0.3799502 ,  0.5263117 ,\n",
       "         0.10623871],\n",
       "       [ 0.        ,  0.        ,  0.        ,  0.        ,  0.        ,\n",
       "         0.        ]])"
      ]
     },
     "execution_count": 9,
     "metadata": {},
     "output_type": "execute_result"
    }
   ],
   "source": [
    "#### Check inference\n",
    "ypred       = module.predict(model, session, data_pars=data_pars, compute_pars=compute_pars, out_pars=out_pars)     # get predictions\n",
    "ypred\n",
    "\n"
   ]
  },
  {
   "cell_type": "code",
   "execution_count": 10,
   "metadata": {},
   "outputs": [
    {
     "data": {
      "text/plain": [
       "{'loss': 0.3871548678725958, 'loss_history': []}"
      ]
     },
     "execution_count": 10,
     "metadata": {},
     "output_type": "execute_result"
    }
   ],
   "source": [
    "\n",
    "#### Check metrics\n",
    "metrics_val = module.fit_metrics(model, session, data_pars, compute_pars, out_pars)\n",
    "metrics_val "
   ]
  },
  {
   "cell_type": "code",
   "execution_count": null,
   "metadata": {},
   "outputs": [],
   "source": []
  }
 ],
 "metadata": {
  "hide_input": false,
  "kernelspec": {
   "display_name": "Python [conda env:mlmodels2]",
   "language": "python",
   "name": "conda-env-mlmodels2-py"
  },
  "language_info": {
   "codemirror_mode": {
    "name": "ipython",
    "version": 3
   },
   "file_extension": ".py",
   "mimetype": "text/x-python",
   "name": "python",
   "nbconvert_exporter": "python",
   "pygments_lexer": "ipython3",
   "version": "3.6.5"
  },
  "toc": {
   "base_numbering": 1,
   "nav_menu": {},
   "number_sections": true,
   "sideBar": true,
   "skip_h1_title": false,
   "title_cell": "Table of Contents",
   "title_sidebar": "Contents",
   "toc_cell": false,
   "toc_position": {},
   "toc_section_display": true,
   "toc_window_display": false
  },
  "varInspector": {
   "cols": {
    "lenName": 16,
    "lenType": 16,
    "lenVar": 40
   },
   "kernels_config": {
    "python": {
     "delete_cmd_postfix": "",
     "delete_cmd_prefix": "del ",
     "library": "var_list.py",
     "varRefreshCmd": "print(var_dic_list())"
    },
    "r": {
     "delete_cmd_postfix": ") ",
     "delete_cmd_prefix": "rm(",
     "library": "var_list.r",
     "varRefreshCmd": "cat(var_dic_list()) "
    }
   },
   "types_to_exclude": [
    "module",
    "function",
    "builtin_function_or_method",
    "instance",
    "_Feature"
   ],
   "window_display": false
  }
 },
 "nbformat": 4,
 "nbformat_minor": 4
}
