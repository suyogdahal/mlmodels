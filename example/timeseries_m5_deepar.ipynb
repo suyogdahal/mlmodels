{
  "nbformat": 4,
  "nbformat_minor": 0,
  "metadata": {
    "colab": {
      "name": "benchmark_timeseries_m5_usingFunctions.ipynb",
      "provenance": [],
      "include_colab_link": true
    },
    "kernelspec": {
      "name": "python3",
      "display_name": "Python 3"
    },
    "widgets": {
      "application/vnd.jupyter.widget-state+json": {
        "4225a5edd6ba4ecca6dd24bd5efbc940": {
          "model_module": "@jupyter-widgets/controls",
          "model_name": "HBoxModel",
          "state": {
            "_view_name": "HBoxView",
            "_dom_classes": [],
            "_model_name": "HBoxModel",
            "_view_module": "@jupyter-widgets/controls",
            "_model_module_version": "1.5.0",
            "_view_count": null,
            "_view_module_version": "1.5.0",
            "box_style": "",
            "layout": "IPY_MODEL_cd9adcb0f4234f41adb92f8a8c90778c",
            "_model_module": "@jupyter-widgets/controls",
            "children": [
              "IPY_MODEL_f4c7f2bbd1c54d73b86bf273d34bc8de",
              "IPY_MODEL_34474198a933482cbca14bd77a63549d"
            ]
          }
        },
        "cd9adcb0f4234f41adb92f8a8c90778c": {
          "model_module": "@jupyter-widgets/base",
          "model_name": "LayoutModel",
          "state": {
            "_view_name": "LayoutView",
            "grid_template_rows": null,
            "right": null,
            "justify_content": null,
            "_view_module": "@jupyter-widgets/base",
            "overflow": null,
            "_model_module_version": "1.2.0",
            "_view_count": null,
            "flex_flow": null,
            "width": null,
            "min_width": null,
            "border": null,
            "align_items": null,
            "bottom": null,
            "_model_module": "@jupyter-widgets/base",
            "top": null,
            "grid_column": null,
            "overflow_y": null,
            "overflow_x": null,
            "grid_auto_flow": null,
            "grid_area": null,
            "grid_template_columns": null,
            "flex": null,
            "_model_name": "LayoutModel",
            "justify_items": null,
            "grid_row": null,
            "max_height": null,
            "align_content": null,
            "visibility": null,
            "align_self": null,
            "height": null,
            "min_height": null,
            "padding": null,
            "grid_auto_rows": null,
            "grid_gap": null,
            "max_width": null,
            "order": null,
            "_view_module_version": "1.2.0",
            "grid_template_areas": null,
            "object_position": null,
            "object_fit": null,
            "grid_auto_columns": null,
            "margin": null,
            "display": null,
            "left": null
          }
        },
        "f4c7f2bbd1c54d73b86bf273d34bc8de": {
          "model_module": "@jupyter-widgets/controls",
          "model_name": "FloatProgressModel",
          "state": {
            "_view_name": "ProgressView",
            "style": "IPY_MODEL_2e7ab0e897074f41a79333b3bd14a080",
            "_dom_classes": [],
            "description": "100%",
            "_model_name": "FloatProgressModel",
            "bar_style": "success",
            "max": 30490,
            "_view_module": "@jupyter-widgets/controls",
            "_model_module_version": "1.5.0",
            "value": 30490,
            "_view_count": null,
            "_view_module_version": "1.5.0",
            "orientation": "horizontal",
            "min": 0,
            "description_tooltip": null,
            "_model_module": "@jupyter-widgets/controls",
            "layout": "IPY_MODEL_a299aadcad5a4c53ab8a82ed8bdb5038"
          }
        },
        "34474198a933482cbca14bd77a63549d": {
          "model_module": "@jupyter-widgets/controls",
          "model_name": "HTMLModel",
          "state": {
            "_view_name": "HTMLView",
            "style": "IPY_MODEL_2ed3c7f8bedf4a608aa3c803b662a0e4",
            "_dom_classes": [],
            "description": "",
            "_model_name": "HTMLModel",
            "placeholder": "​",
            "_view_module": "@jupyter-widgets/controls",
            "_model_module_version": "1.5.0",
            "value": " 30490/30490 [59:00&lt;00:00,  8.61it/s]",
            "_view_count": null,
            "_view_module_version": "1.5.0",
            "description_tooltip": null,
            "_model_module": "@jupyter-widgets/controls",
            "layout": "IPY_MODEL_ee926073e8f6452dbcc07aaa748da997"
          }
        },
        "2e7ab0e897074f41a79333b3bd14a080": {
          "model_module": "@jupyter-widgets/controls",
          "model_name": "ProgressStyleModel",
          "state": {
            "_view_name": "StyleView",
            "_model_name": "ProgressStyleModel",
            "description_width": "initial",
            "_view_module": "@jupyter-widgets/base",
            "_model_module_version": "1.5.0",
            "_view_count": null,
            "_view_module_version": "1.2.0",
            "bar_color": null,
            "_model_module": "@jupyter-widgets/controls"
          }
        },
        "a299aadcad5a4c53ab8a82ed8bdb5038": {
          "model_module": "@jupyter-widgets/base",
          "model_name": "LayoutModel",
          "state": {
            "_view_name": "LayoutView",
            "grid_template_rows": null,
            "right": null,
            "justify_content": null,
            "_view_module": "@jupyter-widgets/base",
            "overflow": null,
            "_model_module_version": "1.2.0",
            "_view_count": null,
            "flex_flow": null,
            "width": null,
            "min_width": null,
            "border": null,
            "align_items": null,
            "bottom": null,
            "_model_module": "@jupyter-widgets/base",
            "top": null,
            "grid_column": null,
            "overflow_y": null,
            "overflow_x": null,
            "grid_auto_flow": null,
            "grid_area": null,
            "grid_template_columns": null,
            "flex": null,
            "_model_name": "LayoutModel",
            "justify_items": null,
            "grid_row": null,
            "max_height": null,
            "align_content": null,
            "visibility": null,
            "align_self": null,
            "height": null,
            "min_height": null,
            "padding": null,
            "grid_auto_rows": null,
            "grid_gap": null,
            "max_width": null,
            "order": null,
            "_view_module_version": "1.2.0",
            "grid_template_areas": null,
            "object_position": null,
            "object_fit": null,
            "grid_auto_columns": null,
            "margin": null,
            "display": null,
            "left": null
          }
        },
        "2ed3c7f8bedf4a608aa3c803b662a0e4": {
          "model_module": "@jupyter-widgets/controls",
          "model_name": "DescriptionStyleModel",
          "state": {
            "_view_name": "StyleView",
            "_model_name": "DescriptionStyleModel",
            "description_width": "",
            "_view_module": "@jupyter-widgets/base",
            "_model_module_version": "1.5.0",
            "_view_count": null,
            "_view_module_version": "1.2.0",
            "_model_module": "@jupyter-widgets/controls"
          }
        },
        "ee926073e8f6452dbcc07aaa748da997": {
          "model_module": "@jupyter-widgets/base",
          "model_name": "LayoutModel",
          "state": {
            "_view_name": "LayoutView",
            "grid_template_rows": null,
            "right": null,
            "justify_content": null,
            "_view_module": "@jupyter-widgets/base",
            "overflow": null,
            "_model_module_version": "1.2.0",
            "_view_count": null,
            "flex_flow": null,
            "width": null,
            "min_width": null,
            "border": null,
            "align_items": null,
            "bottom": null,
            "_model_module": "@jupyter-widgets/base",
            "top": null,
            "grid_column": null,
            "overflow_y": null,
            "overflow_x": null,
            "grid_auto_flow": null,
            "grid_area": null,
            "grid_template_columns": null,
            "flex": null,
            "_model_name": "LayoutModel",
            "justify_items": null,
            "grid_row": null,
            "max_height": null,
            "align_content": null,
            "visibility": null,
            "align_self": null,
            "height": null,
            "min_height": null,
            "padding": null,
            "grid_auto_rows": null,
            "grid_gap": null,
            "max_width": null,
            "order": null,
            "_view_module_version": "1.2.0",
            "grid_template_areas": null,
            "object_position": null,
            "object_fit": null,
            "grid_auto_columns": null,
            "margin": null,
            "display": null,
            "left": null
          }
        },
        "b76c3a16d2b04749b5429b1517b67de3": {
          "model_module": "@jupyter-widgets/controls",
          "model_name": "HBoxModel",
          "state": {
            "_view_name": "HBoxView",
            "_dom_classes": [],
            "_model_name": "HBoxModel",
            "_view_module": "@jupyter-widgets/controls",
            "_model_module_version": "1.5.0",
            "_view_count": null,
            "_view_module_version": "1.5.0",
            "box_style": "",
            "layout": "IPY_MODEL_6143c4b4c6ff4ef1a24bd522e87e8cce",
            "_model_module": "@jupyter-widgets/controls",
            "children": [
              "IPY_MODEL_9e31f2efee794084ad9a5a3bd2452597",
              "IPY_MODEL_cb1c1768984645cb9b7f9d16d5859904"
            ]
          }
        },
        "6143c4b4c6ff4ef1a24bd522e87e8cce": {
          "model_module": "@jupyter-widgets/base",
          "model_name": "LayoutModel",
          "state": {
            "_view_name": "LayoutView",
            "grid_template_rows": null,
            "right": null,
            "justify_content": null,
            "_view_module": "@jupyter-widgets/base",
            "overflow": null,
            "_model_module_version": "1.2.0",
            "_view_count": null,
            "flex_flow": null,
            "width": null,
            "min_width": null,
            "border": null,
            "align_items": null,
            "bottom": null,
            "_model_module": "@jupyter-widgets/base",
            "top": null,
            "grid_column": null,
            "overflow_y": null,
            "overflow_x": null,
            "grid_auto_flow": null,
            "grid_area": null,
            "grid_template_columns": null,
            "flex": null,
            "_model_name": "LayoutModel",
            "justify_items": null,
            "grid_row": null,
            "max_height": null,
            "align_content": null,
            "visibility": null,
            "align_self": null,
            "height": null,
            "min_height": null,
            "padding": null,
            "grid_auto_rows": null,
            "grid_gap": null,
            "max_width": null,
            "order": null,
            "_view_module_version": "1.2.0",
            "grid_template_areas": null,
            "object_position": null,
            "object_fit": null,
            "grid_auto_columns": null,
            "margin": null,
            "display": null,
            "left": null
          }
        },
        "9e31f2efee794084ad9a5a3bd2452597": {
          "model_module": "@jupyter-widgets/controls",
          "model_name": "FloatProgressModel",
          "state": {
            "_view_name": "ProgressView",
            "style": "IPY_MODEL_1208260cf0c6491c88843b2ec1aeec9c",
            "_dom_classes": [],
            "description": "100%",
            "_model_name": "FloatProgressModel",
            "bar_style": "success",
            "max": 30490,
            "_view_module": "@jupyter-widgets/controls",
            "_model_module_version": "1.5.0",
            "value": 30490,
            "_view_count": null,
            "_view_module_version": "1.5.0",
            "orientation": "horizontal",
            "min": 0,
            "description_tooltip": null,
            "_model_module": "@jupyter-widgets/controls",
            "layout": "IPY_MODEL_43f60b30a6c84962929cba830e5c3e64"
          }
        },
        "cb1c1768984645cb9b7f9d16d5859904": {
          "model_module": "@jupyter-widgets/controls",
          "model_name": "HTMLModel",
          "state": {
            "_view_name": "HTMLView",
            "style": "IPY_MODEL_8522ea891fed4169a307d1ea388df93b",
            "_dom_classes": [],
            "description": "",
            "_model_name": "HTMLModel",
            "placeholder": "​",
            "_view_module": "@jupyter-widgets/controls",
            "_model_module_version": "1.5.0",
            "value": " 30490/30490 [1:33:33&lt;00:00,  5.43it/s]",
            "_view_count": null,
            "_view_module_version": "1.5.0",
            "description_tooltip": null,
            "_model_module": "@jupyter-widgets/controls",
            "layout": "IPY_MODEL_efb28c85af324193b1823a7ea606cec4"
          }
        },
        "1208260cf0c6491c88843b2ec1aeec9c": {
          "model_module": "@jupyter-widgets/controls",
          "model_name": "ProgressStyleModel",
          "state": {
            "_view_name": "StyleView",
            "_model_name": "ProgressStyleModel",
            "description_width": "initial",
            "_view_module": "@jupyter-widgets/base",
            "_model_module_version": "1.5.0",
            "_view_count": null,
            "_view_module_version": "1.2.0",
            "bar_color": null,
            "_model_module": "@jupyter-widgets/controls"
          }
        },
        "43f60b30a6c84962929cba830e5c3e64": {
          "model_module": "@jupyter-widgets/base",
          "model_name": "LayoutModel",
          "state": {
            "_view_name": "LayoutView",
            "grid_template_rows": null,
            "right": null,
            "justify_content": null,
            "_view_module": "@jupyter-widgets/base",
            "overflow": null,
            "_model_module_version": "1.2.0",
            "_view_count": null,
            "flex_flow": null,
            "width": null,
            "min_width": null,
            "border": null,
            "align_items": null,
            "bottom": null,
            "_model_module": "@jupyter-widgets/base",
            "top": null,
            "grid_column": null,
            "overflow_y": null,
            "overflow_x": null,
            "grid_auto_flow": null,
            "grid_area": null,
            "grid_template_columns": null,
            "flex": null,
            "_model_name": "LayoutModel",
            "justify_items": null,
            "grid_row": null,
            "max_height": null,
            "align_content": null,
            "visibility": null,
            "align_self": null,
            "height": null,
            "min_height": null,
            "padding": null,
            "grid_auto_rows": null,
            "grid_gap": null,
            "max_width": null,
            "order": null,
            "_view_module_version": "1.2.0",
            "grid_template_areas": null,
            "object_position": null,
            "object_fit": null,
            "grid_auto_columns": null,
            "margin": null,
            "display": null,
            "left": null
          }
        },
        "8522ea891fed4169a307d1ea388df93b": {
          "model_module": "@jupyter-widgets/controls",
          "model_name": "DescriptionStyleModel",
          "state": {
            "_view_name": "StyleView",
            "_model_name": "DescriptionStyleModel",
            "description_width": "",
            "_view_module": "@jupyter-widgets/base",
            "_model_module_version": "1.5.0",
            "_view_count": null,
            "_view_module_version": "1.2.0",
            "_model_module": "@jupyter-widgets/controls"
          }
        },
        "efb28c85af324193b1823a7ea606cec4": {
          "model_module": "@jupyter-widgets/base",
          "model_name": "LayoutModel",
          "state": {
            "_view_name": "LayoutView",
            "grid_template_rows": null,
            "right": null,
            "justify_content": null,
            "_view_module": "@jupyter-widgets/base",
            "overflow": null,
            "_model_module_version": "1.2.0",
            "_view_count": null,
            "flex_flow": null,
            "width": null,
            "min_width": null,
            "border": null,
            "align_items": null,
            "bottom": null,
            "_model_module": "@jupyter-widgets/base",
            "top": null,
            "grid_column": null,
            "overflow_y": null,
            "overflow_x": null,
            "grid_auto_flow": null,
            "grid_area": null,
            "grid_template_columns": null,
            "flex": null,
            "_model_name": "LayoutModel",
            "justify_items": null,
            "grid_row": null,
            "max_height": null,
            "align_content": null,
            "visibility": null,
            "align_self": null,
            "height": null,
            "min_height": null,
            "padding": null,
            "grid_auto_rows": null,
            "grid_gap": null,
            "max_width": null,
            "order": null,
            "_view_module_version": "1.2.0",
            "grid_template_areas": null,
            "object_position": null,
            "object_fit": null,
            "grid_auto_columns": null,
            "margin": null,
            "display": null,
            "left": null
          }
        },
        "564e699414864098ae95ef2d6705891e": {
          "model_module": "@jupyter-widgets/controls",
          "model_name": "HBoxModel",
          "state": {
            "_view_name": "HBoxView",
            "_dom_classes": [],
            "_model_name": "HBoxModel",
            "_view_module": "@jupyter-widgets/controls",
            "_model_module_version": "1.5.0",
            "_view_count": null,
            "_view_module_version": "1.5.0",
            "box_style": "",
            "layout": "IPY_MODEL_f69cb27f44904afe8c649d7b29eeca97",
            "_model_module": "@jupyter-widgets/controls",
            "children": [
              "IPY_MODEL_3f02a385d1d24cd6a845c2a648a3692b",
              "IPY_MODEL_566ea5d2fe4c4b39b388a3512b30e855"
            ]
          }
        },
        "f69cb27f44904afe8c649d7b29eeca97": {
          "model_module": "@jupyter-widgets/base",
          "model_name": "LayoutModel",
          "state": {
            "_view_name": "LayoutView",
            "grid_template_rows": null,
            "right": null,
            "justify_content": null,
            "_view_module": "@jupyter-widgets/base",
            "overflow": null,
            "_model_module_version": "1.2.0",
            "_view_count": null,
            "flex_flow": null,
            "width": null,
            "min_width": null,
            "border": null,
            "align_items": null,
            "bottom": null,
            "_model_module": "@jupyter-widgets/base",
            "top": null,
            "grid_column": null,
            "overflow_y": null,
            "overflow_x": null,
            "grid_auto_flow": null,
            "grid_area": null,
            "grid_template_columns": null,
            "flex": null,
            "_model_name": "LayoutModel",
            "justify_items": null,
            "grid_row": null,
            "max_height": null,
            "align_content": null,
            "visibility": null,
            "align_self": null,
            "height": null,
            "min_height": null,
            "padding": null,
            "grid_auto_rows": null,
            "grid_gap": null,
            "max_width": null,
            "order": null,
            "_view_module_version": "1.2.0",
            "grid_template_areas": null,
            "object_position": null,
            "object_fit": null,
            "grid_auto_columns": null,
            "margin": null,
            "display": null,
            "left": null
          }
        },
        "3f02a385d1d24cd6a845c2a648a3692b": {
          "model_module": "@jupyter-widgets/controls",
          "model_name": "FloatProgressModel",
          "state": {
            "_view_name": "ProgressView",
            "style": "IPY_MODEL_ce0b3fe17df44ee5b1512cb8d8a95c9f",
            "_dom_classes": [],
            "description": "100%",
            "_model_name": "FloatProgressModel",
            "bar_style": "success",
            "max": 5,
            "_view_module": "@jupyter-widgets/controls",
            "_model_module_version": "1.5.0",
            "value": 5,
            "_view_count": null,
            "_view_module_version": "1.5.0",
            "orientation": "horizontal",
            "min": 0,
            "description_tooltip": null,
            "_model_module": "@jupyter-widgets/controls",
            "layout": "IPY_MODEL_0717f8aa946c4b88940c075febb7c654"
          }
        },
        "566ea5d2fe4c4b39b388a3512b30e855": {
          "model_module": "@jupyter-widgets/controls",
          "model_name": "HTMLModel",
          "state": {
            "_view_name": "HTMLView",
            "style": "IPY_MODEL_6fcd10e6a4ac41bf94e8945b4e2abe82",
            "_dom_classes": [],
            "description": "",
            "_model_name": "HTMLModel",
            "placeholder": "​",
            "_view_module": "@jupyter-widgets/controls",
            "_model_module_version": "1.5.0",
            "value": " 5/5 [00:02&lt;00:00,  1.76it/s]",
            "_view_count": null,
            "_view_module_version": "1.5.0",
            "description_tooltip": null,
            "_model_module": "@jupyter-widgets/controls",
            "layout": "IPY_MODEL_c3ab6ada2c24437b95ec30dc93950902"
          }
        },
        "ce0b3fe17df44ee5b1512cb8d8a95c9f": {
          "model_module": "@jupyter-widgets/controls",
          "model_name": "ProgressStyleModel",
          "state": {
            "_view_name": "StyleView",
            "_model_name": "ProgressStyleModel",
            "description_width": "initial",
            "_view_module": "@jupyter-widgets/base",
            "_model_module_version": "1.5.0",
            "_view_count": null,
            "_view_module_version": "1.2.0",
            "bar_color": null,
            "_model_module": "@jupyter-widgets/controls"
          }
        },
        "0717f8aa946c4b88940c075febb7c654": {
          "model_module": "@jupyter-widgets/base",
          "model_name": "LayoutModel",
          "state": {
            "_view_name": "LayoutView",
            "grid_template_rows": null,
            "right": null,
            "justify_content": null,
            "_view_module": "@jupyter-widgets/base",
            "overflow": null,
            "_model_module_version": "1.2.0",
            "_view_count": null,
            "flex_flow": null,
            "width": null,
            "min_width": null,
            "border": null,
            "align_items": null,
            "bottom": null,
            "_model_module": "@jupyter-widgets/base",
            "top": null,
            "grid_column": null,
            "overflow_y": null,
            "overflow_x": null,
            "grid_auto_flow": null,
            "grid_area": null,
            "grid_template_columns": null,
            "flex": null,
            "_model_name": "LayoutModel",
            "justify_items": null,
            "grid_row": null,
            "max_height": null,
            "align_content": null,
            "visibility": null,
            "align_self": null,
            "height": null,
            "min_height": null,
            "padding": null,
            "grid_auto_rows": null,
            "grid_gap": null,
            "max_width": null,
            "order": null,
            "_view_module_version": "1.2.0",
            "grid_template_areas": null,
            "object_position": null,
            "object_fit": null,
            "grid_auto_columns": null,
            "margin": null,
            "display": null,
            "left": null
          }
        },
        "6fcd10e6a4ac41bf94e8945b4e2abe82": {
          "model_module": "@jupyter-widgets/controls",
          "model_name": "DescriptionStyleModel",
          "state": {
            "_view_name": "StyleView",
            "_model_name": "DescriptionStyleModel",
            "description_width": "",
            "_view_module": "@jupyter-widgets/base",
            "_model_module_version": "1.5.0",
            "_view_count": null,
            "_view_module_version": "1.2.0",
            "_model_module": "@jupyter-widgets/controls"
          }
        },
        "c3ab6ada2c24437b95ec30dc93950902": {
          "model_module": "@jupyter-widgets/base",
          "model_name": "LayoutModel",
          "state": {
            "_view_name": "LayoutView",
            "grid_template_rows": null,
            "right": null,
            "justify_content": null,
            "_view_module": "@jupyter-widgets/base",
            "overflow": null,
            "_model_module_version": "1.2.0",
            "_view_count": null,
            "flex_flow": null,
            "width": null,
            "min_width": null,
            "border": null,
            "align_items": null,
            "bottom": null,
            "_model_module": "@jupyter-widgets/base",
            "top": null,
            "grid_column": null,
            "overflow_y": null,
            "overflow_x": null,
            "grid_auto_flow": null,
            "grid_area": null,
            "grid_template_columns": null,
            "flex": null,
            "_model_name": "LayoutModel",
            "justify_items": null,
            "grid_row": null,
            "max_height": null,
            "align_content": null,
            "visibility": null,
            "align_self": null,
            "height": null,
            "min_height": null,
            "padding": null,
            "grid_auto_rows": null,
            "grid_gap": null,
            "max_width": null,
            "order": null,
            "_view_module_version": "1.2.0",
            "grid_template_areas": null,
            "object_position": null,
            "object_fit": null,
            "grid_auto_columns": null,
            "margin": null,
            "display": null,
            "left": null
          }
        }
      }
    }
  },
  "cells": [
    {
      "cell_type": "markdown",
      "metadata": {
        "id": "view-in-github",
        "colab_type": "text"
      },
      "source": [
        "<a href=\"https://colab.research.google.com/github/arita37/mlmodels/blob/dev/mlmodels/example/timeseries_m5_deepar.ipynb\" target=\"_parent\"><img src=\"https://colab.research.google.com/assets/colab-badge.svg\" alt=\"Open In Colab\"/></a>"
      ]
    },
    {
      "cell_type": "code",
      "metadata": {
        "id": "h5Npqzg_iCY-",
        "colab_type": "code",
        "colab": {}
      },
      "source": [
        "#### Install MLMODELS in Colab\n",
        "%%capture\n",
        "!  bash <(wget -qO- https://cutt.ly/mlmodels)\n",
        "!pip install pydantic==1.4 --force\n",
        "\n",
        "### Restart Runtime AFTER Install\n",
        "import os, time\n",
        "os.kill(os.getpid(), 9)"
      ],
      "execution_count": 0,
      "outputs": []
    },
    {
      "cell_type": "code",
      "metadata": {
        "id": "O5NDf0ETkFiV",
        "colab_type": "code",
        "outputId": "1f238738-3fe6-48b5-9d77-13d00961aa4e",
        "colab": {
          "base_uri": "https://localhost:8080/",
          "height": 71
        }
      },
      "source": [
        "# %matplotlib inline\n",
        "import mxnet as mx\n",
        "from mxnet import gluon\n",
        "import numpy as np\n",
        "import pandas as pd\n",
        "import matplotlib.pyplot as plt\n",
        "import os\n",
        "from tqdm.autonotebook import tqdm\n",
        "from pathlib import Path"
      ],
      "execution_count": 0,
      "outputs": [
        {
          "output_type": "stream",
          "text": [
            "/usr/local/lib/python3.6/dist-packages/ipykernel_launcher.py:8: TqdmExperimentalWarning: Using `tqdm.autonotebook.tqdm` in notebook mode. Use `tqdm.tqdm` instead to force console mode (e.g. in jupyter console)\n",
            "  \n"
          ],
          "name": "stderr"
        }
      ]
    },
    {
      "cell_type": "code",
      "metadata": {
        "id": "_vn85p3vkSfz",
        "colab_type": "code",
        "colab": {}
      },
      "source": [
        "########################\n",
        "single_pred_length = 28\n",
        "submission_pred_length = single_pred_length * 2\n",
        "m5_input_path=\"./m5-forecasting-accuracy\"\n",
        "submission=True\n",
        "\n",
        "if submission:\n",
        "    pred_length = submission_pred_length\n",
        "else:\n",
        "    pred_length = single_pred_length\n"
      ],
      "execution_count": 0,
      "outputs": []
    },
    {
      "cell_type": "code",
      "metadata": {
        "id": "TT7FKtm-j9sR",
        "colab_type": "code",
        "outputId": "95fbc77a-9db3-4552-e573-e7525c503c83",
        "colab": {
          "base_uri": "https://localhost:8080/",
          "height": 123
        }
      },
      "source": [
        "# Load the Drive helper and mount\n",
        "from google.colab import drive\n",
        "\n",
        "# This will prompt for authorization.\n",
        "drive.mount('/content/drive/')\n",
        "#Working directory\n",
        "\n",
        "os.chdir(\"/content/drive/My Drive/Colab Notebooks\")"
      ],
      "execution_count": 0,
      "outputs": [
        {
          "output_type": "stream",
          "text": [
            "Go to this URL in a browser: https://accounts.google.com/o/oauth2/auth?client_id=947318989803-6bn6qk8qdgf4n4g3pfee6491hc0brc4i.apps.googleusercontent.com&redirect_uri=urn%3aietf%3awg%3aoauth%3a2.0%3aoob&response_type=code&scope=email%20https%3a%2f%2fwww.googleapis.com%2fauth%2fdocs.test%20https%3a%2f%2fwww.googleapis.com%2fauth%2fdrive%20https%3a%2f%2fwww.googleapis.com%2fauth%2fdrive.photos.readonly%20https%3a%2f%2fwww.googleapis.com%2fauth%2fpeopleapi.readonly\n",
            "\n",
            "Enter your authorization code:\n",
            "··········\n",
            "Mounted at /content/drive/\n"
          ],
          "name": "stdout"
        }
      ]
    },
    {
      "cell_type": "code",
      "metadata": {
        "id": "g9w3PMqPj8kB",
        "colab_type": "code",
        "colab": {}
      },
      "source": [
        "#load data\n",
        "data_folder=\"kaggle_data\"\n",
        "calendar               = pd.read_csv(data_folder+'/calendar.csv')\n",
        "sales_train_val        = pd.read_csv(data_folder+'/sales_train_validation.csv.zip')\n",
        "sample_submission      = pd.read_csv(data_folder+'/sample_submission.csv.zip')\n",
        "sell_prices            = pd.read_csv(data_folder+'/sell_prices.csv.zip')\n"
      ],
      "execution_count": 0,
      "outputs": []
    },
    {
      "cell_type": "code",
      "metadata": {
        "id": "dHTdNhxgSYqi",
        "colab_type": "code",
        "colab": {}
      },
      "source": [
        "cal_feat = calendar.drop(\n",
        "    ['date', 'wm_yr_wk', 'weekday', 'wday', 'month', 'year', 'event_name_1', 'event_name_2', 'd'], \n",
        "    axis=1\n",
        ")\n",
        "cal_feat['event_type_1'] = cal_feat['event_type_1'].apply(lambda x: 0 if str(x)==\"nan\" else 1)\n",
        "cal_feat['event_type_2'] = cal_feat['event_type_2'].apply(lambda x: 0 if str(x)==\"nan\" else 1)\n",
        "test_cal_feat = cal_feat.values.T\n",
        "if submission:\n",
        "    train_cal_feat = test_cal_feat[:,:-submission_pred_length]\n",
        "else:\n",
        "    train_cal_feat = test_cal_feat[:,:-submission_pred_length-single_pred_length]\n",
        "    test_cal_feat  = test_cal_feat[:,:-submission_pred_length]\n",
        "#### List of individual time series   Nb Series x Lenght_time_series\n",
        "test_cal_feat_list  = [test_cal_feat] * len(sales_train_val)\n",
        "train_cal_feat_list = [train_cal_feat] * len(sales_train_val)"
      ],
      "execution_count": 0,
      "outputs": []
    },
    {
      "cell_type": "markdown",
      "metadata": {
        "id": "nwWfwHO8lUbV",
        "colab_type": "text"
      },
      "source": [
        "We then go on to build static features (features which are constant and series-specific).\n",
        " Here, we make use of all categorical features that are provided to us as part of the M5 data."
      ]
    },
    {
      "cell_type": "code",
      "metadata": {
        "id": "ysLL9i7BRr9x",
        "colab_type": "code",
        "colab": {}
      },
      "source": [
        "\n",
        "\"\"\"\n",
        "####### Static Features \n",
        "\"\"\"\n",
        "state_ids                       = sales_train_val[\"state_id\"].astype('category').cat.codes.values\n",
        "state_ids_un , state_ids_counts = np.unique(state_ids, return_counts=True)\n",
        "store_ids                       = sales_train_val[\"store_id\"].astype('category').cat.codes.values\n",
        "store_ids_un , store_ids_counts = np.unique(store_ids, return_counts=True)\n",
        "cat_ids                         = sales_train_val[\"cat_id\"].astype('category').cat.codes.values\n",
        "cat_ids_un , cat_ids_counts     = np.unique(cat_ids, return_counts=True)\n",
        "dept_ids                        = sales_train_val[\"dept_id\"].astype('category').cat.codes.values\n",
        "dept_ids_un , dept_ids_counts   = np.unique(dept_ids, return_counts=True)\n",
        "item_ids                        = sales_train_val[\"item_id\"].astype('category').cat.codes.values\n",
        "item_ids_un , item_ids_counts   = np.unique(item_ids, return_counts=True)"
      ],
      "execution_count": 0,
      "outputs": []
    },
    {
      "cell_type": "code",
      "metadata": {
        "id": "brhKzhtoVSZg",
        "colab_type": "code",
        "colab": {}
      },
      "source": [
        "##### Static Features \n",
        "static_cat_list          = [item_ids, dept_ids, cat_ids, store_ids, state_ids]\n",
        "static_cat               = np.concatenate(static_cat_list)\n",
        "static_cat               = static_cat.reshape(len(static_cat_list), len(item_ids)).T\n",
        "static_cat_cardinalities = [len(item_ids_un), len(dept_ids_un), len(cat_ids_un), len(store_ids_un), len(state_ids_un)]"
      ],
      "execution_count": 0,
      "outputs": []
    },
    {
      "cell_type": "code",
      "metadata": {
        "id": "oJVa-q1DX5Bh",
        "colab_type": "code",
        "colab": {}
      },
      "source": [
        "from gluonts.dataset.common import load_datasets, ListDataset\n",
        "from gluonts.dataset.field_names import FieldName"
      ],
      "execution_count": 0,
      "outputs": []
    },
    {
      "cell_type": "code",
      "metadata": {
        "id": "_5NYOtLrmd6b",
        "colab_type": "code",
        "colab": {}
      },
      "source": [
        "#### Remove Categories colum\n",
        "train_df            = sales_train_val.drop([\"id\",\"item_id\",\"dept_id\",\"cat_id\",\"store_id\",\"state_id\"], axis=1)\n",
        "train_target_values = train_df.values\n",
        "if submission == True:\n",
        "    test_target_values = [np.append(ts, np.ones(submission_pred_length) * np.nan) for ts in train_df.values]\n",
        "else:\n",
        "    #### List of individual timeseries\n",
        "    test_target_values  = train_target_values.copy()\n",
        "    train_target_values = [ts[:-single_pred_length] for ts in train_df.values]"
      ],
      "execution_count": 0,
      "outputs": []
    },
    {
      "cell_type": "code",
      "metadata": {
        "id": "IkgJ8y05mhji",
        "colab_type": "code",
        "colab": {}
      },
      "source": [
        "#### Start Dates for each time series\n",
        "m5_dates = [pd.Timestamp(\"2011-01-29\", freq='D') for _ in range(len(sales_train_val))]"
      ],
      "execution_count": 0,
      "outputs": []
    },
    {
      "cell_type": "code",
      "metadata": {
        "id": "aM_cbQTQmk-W",
        "colab_type": "code",
        "colab": {}
      },
      "source": [
        "### THESE train_ds and test_ds are working currently\n",
        "train_ds = ListDataset([\n",
        "    {\n",
        "        FieldName.TARGET            : target,\n",
        "        FieldName.START             : start,\n",
        "        FieldName.FEAT_DYNAMIC_REAL : fdr,\n",
        "        FieldName.FEAT_STATIC_CAT   : fsc\n",
        "    } for (target, start, fdr, fsc) in zip(train_target_values,   # list of individual time series\n",
        "                                           m5_dates,              # list of start dates\n",
        "                                           train_cal_feat_list,   # List of Dynamic Features\n",
        "                                           static_cat)              # List of Static Features \n",
        "    ],     freq=\"D\")\n",
        "test_ds = ListDataset([\n",
        "    {\n",
        "        FieldName.TARGET            : target,\n",
        "        FieldName.START             : start,\n",
        "        FieldName.FEAT_DYNAMIC_REAL : fdr,\n",
        "        FieldName.FEAT_STATIC_CAT   : fsc\n",
        "    }\n",
        "    for (target, start, fdr, fsc) in zip(test_target_values,\n",
        "                                         m5_dates,\n",
        "                                         test_cal_feat_list,\n",
        "                                         static_cat)\n",
        "], freq=\"D\")"
      ],
      "execution_count": 0,
      "outputs": []
    },
    {
      "cell_type": "code",
      "metadata": {
        "id": "6KUNwOBkmpqS",
        "colab_type": "code",
        "outputId": "e7e65d95-e316-49f4-a2ef-f0fef86b7047",
        "colab": {
          "base_uri": "https://localhost:8080/",
          "height": 172
        }
      },
      "source": [
        "#Just to be sure, we quickly verify that dataset format is correct and that our dataset does indeed \n",
        "# contain the correct target values as well as dynamic and static features.\n",
        "########################\n",
        "next(iter(test_ds))\n"
      ],
      "execution_count": 0,
      "outputs": [
        {
          "output_type": "execute_result",
          "data": {
            "text/plain": [
              "{'feat_dynamic_real': array([[0., 0., 0., ..., 0., 0., 1.],\n",
              "        [0., 0., 0., ..., 0., 0., 1.],\n",
              "        [0., 0., 0., ..., 0., 0., 0.],\n",
              "        [0., 0., 0., ..., 0., 0., 0.],\n",
              "        [0., 0., 0., ..., 0., 0., 0.]], dtype=float32),\n",
              " 'feat_static_cat': array([1437,    3,    1,    0,    0], dtype=int32),\n",
              " 'source': SourceContext(source='list_data', row=1),\n",
              " 'start': Timestamp('2011-01-29 00:00:00', freq='D'),\n",
              " 'target': array([ 0.,  0.,  0., ..., nan, nan, nan], dtype=float32)}"
            ]
          },
          "metadata": {
            "tags": []
          },
          "execution_count": 12
        }
      ]
    },
    {
      "cell_type": "code",
      "metadata": {
        "id": "ZD8BGkFZmtry",
        "colab_type": "code",
        "colab": {}
      },
      "source": [
        "def gluonts_create_dynamic(df_dynamic, submission=True, single_pred_length=28, submission_pred_length=10, n_timeseries=1, transpose=1) :\n",
        "    \"\"\"\n",
        "        N_cat x N-timseries\n",
        "    \"\"\"\n",
        "    v = df_dynamic.values.T if transpose else df_dynamic.values\n",
        "    if submission==True:\n",
        "      train_cal_feat = v[:,:-submission_pred_length]\n",
        "      test_cal_feat  = v\n",
        "    else:\n",
        "      train_cal_feat = v[:,:-submission_pred_length-single_pred_length]\n",
        "      test_cal_feat  = v[:,:-submission_pred_length]\n",
        "\n",
        "    #### List of individual time series   Nb Series x Lenght_time_series\n",
        "    test_list  = [test_cal_feat] * n_timeseries\n",
        "    train_list = [train_cal_feat] * n_timeseries\n",
        "    \n",
        "    return train_list, test_list\n",
        "\n",
        "\n",
        "def gluonts_create_static(df_static, submission=1, single_pred_length=28, submission_pred_length=10, n_timeseries=1, transpose=1) :\n",
        "    \"\"\"\n",
        "        N_cat x N-timseries\n",
        "    \"\"\"\n",
        "    static_cat_list=[]\n",
        "    static_cat_cardinalities=[]\n",
        "    ####### Static Features \n",
        "    for col in df_static :\n",
        "      \n",
        "      v_col  = df_static[col].astype('category').cat.codes.values\n",
        "      static_cat_list.append(v_col)\n",
        "\n",
        "      _un ,_counts   = np.unique(v_col, return_counts=True)\n",
        "      static_cat_cardinalities.append(len(_un))\n",
        "\n",
        "   \n",
        "    static_cat               = np.concatenate(static_cat_list)\n",
        "   \n",
        "    static_cat               = static_cat.reshape(len(static_cat_list), len(df_static.index)).T\n",
        "    #print(static_cat.shape)\n",
        "    static_cat_cardinalities=np.array(static_cat_cardinalities)\n",
        "    #static_cat_cardinalities = [len(df_static[col].unique()) for col in df_static]\n",
        "    return static_cat, static_cat,static_cat_cardinalities\n",
        "\n",
        "    \n",
        "def gluonts_create_timeseries(df_timeseries, submission=1, single_pred_length=28, submission_pred_length=10, n_timeseries=1, transpose=1) :\n",
        "    \"\"\"\n",
        "        N_cat x N-timseries\n",
        "    \"\"\"\n",
        "    #### Remove Categories colum\n",
        "    train_target_values = df_timeseries.values\n",
        "\n",
        "    if submission == True:\n",
        "        test_target_values = [np.append(ts, np.ones(submission_pred_length) * np.nan) for ts in df_timeseries.values]\n",
        "\n",
        "\n",
        "    else:\n",
        "        #### List of individual timeseries\n",
        "        test_target_values  = train_target_values.copy()\n",
        "        train_target_values = [ts[:-single_pred_length] for ts in df_timeseries.values]\n",
        "  \n",
        "    return train_target_values, test_target_values\n"
      ],
      "execution_count": 0,
      "outputs": []
    },
    {
      "cell_type": "code",
      "metadata": {
        "id": "xOzbiVNcm1Da",
        "colab_type": "code",
        "colab": {}
      },
      "source": [
        "\n",
        "#### Start Dates for each time series\n",
        "def create_startdate(date=\"2011-01-29\", freq=\"1D\", n_timeseries=1):\n",
        "   start_dates_list = [pd.Timestamp(date, freq=freq) for _ in range(n_timeseries)]\n",
        "   return start_dates_list\n",
        "\n",
        "\n",
        "def gluonts_create_dataset(train_timeseries_list, start_dates_list, train_dynamic_list,  train_static_list, freq=\"D\" ) :\n",
        "    from gluonts.dataset.common import load_datasets, ListDataset\n",
        "    from gluonts.dataset.field_names import FieldName\n",
        "    \n",
        "    train_ds = ListDataset([\n",
        "        {\n",
        "            FieldName.TARGET            : target,\n",
        "            FieldName.START             : start,\n",
        "            FieldName.FEAT_DYNAMIC_REAL : fdr,\n",
        "            FieldName.FEAT_STATIC_CAT   : fsc\n",
        "        } for (target, start, fdr, fsc) in zip(train_timeseries_list,   # list of individual time series\n",
        "                                               start_dates_list,              # list of start dates\n",
        "                                               train_dynamic_list,   # List of Dynamic Features\n",
        "                                               train_static_list)              # List of Static Features \n",
        "        ],     freq=freq)\n",
        "    return train_ds\n"
      ],
      "execution_count": 0,
      "outputs": []
    },
    {
      "cell_type": "code",
      "metadata": {
        "id": "IPwjWS_5m4yQ",
        "colab_type": "code",
        "colab": {}
      },
      "source": [
        "\n",
        "######## Dataset generation\n",
        "\n",
        "cal_feat = calendar.drop( ['date', 'wm_yr_wk', 'weekday', 'wday', 'month', 'year', 'event_name_1', 'event_name_2', 'd'],  axis=1 )\n",
        "\n",
        "cal_feat['event_type_1'] = cal_feat['event_type_1'].apply(lambda x: 0 if str(x)==\"nan\" else 1)\n",
        "cal_feat['event_type_2'] = cal_feat['event_type_2'].apply(lambda x: 0 if str(x)==\"nan\" else 1)\n",
        "\n",
        "\n",
        "df_dynamic    = cal_feat\n",
        "df_static     = sales_train_val[[\"item_id\",\"dept_id\",\"cat_id\",\"store_id\",\"state_id\"]]\n",
        "\n",
        "df_timeseries = sales_train_val.drop([\"id\",\"item_id\",\"dept_id\",\"cat_id\",\"store_id\",\"state_id\"], axis=1)"
      ],
      "execution_count": 0,
      "outputs": []
    },
    {
      "cell_type": "code",
      "metadata": {
        "id": "OP8NVLizoNMU",
        "colab_type": "code",
        "colab": {}
      },
      "source": [
        "def pandas_to_gluonts_multiseries(df_timeseries, df_dynamic, df_static,pars={'submission':True,'single_pred_length':28,'submission_pred_length':10,'n_timeseries':1,'start_date':\"2011-01-29\",'freq':\"1D\"}) :\n",
        "    ###         NEW CODE    ######################\n",
        "    submission             = pars['submission']\n",
        "    single_pred_length     = pars['single_pred_length']\n",
        "    submission_pred_length = pars['submission_pred_length']\n",
        "    n_timeseries           = pars['n_timeseries']\n",
        "    start_date             = pars['start_date']\n",
        "    freq                   = pars['freq']\n",
        "    #start_date             = \"2011-01-29\"\n",
        "    ##########################################\n",
        "\n",
        "    train_dynamic_list, test_dynamic_list       = gluonts_create_dynamic(df_dynamic, submission=submission, single_pred_length=single_pred_length, \n",
        "                                                                         submission_pred_length=submission_pred_length, n_timeseries=n_timeseries, transpose=1)\n",
        "\n",
        "\n",
        "    train_static_list, test_static_list,cardinalities          = gluonts_create_static(df_static , submission=submission, single_pred_length=single_pred_length, \n",
        "                                                                         submission_pred_length=submission_pred_length, n_timeseries=n_timeseries, transpose=0)\n",
        "\n",
        "\n",
        "    train_timeseries_list, test_timeseries_list = gluonts_create_timeseries(df_timeseries, submission=submission, single_pred_length=single_pred_length, \n",
        "                                                                            submission_pred_length=submission_pred_length, n_timeseries=n_timeseries, transpose=0)\n",
        "\n",
        "    start_dates_list = create_startdate(date=start_date, freq=freq, n_timeseries=n_timeseries)\n",
        "\n",
        "    train_ds = gluonts_create_dataset(train_timeseries_list, start_dates_list, train_dynamic_list, train_static_list, freq=freq ) \n",
        "    test_ds  = gluonts_create_dataset(test_timeseries_list,  start_dates_list, test_dynamic_list,  test_static_list,  freq=freq ) \n",
        "    \n",
        "    return train_ds, test_ds,cardinalities"
      ],
      "execution_count": 0,
      "outputs": []
    },
    {
      "cell_type": "code",
      "metadata": {
        "id": "p3pItpkIoRPx",
        "colab_type": "code",
        "colab": {}
      },
      "source": [
        "##Set parameters of dataset\n",
        "single_pred_length     = 28\n",
        "submission_pred_length = single_pred_length * 2\n",
        "startdate              = \"2011-01-29\"\n",
        "freq                   = \"1D\"\n",
        "n_timeseries           = len(sales_train_val)\n",
        "pars                   ={'submission':submission,'single_pred_length':single_pred_length,'submission_pred_length':submission_pred_length,'n_timeseries':n_timeseries   ,'start_date':startdate ,'freq':freq}\n",
        "train_ds, test_ds,cardinalities   = pandas_to_gluonts_multiseries(df_timeseries, df_dynamic, df_static,pars) \n"
      ],
      "execution_count": 0,
      "outputs": []
    },
    {
      "cell_type": "code",
      "metadata": {
        "id": "dhs33KaO2P7Z",
        "colab_type": "code",
        "outputId": "d70e3f7b-df76-482d-91a3-4e96086c2b8c",
        "colab": {
          "base_uri": "https://localhost:8080/",
          "height": 172
        }
      },
      "source": [
        "#Just to be sure, we quickly verify that dataset format is correct and that our dataset does indeed \n",
        "# contain the correct target values as well as dynamic and static features.\n",
        "########################\n",
        "next(iter(test_ds))\n"
      ],
      "execution_count": 0,
      "outputs": [
        {
          "output_type": "execute_result",
          "data": {
            "text/plain": [
              "{'feat_dynamic_real': array([[0., 0., 0., ..., 0., 0., 1.],\n",
              "        [0., 0., 0., ..., 0., 0., 1.],\n",
              "        [0., 0., 0., ..., 0., 0., 0.],\n",
              "        [0., 0., 0., ..., 0., 0., 0.],\n",
              "        [0., 0., 0., ..., 0., 0., 0.]], dtype=float32),\n",
              " 'feat_static_cat': array([1437,    3,    1,    0,    0], dtype=int32),\n",
              " 'source': SourceContext(source='list_data', row=1),\n",
              " 'start': Timestamp('2011-01-29 00:00:00', freq='D'),\n",
              " 'target': array([ 0.,  0.,  0., ..., nan, nan, nan], dtype=float32)}"
            ]
          },
          "metadata": {
            "tags": []
          },
          "execution_count": 18
        }
      ]
    },
    {
      "cell_type": "code",
      "metadata": {
        "id": "kwfyH6xhIXYd",
        "colab_type": "code",
        "outputId": "2f88f6cb-573b-45ad-b7e7-a9c88f061027",
        "colab": {
          "base_uri": "https://localhost:8080/",
          "height": 1000
        }
      },
      "source": [
        "from gluonts.model.deepar import DeepAREstimator\n",
        "from gluonts.distribution.neg_binomial import NegativeBinomialOutput\n",
        "from gluonts.trainer import Trainer\n",
        "\n",
        "estimator = DeepAREstimator(\n",
        "    prediction_length     = pred_length,\n",
        "    freq                  = \"D\",\n",
        "    distr_output          = NegativeBinomialOutput(),\n",
        "    use_feat_dynamic_real = True,\n",
        "    use_feat_static_cat   = True,\n",
        "    cardinality           = list(cardinalities),\n",
        "    trainer               = Trainer(\n",
        "    learning_rate         = 1e-3,\n",
        "    epochs                = 100,\n",
        "    num_batches_per_epoch = 50,\n",
        "    batch_size            = 32\n",
        "    )\n",
        ")\n",
        "\n",
        "predictor = estimator.train(train_ds)"
      ],
      "execution_count": 0,
      "outputs": [
        {
          "output_type": "stream",
          "text": [
            "INFO:root:Using CPU\n",
            "INFO:root:Start model training\n",
            "INFO:root:Epoch[0] Learning rate is 0.001\n",
            "  0%|          | 0/50 [00:00<?, ?it/s]INFO:numexpr.utils:NumExpr defaulting to 2 threads.\n"
          ],
          "name": "stderr"
        },
        {
          "output_type": "stream",
          "text": [
            "learning rate from ``lr_scheduler`` has been overwritten by ``learning_rate`` in optimizer.\n"
          ],
          "name": "stdout"
        },
        {
          "output_type": "stream",
          "text": [
            "INFO:root:Number of parameters in DeepARTrainingNetwork: 189102\n",
            "100%|██████████| 50/50 [00:11<00:00,  4.48it/s, avg_epoch_loss=0.909]\n",
            "INFO:root:Epoch[0] Elapsed time 11.169 seconds\n",
            "INFO:root:Epoch[0] Evaluation metric 'epoch_loss'=0.908803\n",
            "INFO:root:Epoch[1] Learning rate is 0.001\n",
            "100%|██████████| 50/50 [00:10<00:00,  4.80it/s, avg_epoch_loss=1.21]\n",
            "INFO:root:Epoch[1] Elapsed time 10.430 seconds\n",
            "INFO:root:Epoch[1] Evaluation metric 'epoch_loss'=1.210036\n",
            "INFO:root:Epoch[2] Learning rate is 0.001\n",
            "100%|██████████| 50/50 [00:10<00:00,  4.79it/s, avg_epoch_loss=0.821]\n",
            "INFO:root:Epoch[2] Elapsed time 10.451 seconds\n",
            "INFO:root:Epoch[2] Evaluation metric 'epoch_loss'=0.820621\n",
            "INFO:root:Epoch[3] Learning rate is 0.001\n",
            "100%|██████████| 50/50 [00:10<00:00,  4.78it/s, avg_epoch_loss=0.905]\n",
            "INFO:root:Epoch[3] Elapsed time 10.471 seconds\n",
            "INFO:root:Epoch[3] Evaluation metric 'epoch_loss'=0.904631\n",
            "INFO:root:Epoch[4] Learning rate is 0.001\n",
            "100%|██████████| 50/50 [00:10<00:00,  4.80it/s, avg_epoch_loss=0.952]\n",
            "INFO:root:Epoch[4] Elapsed time 10.426 seconds\n",
            "INFO:root:Epoch[4] Evaluation metric 'epoch_loss'=0.951930\n",
            "INFO:root:Epoch[5] Learning rate is 0.001\n",
            "100%|██████████| 50/50 [00:10<00:00,  4.76it/s, avg_epoch_loss=1.21]\n",
            "INFO:root:Epoch[5] Elapsed time 10.498 seconds\n",
            "INFO:root:Epoch[5] Evaluation metric 'epoch_loss'=1.205608\n",
            "INFO:root:Epoch[6] Learning rate is 0.001\n",
            "100%|██████████| 50/50 [00:10<00:00,  4.72it/s, avg_epoch_loss=0.632]\n",
            "INFO:root:Epoch[6] Elapsed time 10.600 seconds\n",
            "INFO:root:Epoch[6] Evaluation metric 'epoch_loss'=0.632474\n",
            "INFO:root:Epoch[7] Learning rate is 0.001\n",
            "100%|██████████| 50/50 [00:10<00:00,  4.81it/s, avg_epoch_loss=0.849]\n",
            "INFO:root:Epoch[7] Elapsed time 10.413 seconds\n",
            "INFO:root:Epoch[7] Evaluation metric 'epoch_loss'=0.848766\n",
            "INFO:root:Epoch[8] Learning rate is 0.001\n",
            "100%|██████████| 50/50 [00:10<00:00,  4.82it/s, avg_epoch_loss=0.809]\n",
            "INFO:root:Epoch[8] Elapsed time 10.368 seconds\n",
            "INFO:root:Epoch[8] Evaluation metric 'epoch_loss'=0.809175\n",
            "INFO:root:Epoch[9] Learning rate is 0.001\n",
            "100%|██████████| 50/50 [00:10<00:00,  4.78it/s, avg_epoch_loss=0.94] \n",
            "INFO:root:Epoch[9] Elapsed time 10.468 seconds\n",
            "INFO:root:Epoch[9] Evaluation metric 'epoch_loss'=0.939550\n",
            "INFO:root:Epoch[10] Learning rate is 0.001\n",
            "100%|██████████| 50/50 [00:10<00:00,  4.78it/s, avg_epoch_loss=0.858]\n",
            "INFO:root:Epoch[10] Elapsed time 10.456 seconds\n",
            "INFO:root:Epoch[10] Evaluation metric 'epoch_loss'=0.857606\n",
            "INFO:root:Epoch[11] Learning rate is 0.001\n",
            "100%|██████████| 50/50 [00:10<00:00,  4.79it/s, avg_epoch_loss=0.941]\n",
            "INFO:root:Epoch[11] Elapsed time 10.445 seconds\n",
            "INFO:root:Epoch[11] Evaluation metric 'epoch_loss'=0.941003\n",
            "INFO:root:Epoch[12] Learning rate is 0.001\n",
            "100%|██████████| 50/50 [00:10<00:00,  4.77it/s, avg_epoch_loss=0.796]\n",
            "INFO:root:Epoch[12] Elapsed time 10.498 seconds\n",
            "INFO:root:Epoch[12] Evaluation metric 'epoch_loss'=0.796375\n",
            "INFO:root:Epoch[13] Learning rate is 0.001\n",
            "100%|██████████| 50/50 [00:10<00:00,  4.78it/s, avg_epoch_loss=0.882]\n",
            "INFO:root:Epoch[13] Elapsed time 10.463 seconds\n",
            "INFO:root:Epoch[13] Evaluation metric 'epoch_loss'=0.882387\n",
            "INFO:root:Epoch[14] Learning rate is 0.001\n",
            "100%|██████████| 50/50 [00:10<00:00,  4.81it/s, avg_epoch_loss=0.792]\n",
            "INFO:root:Epoch[14] Elapsed time 10.405 seconds\n",
            "INFO:root:Epoch[14] Evaluation metric 'epoch_loss'=0.792109\n",
            "INFO:root:Epoch[15] Learning rate is 0.001\n",
            "100%|██████████| 50/50 [00:10<00:00,  4.78it/s, avg_epoch_loss=0.825]\n",
            "INFO:root:Epoch[15] Elapsed time 10.466 seconds\n",
            "INFO:root:Epoch[15] Evaluation metric 'epoch_loss'=0.825312\n",
            "INFO:root:Epoch[16] Learning rate is 0.001\n",
            "100%|██████████| 50/50 [00:10<00:00,  4.79it/s, avg_epoch_loss=0.774]\n",
            "INFO:root:Epoch[16] Elapsed time 10.434 seconds\n",
            "INFO:root:Epoch[16] Evaluation metric 'epoch_loss'=0.774047\n",
            "INFO:root:Loading parameters from best epoch (6)\n",
            "INFO:root:Epoch[17] Learning rate is 0.0005\n",
            "100%|██████████| 50/50 [00:10<00:00,  4.80it/s, avg_epoch_loss=0.827]\n",
            "INFO:root:Epoch[17] Elapsed time 10.416 seconds\n",
            "INFO:root:Epoch[17] Evaluation metric 'epoch_loss'=0.827165\n",
            "INFO:root:Epoch[18] Learning rate is 0.0005\n",
            "100%|██████████| 50/50 [00:10<00:00,  4.79it/s, avg_epoch_loss=0.902]\n",
            "INFO:root:Epoch[18] Elapsed time 10.432 seconds\n",
            "INFO:root:Epoch[18] Evaluation metric 'epoch_loss'=0.901507\n",
            "INFO:root:Epoch[19] Learning rate is 0.0005\n",
            "100%|██████████| 50/50 [00:10<00:00,  4.85it/s, avg_epoch_loss=0.878]\n",
            "INFO:root:Epoch[19] Elapsed time 10.309 seconds\n",
            "INFO:root:Epoch[19] Evaluation metric 'epoch_loss'=0.877778\n",
            "INFO:root:Epoch[20] Learning rate is 0.0005\n",
            "100%|██████████| 50/50 [00:10<00:00,  4.84it/s, avg_epoch_loss=1.08]\n",
            "INFO:root:Epoch[20] Elapsed time 10.324 seconds\n",
            "INFO:root:Epoch[20] Evaluation metric 'epoch_loss'=1.078503\n",
            "INFO:root:Epoch[21] Learning rate is 0.0005\n",
            "100%|██████████| 50/50 [00:10<00:00,  4.87it/s, avg_epoch_loss=0.878]\n",
            "INFO:root:Epoch[21] Elapsed time 10.270 seconds\n",
            "INFO:root:Epoch[21] Evaluation metric 'epoch_loss'=0.877633\n",
            "INFO:root:Epoch[22] Learning rate is 0.0005\n",
            "100%|██████████| 50/50 [00:10<00:00,  4.87it/s, avg_epoch_loss=0.889]\n",
            "INFO:root:Epoch[22] Elapsed time 10.272 seconds\n",
            "INFO:root:Epoch[22] Evaluation metric 'epoch_loss'=0.888935\n",
            "INFO:root:Epoch[23] Learning rate is 0.0005\n",
            "100%|██████████| 50/50 [00:10<00:00,  4.86it/s, avg_epoch_loss=0.917]\n",
            "INFO:root:Epoch[23] Elapsed time 10.298 seconds\n",
            "INFO:root:Epoch[23] Evaluation metric 'epoch_loss'=0.917053\n",
            "INFO:root:Epoch[24] Learning rate is 0.0005\n",
            "100%|██████████| 50/50 [00:10<00:00,  4.86it/s, avg_epoch_loss=1.29]\n",
            "INFO:root:Epoch[24] Elapsed time 10.294 seconds\n",
            "INFO:root:Epoch[24] Evaluation metric 'epoch_loss'=1.294205\n",
            "INFO:root:Epoch[25] Learning rate is 0.0005\n",
            "100%|██████████| 50/50 [00:10<00:00,  4.84it/s, avg_epoch_loss=0.594]\n",
            "INFO:root:Epoch[25] Elapsed time 10.336 seconds\n",
            "INFO:root:Epoch[25] Evaluation metric 'epoch_loss'=0.593692\n",
            "INFO:root:Epoch[26] Learning rate is 0.0005\n",
            "100%|██████████| 50/50 [00:10<00:00,  4.85it/s, avg_epoch_loss=0.879]\n",
            "INFO:root:Epoch[26] Elapsed time 10.313 seconds\n",
            "INFO:root:Epoch[26] Evaluation metric 'epoch_loss'=0.879112\n",
            "INFO:root:Epoch[27] Learning rate is 0.0005\n",
            "100%|██████████| 50/50 [00:10<00:00,  4.86it/s, avg_epoch_loss=0.706]\n",
            "INFO:root:Epoch[27] Elapsed time 10.296 seconds\n",
            "INFO:root:Epoch[27] Evaluation metric 'epoch_loss'=0.705957\n",
            "INFO:root:Epoch[28] Learning rate is 0.0005\n",
            "100%|██████████| 50/50 [00:10<00:00,  4.86it/s, avg_epoch_loss=0.923]\n",
            "INFO:root:Epoch[28] Elapsed time 10.281 seconds\n",
            "INFO:root:Epoch[28] Evaluation metric 'epoch_loss'=0.922818\n",
            "INFO:root:Epoch[29] Learning rate is 0.0005\n",
            "100%|██████████| 50/50 [00:10<00:00,  4.87it/s, avg_epoch_loss=0.841]\n",
            "INFO:root:Epoch[29] Elapsed time 10.277 seconds\n",
            "INFO:root:Epoch[29] Evaluation metric 'epoch_loss'=0.840528\n",
            "INFO:root:Epoch[30] Learning rate is 0.0005\n",
            "100%|██████████| 50/50 [00:10<00:00,  4.81it/s, avg_epoch_loss=0.97] \n",
            "INFO:root:Epoch[30] Elapsed time 10.408 seconds\n",
            "INFO:root:Epoch[30] Evaluation metric 'epoch_loss'=0.969793\n",
            "INFO:root:Epoch[31] Learning rate is 0.0005\n",
            "100%|██████████| 50/50 [00:10<00:00,  4.83it/s, avg_epoch_loss=0.779]\n",
            "INFO:root:Epoch[31] Elapsed time 10.358 seconds\n",
            "INFO:root:Epoch[31] Evaluation metric 'epoch_loss'=0.779495\n",
            "INFO:root:Epoch[32] Learning rate is 0.0005\n",
            "100%|██████████| 50/50 [00:10<00:00,  4.84it/s, avg_epoch_loss=0.899]\n",
            "INFO:root:Epoch[32] Elapsed time 10.326 seconds\n",
            "INFO:root:Epoch[32] Evaluation metric 'epoch_loss'=0.898644\n",
            "INFO:root:Epoch[33] Learning rate is 0.0005\n",
            "100%|██████████| 50/50 [00:10<00:00,  4.87it/s, avg_epoch_loss=0.764]\n",
            "INFO:root:Epoch[33] Elapsed time 10.271 seconds\n",
            "INFO:root:Epoch[33] Evaluation metric 'epoch_loss'=0.764496\n",
            "INFO:root:Epoch[34] Learning rate is 0.0005\n",
            "100%|██████████| 50/50 [00:10<00:00,  4.86it/s, avg_epoch_loss=0.8]  \n",
            "INFO:root:Epoch[34] Elapsed time 10.289 seconds\n",
            "INFO:root:Epoch[34] Evaluation metric 'epoch_loss'=0.800342\n",
            "INFO:root:Epoch[35] Learning rate is 0.0005\n",
            "100%|██████████| 50/50 [00:10<00:00,  4.81it/s, avg_epoch_loss=0.814]\n",
            "INFO:root:Epoch[35] Elapsed time 10.398 seconds\n",
            "INFO:root:Epoch[35] Evaluation metric 'epoch_loss'=0.814226\n",
            "INFO:root:Loading parameters from best epoch (25)\n",
            "INFO:root:Epoch[36] Learning rate is 0.00025\n",
            "100%|██████████| 50/50 [00:10<00:00,  4.82it/s, avg_epoch_loss=0.822]\n",
            "INFO:root:Epoch[36] Elapsed time 10.386 seconds\n",
            "INFO:root:Epoch[36] Evaluation metric 'epoch_loss'=0.822199\n",
            "INFO:root:Epoch[37] Learning rate is 0.00025\n",
            "100%|██████████| 50/50 [00:10<00:00,  4.84it/s, avg_epoch_loss=0.911]\n",
            "INFO:root:Epoch[37] Elapsed time 10.342 seconds\n",
            "INFO:root:Epoch[37] Evaluation metric 'epoch_loss'=0.910661\n",
            "INFO:root:Epoch[38] Learning rate is 0.00025\n",
            "100%|██████████| 50/50 [00:10<00:00,  4.82it/s, avg_epoch_loss=0.858]\n",
            "INFO:root:Epoch[38] Elapsed time 10.385 seconds\n",
            "INFO:root:Epoch[38] Evaluation metric 'epoch_loss'=0.857924\n",
            "INFO:root:Epoch[39] Learning rate is 0.00025\n",
            "100%|██████████| 50/50 [00:10<00:00,  4.85it/s, avg_epoch_loss=1.14]\n",
            "INFO:root:Epoch[39] Elapsed time 10.313 seconds\n",
            "INFO:root:Epoch[39] Evaluation metric 'epoch_loss'=1.138564\n",
            "INFO:root:Epoch[40] Learning rate is 0.00025\n",
            "100%|██████████| 50/50 [00:10<00:00,  4.84it/s, avg_epoch_loss=0.843]\n",
            "INFO:root:Epoch[40] Elapsed time 10.332 seconds\n",
            "INFO:root:Epoch[40] Evaluation metric 'epoch_loss'=0.842672\n",
            "INFO:root:Epoch[41] Learning rate is 0.00025\n",
            "100%|██████████| 50/50 [00:10<00:00,  4.85it/s, avg_epoch_loss=0.855]\n",
            "INFO:root:Epoch[41] Elapsed time 10.308 seconds\n",
            "INFO:root:Epoch[41] Evaluation metric 'epoch_loss'=0.855060\n",
            "INFO:root:Epoch[42] Learning rate is 0.00025\n",
            "100%|██████████| 50/50 [00:10<00:00,  4.83it/s, avg_epoch_loss=0.956]\n",
            "INFO:root:Epoch[42] Elapsed time 10.356 seconds\n",
            "INFO:root:Epoch[42] Evaluation metric 'epoch_loss'=0.956102\n",
            "INFO:root:Epoch[43] Learning rate is 0.00025\n",
            "100%|██████████| 50/50 [00:10<00:00,  4.71it/s, avg_epoch_loss=1.17]\n",
            "INFO:root:Epoch[43] Elapsed time 10.616 seconds\n",
            "INFO:root:Epoch[43] Evaluation metric 'epoch_loss'=1.170281\n",
            "INFO:root:Epoch[44] Learning rate is 0.00025\n",
            "100%|██████████| 50/50 [00:10<00:00,  4.85it/s, avg_epoch_loss=0.596]\n",
            "INFO:root:Epoch[44] Elapsed time 10.310 seconds\n",
            "INFO:root:Epoch[44] Evaluation metric 'epoch_loss'=0.596032\n",
            "INFO:root:Epoch[45] Learning rate is 0.00025\n",
            "100%|██████████| 50/50 [00:10<00:00,  4.83it/s, avg_epoch_loss=0.868]\n",
            "INFO:root:Epoch[45] Elapsed time 10.351 seconds\n",
            "INFO:root:Epoch[45] Evaluation metric 'epoch_loss'=0.867643\n",
            "INFO:root:Loading parameters from best epoch (25)\n",
            "INFO:root:Epoch[46] Learning rate is 0.000125\n",
            "100%|██████████| 50/50 [00:10<00:00,  4.86it/s, avg_epoch_loss=0.77] \n",
            "INFO:root:Epoch[46] Elapsed time 10.298 seconds\n",
            "INFO:root:Epoch[46] Evaluation metric 'epoch_loss'=0.770267\n",
            "INFO:root:Epoch[47] Learning rate is 0.000125\n",
            "100%|██████████| 50/50 [00:10<00:00,  4.83it/s, avg_epoch_loss=0.912]\n",
            "INFO:root:Epoch[47] Elapsed time 10.365 seconds\n",
            "INFO:root:Epoch[47] Evaluation metric 'epoch_loss'=0.911569\n",
            "INFO:root:Epoch[48] Learning rate is 0.000125\n",
            "100%|██████████| 50/50 [00:10<00:00,  4.85it/s, avg_epoch_loss=0.835]\n",
            "INFO:root:Epoch[48] Elapsed time 10.305 seconds\n",
            "INFO:root:Epoch[48] Evaluation metric 'epoch_loss'=0.835282\n",
            "INFO:root:Epoch[49] Learning rate is 0.000125\n",
            "100%|██████████| 50/50 [00:10<00:00,  4.83it/s, avg_epoch_loss=0.976]\n",
            "INFO:root:Epoch[49] Elapsed time 10.351 seconds\n",
            "INFO:root:Epoch[49] Evaluation metric 'epoch_loss'=0.975571\n",
            "INFO:root:Epoch[50] Learning rate is 0.000125\n",
            "100%|██████████| 50/50 [00:10<00:00,  4.73it/s, avg_epoch_loss=0.797]\n",
            "INFO:root:Epoch[50] Elapsed time 10.585 seconds\n",
            "INFO:root:Epoch[50] Evaluation metric 'epoch_loss'=0.796514\n",
            "INFO:root:Epoch[51] Learning rate is 0.000125\n",
            "100%|██████████| 50/50 [00:10<00:00,  4.85it/s, avg_epoch_loss=0.854]\n",
            "INFO:root:Epoch[51] Elapsed time 10.308 seconds\n",
            "INFO:root:Epoch[51] Evaluation metric 'epoch_loss'=0.854300\n",
            "INFO:root:Epoch[52] Learning rate is 0.000125\n",
            "100%|██████████| 50/50 [00:10<00:00,  4.82it/s, avg_epoch_loss=0.821]\n",
            "INFO:root:Epoch[52] Elapsed time 10.389 seconds\n",
            "INFO:root:Epoch[52] Evaluation metric 'epoch_loss'=0.820797\n",
            "INFO:root:Epoch[53] Learning rate is 0.000125\n",
            "100%|██████████| 50/50 [00:10<00:00,  4.81it/s, avg_epoch_loss=0.817]\n",
            "INFO:root:Epoch[53] Elapsed time 10.399 seconds\n",
            "INFO:root:Epoch[53] Evaluation metric 'epoch_loss'=0.817179\n",
            "INFO:root:Epoch[54] Learning rate is 0.000125\n",
            "100%|██████████| 50/50 [00:10<00:00,  4.83it/s, avg_epoch_loss=0.876]\n",
            "INFO:root:Epoch[54] Elapsed time 10.359 seconds\n",
            "INFO:root:Epoch[54] Evaluation metric 'epoch_loss'=0.875889\n",
            "INFO:root:Epoch[55] Learning rate is 0.000125\n",
            "100%|██████████| 50/50 [00:10<00:00,  4.83it/s, avg_epoch_loss=0.734]\n",
            "INFO:root:Epoch[55] Elapsed time 10.366 seconds\n",
            "INFO:root:Epoch[55] Evaluation metric 'epoch_loss'=0.733723\n",
            "INFO:root:Loading parameters from best epoch (25)\n",
            "INFO:root:Epoch[56] Learning rate is 6.25e-05\n",
            "100%|██████████| 50/50 [00:10<00:00,  4.82it/s, avg_epoch_loss=0.908]\n",
            "INFO:root:Epoch[56] Elapsed time 10.381 seconds\n",
            "INFO:root:Epoch[56] Evaluation metric 'epoch_loss'=0.908041\n",
            "INFO:root:Epoch[57] Learning rate is 6.25e-05\n",
            "100%|██████████| 50/50 [00:10<00:00,  4.81it/s, avg_epoch_loss=0.832]\n",
            "INFO:root:Epoch[57] Elapsed time 10.388 seconds\n",
            "INFO:root:Epoch[57] Evaluation metric 'epoch_loss'=0.832390\n",
            "INFO:root:Epoch[58] Learning rate is 6.25e-05\n",
            "100%|██████████| 50/50 [00:10<00:00,  4.82it/s, avg_epoch_loss=1.12]\n",
            "INFO:root:Epoch[58] Elapsed time 10.376 seconds\n",
            "INFO:root:Epoch[58] Evaluation metric 'epoch_loss'=1.121596\n",
            "INFO:root:Epoch[59] Learning rate is 6.25e-05\n",
            "100%|██████████| 50/50 [00:10<00:00,  4.84it/s, avg_epoch_loss=0.779]\n",
            "INFO:root:Epoch[59] Elapsed time 10.344 seconds\n",
            "INFO:root:Epoch[59] Evaluation metric 'epoch_loss'=0.778908\n",
            "INFO:root:Epoch[60] Learning rate is 6.25e-05\n",
            "100%|██████████| 50/50 [00:10<00:00,  4.79it/s, avg_epoch_loss=0.915]\n",
            "INFO:root:Epoch[60] Elapsed time 10.447 seconds\n",
            "INFO:root:Epoch[60] Evaluation metric 'epoch_loss'=0.914694\n",
            "INFO:root:Epoch[61] Learning rate is 6.25e-05\n",
            "100%|██████████| 50/50 [00:10<00:00,  4.78it/s, avg_epoch_loss=0.958]\n",
            "INFO:root:Epoch[61] Elapsed time 10.473 seconds\n",
            "INFO:root:Epoch[61] Evaluation metric 'epoch_loss'=0.957583\n",
            "INFO:root:Epoch[62] Learning rate is 6.25e-05\n",
            "100%|██████████| 50/50 [00:10<00:00,  4.79it/s, avg_epoch_loss=1.25]\n",
            "INFO:root:Epoch[62] Elapsed time 10.447 seconds\n",
            "INFO:root:Epoch[62] Evaluation metric 'epoch_loss'=1.247384\n",
            "INFO:root:Epoch[63] Learning rate is 6.25e-05\n",
            "100%|██████████| 50/50 [00:10<00:00,  4.81it/s, avg_epoch_loss=0.638]\n",
            "INFO:root:Epoch[63] Elapsed time 10.397 seconds\n",
            "INFO:root:Epoch[63] Evaluation metric 'epoch_loss'=0.638043\n",
            "INFO:root:Epoch[64] Learning rate is 6.25e-05\n",
            "100%|██████████| 50/50 [00:10<00:00,  4.81it/s, avg_epoch_loss=0.874]\n",
            "INFO:root:Epoch[64] Elapsed time 10.396 seconds\n",
            "INFO:root:Epoch[64] Evaluation metric 'epoch_loss'=0.873897\n",
            "INFO:root:Epoch[65] Learning rate is 6.25e-05\n",
            "100%|██████████| 50/50 [00:10<00:00,  4.82it/s, avg_epoch_loss=0.746]\n",
            "INFO:root:Epoch[65] Elapsed time 10.374 seconds\n",
            "INFO:root:Epoch[65] Evaluation metric 'epoch_loss'=0.746492\n",
            "INFO:root:Loading parameters from best epoch (25)\n",
            "INFO:root:Epoch[66] Learning rate is 5e-05\n",
            "100%|██████████| 50/50 [00:10<00:00,  4.83it/s, avg_epoch_loss=0.931]\n",
            "INFO:root:Epoch[66] Elapsed time 10.348 seconds\n",
            "INFO:root:Epoch[66] Evaluation metric 'epoch_loss'=0.931172\n",
            "INFO:root:Epoch[67] Learning rate is 5e-05\n",
            "100%|██████████| 50/50 [00:10<00:00,  4.81it/s, avg_epoch_loss=0.846]\n",
            "INFO:root:Epoch[67] Elapsed time 10.410 seconds\n",
            "INFO:root:Epoch[67] Evaluation metric 'epoch_loss'=0.845547\n",
            "INFO:root:Epoch[68] Learning rate is 5e-05\n",
            "100%|██████████| 50/50 [00:10<00:00,  4.85it/s, avg_epoch_loss=0.955]\n",
            "INFO:root:Epoch[68] Elapsed time 10.311 seconds\n",
            "INFO:root:Epoch[68] Evaluation metric 'epoch_loss'=0.954810\n",
            "INFO:root:Epoch[69] Learning rate is 5e-05\n",
            "100%|██████████| 50/50 [00:10<00:00,  4.87it/s, avg_epoch_loss=0.768]\n",
            "INFO:root:Epoch[69] Elapsed time 10.269 seconds\n",
            "INFO:root:Epoch[69] Evaluation metric 'epoch_loss'=0.768121\n",
            "INFO:root:Epoch[70] Learning rate is 5e-05\n",
            "100%|██████████| 50/50 [00:10<00:00,  4.84it/s, avg_epoch_loss=0.906]\n",
            "INFO:root:Epoch[70] Elapsed time 10.341 seconds\n",
            "INFO:root:Epoch[70] Evaluation metric 'epoch_loss'=0.905635\n",
            "INFO:root:Epoch[71] Learning rate is 5e-05\n",
            "100%|██████████| 50/50 [00:10<00:00,  4.86it/s, avg_epoch_loss=0.77] \n",
            "INFO:root:Epoch[71] Elapsed time 10.295 seconds\n",
            "INFO:root:Epoch[71] Evaluation metric 'epoch_loss'=0.769677\n",
            "INFO:root:Epoch[72] Learning rate is 5e-05\n",
            "100%|██████████| 50/50 [00:10<00:00,  4.85it/s, avg_epoch_loss=0.851]\n",
            "INFO:root:Epoch[72] Elapsed time 10.307 seconds\n",
            "INFO:root:Epoch[72] Evaluation metric 'epoch_loss'=0.850917\n",
            "INFO:root:Epoch[73] Learning rate is 5e-05\n",
            "100%|██████████| 50/50 [00:10<00:00,  4.83it/s, avg_epoch_loss=0.859]\n",
            "INFO:root:Epoch[73] Elapsed time 10.357 seconds\n",
            "INFO:root:Epoch[73] Evaluation metric 'epoch_loss'=0.859149\n",
            "INFO:root:Epoch[74] Learning rate is 5e-05\n",
            "100%|██████████| 50/50 [00:10<00:00,  4.86it/s, avg_epoch_loss=0.777]\n",
            "INFO:root:Epoch[74] Elapsed time 10.301 seconds\n",
            "INFO:root:Epoch[74] Evaluation metric 'epoch_loss'=0.777130\n",
            "INFO:root:Epoch[75] Learning rate is 5e-05\n",
            "100%|██████████| 50/50 [00:10<00:00,  4.85it/s, avg_epoch_loss=0.909]\n",
            "INFO:root:Epoch[75] Elapsed time 10.311 seconds\n",
            "INFO:root:Epoch[75] Evaluation metric 'epoch_loss'=0.908551\n",
            "INFO:root:Epoch[76] Learning rate is 5e-05\n",
            "100%|██████████| 50/50 [00:10<00:00,  4.84it/s, avg_epoch_loss=0.897]\n",
            "INFO:root:Epoch[76] Elapsed time 10.326 seconds\n",
            "INFO:root:Epoch[76] Evaluation metric 'epoch_loss'=0.896973\n",
            "INFO:root:Epoch[77] Learning rate is 5e-05\n",
            "100%|██████████| 50/50 [00:10<00:00,  4.86it/s, avg_epoch_loss=1.05]\n",
            "INFO:root:Epoch[77] Elapsed time 10.281 seconds\n",
            "INFO:root:Epoch[77] Evaluation metric 'epoch_loss'=1.048923\n",
            "INFO:root:Epoch[78] Learning rate is 5e-05\n",
            "100%|██████████| 50/50 [00:10<00:00,  4.87it/s, avg_epoch_loss=0.856]\n",
            "INFO:root:Epoch[78] Elapsed time 10.279 seconds\n",
            "INFO:root:Epoch[78] Evaluation metric 'epoch_loss'=0.856377\n",
            "INFO:root:Epoch[79] Learning rate is 5e-05\n",
            "100%|██████████| 50/50 [00:10<00:00,  4.84it/s, avg_epoch_loss=0.904]\n",
            "INFO:root:Epoch[79] Elapsed time 10.338 seconds\n",
            "INFO:root:Epoch[79] Evaluation metric 'epoch_loss'=0.903773\n",
            "INFO:root:Epoch[80] Learning rate is 5e-05\n",
            "100%|██████████| 50/50 [00:10<00:00,  4.83it/s, avg_epoch_loss=0.961]\n",
            "INFO:root:Epoch[80] Elapsed time 10.360 seconds\n",
            "INFO:root:Epoch[80] Evaluation metric 'epoch_loss'=0.961202\n",
            "INFO:root:Epoch[81] Learning rate is 5e-05\n",
            "100%|██████████| 50/50 [00:10<00:00,  4.88it/s, avg_epoch_loss=1.3]\n",
            "INFO:root:Epoch[81] Elapsed time 10.258 seconds\n",
            "INFO:root:Epoch[81] Evaluation metric 'epoch_loss'=1.296309\n",
            "INFO:root:Epoch[82] Learning rate is 5e-05\n",
            "100%|██████████| 50/50 [00:10<00:00,  4.87it/s, avg_epoch_loss=0.551]\n",
            "INFO:root:Epoch[82] Elapsed time 10.270 seconds\n",
            "INFO:root:Epoch[82] Evaluation metric 'epoch_loss'=0.550868\n",
            "INFO:root:Epoch[83] Learning rate is 5e-05\n",
            "100%|██████████| 50/50 [00:10<00:00,  4.86it/s, avg_epoch_loss=0.895]\n",
            "INFO:root:Epoch[83] Elapsed time 10.299 seconds\n",
            "INFO:root:Epoch[83] Evaluation metric 'epoch_loss'=0.894557\n",
            "INFO:root:Epoch[84] Learning rate is 5e-05\n",
            "100%|██████████| 50/50 [00:10<00:00,  4.87it/s, avg_epoch_loss=0.689]\n",
            "INFO:root:Epoch[84] Elapsed time 10.277 seconds\n",
            "INFO:root:Epoch[84] Evaluation metric 'epoch_loss'=0.689228\n",
            "INFO:root:Epoch[85] Learning rate is 5e-05\n",
            "100%|██████████| 50/50 [00:10<00:00,  4.88it/s, avg_epoch_loss=0.933]\n",
            "INFO:root:Epoch[85] Elapsed time 10.250 seconds\n",
            "INFO:root:Epoch[85] Evaluation metric 'epoch_loss'=0.933440\n",
            "INFO:root:Epoch[86] Learning rate is 5e-05\n",
            "100%|██████████| 50/50 [00:10<00:00,  4.86it/s, avg_epoch_loss=0.78] \n",
            "INFO:root:Epoch[86] Elapsed time 10.281 seconds\n",
            "INFO:root:Epoch[86] Evaluation metric 'epoch_loss'=0.780271\n",
            "INFO:root:Epoch[87] Learning rate is 5e-05\n",
            "100%|██████████| 50/50 [00:10<00:00,  4.86it/s, avg_epoch_loss=0.982]\n",
            "INFO:root:Epoch[87] Elapsed time 10.300 seconds\n",
            "INFO:root:Epoch[87] Evaluation metric 'epoch_loss'=0.982273\n",
            "INFO:root:Epoch[88] Learning rate is 5e-05\n",
            "100%|██████████| 50/50 [00:10<00:00,  4.86it/s, avg_epoch_loss=0.734]\n",
            "INFO:root:Epoch[88] Elapsed time 10.297 seconds\n",
            "INFO:root:Epoch[88] Evaluation metric 'epoch_loss'=0.734364\n",
            "INFO:root:Epoch[89] Learning rate is 5e-05\n",
            "100%|██████████| 50/50 [00:10<00:00,  4.86it/s, avg_epoch_loss=0.886]\n",
            "INFO:root:Epoch[89] Elapsed time 10.285 seconds\n",
            "INFO:root:Epoch[89] Evaluation metric 'epoch_loss'=0.885752\n",
            "INFO:root:Epoch[90] Learning rate is 5e-05\n",
            "100%|██████████| 50/50 [00:10<00:00,  4.85it/s, avg_epoch_loss=0.748]\n",
            "INFO:root:Epoch[90] Elapsed time 10.305 seconds\n",
            "INFO:root:Epoch[90] Evaluation metric 'epoch_loss'=0.748230\n",
            "INFO:root:Epoch[91] Learning rate is 5e-05\n",
            "100%|██████████| 50/50 [00:10<00:00,  4.82it/s, avg_epoch_loss=0.865]\n",
            "INFO:root:Epoch[91] Elapsed time 10.386 seconds\n",
            "INFO:root:Epoch[91] Evaluation metric 'epoch_loss'=0.865120\n",
            "INFO:root:Epoch[92] Learning rate is 5e-05\n",
            "100%|██████████| 50/50 [00:10<00:00,  4.87it/s, avg_epoch_loss=0.763]\n",
            "INFO:root:Epoch[92] Elapsed time 10.267 seconds\n",
            "INFO:root:Epoch[92] Evaluation metric 'epoch_loss'=0.763175\n",
            "INFO:root:Epoch[93] Learning rate is 5e-05\n",
            "100%|██████████| 50/50 [00:10<00:00,  4.87it/s, avg_epoch_loss=0.92] \n",
            "INFO:root:Epoch[93] Elapsed time 10.273 seconds\n",
            "INFO:root:Epoch[93] Evaluation metric 'epoch_loss'=0.919961\n",
            "INFO:root:Epoch[94] Learning rate is 5e-05\n",
            "100%|██████████| 50/50 [00:12<00:00,  4.12it/s, avg_epoch_loss=0.741]\n",
            "INFO:root:Epoch[94] Elapsed time 12.147 seconds\n",
            "INFO:root:Epoch[94] Evaluation metric 'epoch_loss'=0.740513\n",
            "INFO:root:Epoch[95] Learning rate is 5e-05\n",
            "100%|██████████| 50/50 [00:10<00:00,  4.56it/s, avg_epoch_loss=1]   \n",
            "INFO:root:Epoch[95] Elapsed time 10.982 seconds\n",
            "INFO:root:Epoch[95] Evaluation metric 'epoch_loss'=1.004412\n",
            "INFO:root:Epoch[96] Learning rate is 5e-05\n",
            "100%|██████████| 50/50 [00:10<00:00,  4.84it/s, avg_epoch_loss=0.935]\n",
            "INFO:root:Epoch[96] Elapsed time 10.338 seconds\n",
            "INFO:root:Epoch[96] Evaluation metric 'epoch_loss'=0.934789\n",
            "INFO:root:Epoch[97] Learning rate is 5e-05\n",
            "100%|██████████| 50/50 [00:10<00:00,  4.84it/s, avg_epoch_loss=0.999]\n",
            "INFO:root:Epoch[97] Elapsed time 10.341 seconds\n",
            "INFO:root:Epoch[97] Evaluation metric 'epoch_loss'=0.999220\n",
            "INFO:root:Epoch[98] Learning rate is 5e-05\n",
            "100%|██████████| 50/50 [00:10<00:00,  4.84it/s, avg_epoch_loss=0.763]\n",
            "INFO:root:Epoch[98] Elapsed time 10.332 seconds\n",
            "INFO:root:Epoch[98] Evaluation metric 'epoch_loss'=0.762949\n",
            "INFO:root:Epoch[99] Learning rate is 5e-05\n",
            "100%|██████████| 50/50 [00:10<00:00,  4.83it/s, avg_epoch_loss=1.03]\n",
            "INFO:root:Epoch[99] Elapsed time 10.348 seconds\n",
            "INFO:root:Epoch[99] Evaluation metric 'epoch_loss'=1.028589\n",
            "INFO:root:Loading parameters from best epoch (82)\n",
            "INFO:root:Final loss: 0.55086820602417 (occurred at epoch 82)\n",
            "INFO:root:End model training\n"
          ],
          "name": "stderr"
        }
      ]
    },
    {
      "cell_type": "code",
      "metadata": {
        "id": "kBDsgkK8NxgJ",
        "colab_type": "code",
        "outputId": "a30078be-88fe-40bb-90c1-ef1caccd4289",
        "colab": {
          "base_uri": "https://localhost:8080/",
          "height": 150,
          "referenced_widgets": [
            "4225a5edd6ba4ecca6dd24bd5efbc940",
            "cd9adcb0f4234f41adb92f8a8c90778c",
            "f4c7f2bbd1c54d73b86bf273d34bc8de",
            "34474198a933482cbca14bd77a63549d",
            "2e7ab0e897074f41a79333b3bd14a080",
            "a299aadcad5a4c53ab8a82ed8bdb5038",
            "2ed3c7f8bedf4a608aa3c803b662a0e4",
            "ee926073e8f6452dbcc07aaa748da997",
            "b76c3a16d2b04749b5429b1517b67de3",
            "6143c4b4c6ff4ef1a24bd522e87e8cce",
            "9e31f2efee794084ad9a5a3bd2452597",
            "cb1c1768984645cb9b7f9d16d5859904",
            "1208260cf0c6491c88843b2ec1aeec9c",
            "43f60b30a6c84962929cba830e5c3e64",
            "8522ea891fed4169a307d1ea388df93b",
            "efb28c85af324193b1823a7ea606cec4"
          ]
        }
      },
      "source": [
        "from gluonts.evaluation.backtest import make_evaluation_predictions\n",
        "\n",
        "forecast_it, ts_it = make_evaluation_predictions(\n",
        "    dataset=test_ds,\n",
        "    predictor=predictor,\n",
        "    num_samples=100\n",
        ")\n",
        "\n",
        "print(\"Obtaining time series conditioning values ...\")\n",
        "tss = list(tqdm(ts_it, total=len(test_ds)))\n",
        "print(\"Obtaining time series predictions ...\")\n",
        "forecasts = list(tqdm(forecast_it, total=len(test_ds)))"
      ],
      "execution_count": 0,
      "outputs": [
        {
          "output_type": "stream",
          "text": [
            "Obtaining time series conditioning values ...\n"
          ],
          "name": "stdout"
        },
        {
          "output_type": "display_data",
          "data": {
            "application/vnd.jupyter.widget-view+json": {
              "model_id": "4225a5edd6ba4ecca6dd24bd5efbc940",
              "version_minor": 0,
              "version_major": 2
            },
            "text/plain": [
              "HBox(children=(FloatProgress(value=0.0, max=30490.0), HTML(value='')))"
            ]
          },
          "metadata": {
            "tags": []
          }
        },
        {
          "output_type": "stream",
          "text": [
            "\n",
            "Obtaining time series predictions ...\n"
          ],
          "name": "stdout"
        },
        {
          "output_type": "display_data",
          "data": {
            "application/vnd.jupyter.widget-view+json": {
              "model_id": "b76c3a16d2b04749b5429b1517b67de3",
              "version_minor": 0,
              "version_major": 2
            },
            "text/plain": [
              "HBox(children=(FloatProgress(value=0.0, max=30490.0), HTML(value='')))"
            ]
          },
          "metadata": {
            "tags": []
          }
        },
        {
          "output_type": "stream",
          "text": [
            "\n"
          ],
          "name": "stdout"
        }
      ]
    },
    {
      "cell_type": "code",
      "metadata": {
        "id": "QhjThWDiNbyQ",
        "colab_type": "code",
        "colab": {}
      },
      "source": [
        "\n",
        "from gluonts.evaluation import Evaluator\n",
        "    \n",
        "if submission==False:\n",
        " \n",
        "    class M5Evaluator(Evaluator):\n",
        "        \n",
        "        def get_metrics_per_ts(self, time_series, forecast):\n",
        "            successive_diff = np.diff(time_series.values.reshape(len(time_series)))\n",
        "            successive_diff = successive_diff ** 2\n",
        "            successive_diff = successive_diff[:-pred_length]\n",
        "            denom = np.mean(successive_diff)\n",
        "            pred_values = forecast.samples.mean(axis=0)\n",
        "            true_values = time_series.values.reshape(len(time_series))[-pred_length:]\n",
        "            num = np.mean((pred_values - true_values)**2)\n",
        "            rmsse = num / denom\n",
        "            metrics = super().get_metrics_per_ts(time_series, forecast)\n",
        "            metrics[\"RMSSE\"] = rmsse\n",
        "            return metrics\n",
        "        \n",
        "        def get_aggregate_metrics(self, metric_per_ts):\n",
        "            wrmsse = metric_per_ts[\"RMSSE\"].mean()\n",
        "            agg_metric , _ = super().get_aggregate_metrics(metric_per_ts)\n",
        "            agg_metric[\"MRMSSE\"] = wrmsse\n",
        "            return agg_metric, metric_per_ts\n",
        "        \n",
        "    \n",
        "    evaluator = M5Evaluator(quantiles=[0.5, 0.67, 0.95, 0.99])\n",
        "    agg_metrics, item_metrics = evaluator(iter(tss), iter(forecasts), num_series=len(test_ds))\n",
        "    print(json.dumps(agg_metrics, indent=4))"
      ],
      "execution_count": 0,
      "outputs": []
    },
    {
      "cell_type": "code",
      "metadata": {
        "id": "AJDT0kdFD2X0",
        "colab_type": "code",
        "colab": {}
      },
      "source": [
        "\n",
        "\"\"\"\n",
        "Converting forecasts back to M5 submission format (if submission is True)\n",
        "Since GluonTS estimators return a sample-based probabilistic forecasting predictor, we first need to reduce these results to a single pred per time series. This can be done by computing the mean or median over the predicted sample paths.\n",
        "\"\"\"\n",
        "########################\n",
        "if submission == True:\n",
        "    forecasts_acc = np.zeros((len(forecasts), pred_length))\n",
        "    for i in range(len(forecasts)):\n",
        "        forecasts_acc[i] = np.mean(forecasts[i].samples, axis=0)\n",
        "\n",
        "\n",
        "# We then reshape the forecasts into the correct data shape for submission ...\n",
        "########################\n",
        "if submission == True:\n",
        "    forecasts_acc_sub = np.zeros((len(forecasts)*2, single_pred_length))\n",
        "    forecasts_acc_sub[:len(forecasts)] = forecasts_acc[:,:single_pred_length]\n",
        "    forecasts_acc_sub[len(forecasts):] = forecasts_acc[:,single_pred_length:]\n",
        "\n",
        "\"\"\"\n",
        ".. and verfiy that reshaping is consistent.\n",
        "\"\"\"\n",
        "########################\n",
        "if submission == True:\n",
        "    np.all(np.equal(forecasts_acc[0], np.append(forecasts_acc_sub[0], forecasts_acc_sub[30490])))\n",
        "\n",
        "\n",
        "## Then, we save our submission into a timestamped CSV file which can subsequently be uploaded to Kaggle.\n",
        "########################\n",
        "if submission == True:\n",
        "    import time\n",
        "    sample_submission            = pd.read_csv(data_folder/sample_submission.csv')\n",
        "    sample_submission.iloc[:,1:] = forecasts_acc_sub\n",
        "    submission_id                = 'submission_{}.csv'.format(int(time.time()))\n",
        "    sample_submission.to_csv(submission_id, index=False)\n"
      ],
      "execution_count": 0,
      "outputs": []
    },
    {
      "cell_type": "code",
      "metadata": {
        "id": "UsL_CekrwP9o",
        "colab_type": "code",
        "outputId": "2b70a7b8-f134-415f-d6eb-2685ac55c951",
        "colab": {
          "base_uri": "https://localhost:8080/",
          "height": 1000,
          "referenced_widgets": [
            "564e699414864098ae95ef2d6705891e",
            "f69cb27f44904afe8c649d7b29eeca97",
            "3f02a385d1d24cd6a845c2a648a3692b",
            "566ea5d2fe4c4b39b388a3512b30e855",
            "ce0b3fe17df44ee5b1512cb8d8a95c9f",
            "0717f8aa946c4b88940c075febb7c654",
            "6fcd10e6a4ac41bf94e8945b4e2abe82",
            "c3ab6ada2c24437b95ec30dc93950902"
          ]
        }
      },
      "source": [
        "plot_log_path = \"shared_session/timeseries_m5_benchmark/plots/\"\n",
        "directory = os.path.dirname(plot_log_path)\n",
        "if not os.path.exists(directory):\n",
        "    os.makedirs(directory)\n",
        "    \n",
        "def plot_prob_forecasts(ts_entry, forecast_entry, path, sample_id, inline=True):\n",
        "    plot_length = 150\n",
        "    prediction_intervals = (50, 67, 95, 99)\n",
        "    legend = [\"observations\", \"median prediction\"] + [f\"{k}% prediction interval\" for k in prediction_intervals][::-1]\n",
        "\n",
        "    _, ax = plt.subplots(1, 1, figsize=(10, 7))\n",
        "    ts_entry[-plot_length:].plot(ax=ax)\n",
        "    forecast_entry.plot(prediction_intervals=prediction_intervals, color='g')\n",
        "    ax.axvline(ts_entry.index[-pred_length], color='r')\n",
        "    plt.legend(legend, loc=\"upper left\")\n",
        "    plt.savefig('{}forecast_{}.pdf'.format(path, sample_id))\n",
        "\n",
        "    if inline:\n",
        "        plt.show()\n",
        "        plt.clf()\n",
        "  \n",
        "    plt.close()\n",
        "\n",
        "print(\"Plotting time series predictions ...\")\n",
        "for i in tqdm(range(5)):\n",
        "    ts_entry = tss[i]\n",
        "    forecast_entry = forecasts[i]\n",
        "    plot_prob_forecasts(ts_entry, forecast_entry, plot_log_path, i)"
      ],
      "execution_count": 0,
      "outputs": [
        {
          "output_type": "stream",
          "text": [
            "Plotting time series predictions ...\n"
          ],
          "name": "stdout"
        },
        {
          "output_type": "display_data",
          "data": {
            "application/vnd.jupyter.widget-view+json": {
              "model_id": "564e699414864098ae95ef2d6705891e",
              "version_minor": 0,
              "version_major": 2
            },
            "text/plain": [
              "HBox(children=(FloatProgress(value=0.0, max=5.0), HTML(value='')))"
            ]
          },
          "metadata": {
            "tags": []
          }
        },
        {
          "output_type": "display_data",
          "data": {
            "image/png": "[encoded data removed]",
            "text/plain": [
              "<Figure size 720x504 with 1 Axes>"
            ]
          },
          "metadata": {
            "tags": [],
            "needs_background": "light"
          }
        },
        {
          "output_type": "display_data",
          "data": {
            "image/png": "[encoded data removed]",
            "text/plain": [
              "<Figure size 720x504 with 1 Axes>"
            ]
          },
          "metadata": {
            "tags": [],
            "needs_background": "light"
          }
        },
        {
          "output_type": "display_data",
          "data": {
            "image/png": "[encoded data removed]",
            "text/plain": [
              "<Figure size 720x504 with 1 Axes>"
            ]
          },
          "metadata": {
            "tags": [],
            "needs_background": "light"
          }
        },
        {
          "output_type": "display_data",
          "data": {
            "image/png": "[encoded data removed]",
            "text/plain": [
              "<Figure size 720x504 with 1 Axes>"
            ]
          },
          "metadata": {
            "tags": [],
            "needs_background": "light"
          }
        },
        {
          "output_type": "display_data",
          "data": {
            "image/png": "[encoded data removed]",
            "text/plain": [
              "<Figure size 720x504 with 1 Axes>"
            ]
          },
          "metadata": {
            "tags": [],
            "needs_background": "light"
          }
        },
        {
          "output_type": "stream",
          "text": [
            "\n"
          ],
          "name": "stdout"
        }
      ]
    }
  ]
}