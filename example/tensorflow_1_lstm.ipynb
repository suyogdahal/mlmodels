{
 "cells": [
  {
   "cell_type": "code",
   "execution_count": 1,
   "metadata": {},
   "outputs": [
    {
     "name": "stdout",
     "output_type": "stream",
     "text": [
      "D:\\_devs\\Python01\\gitdev\\mlmodels\\mlmodels\\example\n"
     ]
    }
   ],
   "source": [
    "# import library\n",
    "import mlmodels, os\n",
    "from mlmodels.util import path_norm\n",
    "print( os.getcwd())"
   ]
  },
  {
   "cell_type": "markdown",
   "metadata": {},
   "source": [
    "## Define model and data definitions"
   ]
  },
  {
   "cell_type": "code",
   "execution_count": 2,
   "metadata": {},
   "outputs": [
    {
     "name": "stdout",
     "output_type": "stream",
     "text": [
      "d:\\_devs\\python01\\gitdev\\mlmodels\\mlmodels\n",
      "d:\\_devs\\python01\\gitdev\\mlmodels\\mlmodels\n",
      "{'data_path': 'd:\\\\_devs\\\\python01\\\\gitdev\\\\mlmodels\\\\mlmodels\\\\dataset/timeseries/GOOG-year.csv', 'data_type': 'pandas', 'size': [0, 0, 6], 'output_size': [0, 6]}\n"
     ]
    }
   ],
   "source": [
    "model_uri    = \"model_tf.1_lstm.py\"\n",
    "model_pars   =  {  \n",
    "                    \"num_layers\": 1,\n",
    "                    \"size\": 6, \n",
    "                    \"size_layer\": 128, \n",
    "                    \"output_size\": 6, \n",
    "                    \"timestep\": 4,\n",
    "                }\n",
    "data_pars    =  {\n",
    "                    \"data_path\": path_norm(\"dataset/timeseries/GOOG-year.csv\")  , \n",
    "                    \"data_type\": \"pandas\",\n",
    "                    \"size\": [0, 0, 6],\n",
    "                    \"output_size\": [0, 6]\n",
    "                }\n",
    "compute_pars =  { \"learning_rate\": 0.001, \"epoch\":2}\n",
    "\n",
    "out_pars     =  { \"path\": \"ztest_1lstm/\", \"model_path\" : path_norm(\"ztest_1lstm/model/\") }\n",
    "save_pars = { \"path\" : \"ztest_1lstm/model/\" }\n",
    "load_pars = { \"path\" : \"ztest_1lstm/model/\" }\n",
    "print(data_pars)"
   ]
  },
  {
   "cell_type": "markdown",
   "metadata": {},
   "source": [
    "## Load parameters and train"
   ]
  },
  {
   "cell_type": "code",
   "execution_count": 4,
   "metadata": {},
   "outputs": [
    {
     "name": "stdout",
     "output_type": "stream",
     "text": [
      "{'data_path': '/workspace/mlmodels/mlmodels/dataset/timeseries/GOOG-year.csv', 'data_type': 'pandas', 'size': [0, 0, 6], 'output_size': [0, 6]}\n",
      "/workspace/mlmodels/mlmodels\n",
      "/workspace/mlmodels/mlmodels/dataset/timeseries/GOOG-year.csv\n",
      "         Date        Open        High         Low       Close   Adj Close  \\\n",
      "0  2016-11-02  778.200012  781.650024  763.450012  768.700012  768.700012   \n",
      "1  2016-11-03  767.250000  769.950012  759.030029  762.130005  762.130005   \n",
      "2  2016-11-04  750.659973  770.359985  750.560974  762.020020  762.020020   \n",
      "3  2016-11-07  774.500000  785.190002  772.549988  782.520020  782.520020   \n",
      "4  2016-11-08  783.400024  795.632996  780.190002  790.510010  790.510010   \n",
      "\n",
      "    Volume  \n",
      "0  1872400  \n",
      "1  1943200  \n",
      "2  2134800  \n",
      "3  1585100  \n",
      "4  1350800  \n",
      "          0         1         2         3         4         5\n",
      "0  0.706562  0.629914  0.682052  0.599302  0.599302  0.153665\n",
      "1  0.458824  0.320251  0.598101  0.478596  0.478596  0.174523\n",
      "2  0.083484  0.331101  0.437246  0.476576  0.476576  0.230969\n",
      "3  0.622851  0.723606  0.854891  0.853206  0.853206  0.069025\n",
      "4  0.824209  1.000000  1.000000  1.000000  1.000000  0.000000\n"
     ]
    }
   ],
   "source": [
    "from mlmodels.models import module_load\n",
    "\n",
    "module        =  module_load( model_uri= model_uri )                           # Load file definition\n",
    "model         =  module.Model(model_pars=model_pars, data_pars=data_pars, compute_pars=compute_pars)             # Create Model instance\n",
    "model, sess   =  module.fit(model, data_pars=data_pars, compute_pars=compute_pars, out_pars=out_pars)          # fit the model"
   ]
  },
  {
   "cell_type": "markdown",
   "metadata": {},
   "source": [
    "## Check inference"
   ]
  },
  {
   "cell_type": "code",
   "execution_count": 4,
   "metadata": {},
   "outputs": [],
   "source": [
    "metrics_val   =  module.fit_metrics( model, sess, data_pars, compute_pars, out_pars) # get stats"
   ]
  },
  {
   "cell_type": "code",
   "execution_count": 5,
   "metadata": {},
   "outputs": [
    {
     "name": "stdout",
     "output_type": "stream",
     "text": [
      "{'data_path': '../mlmodels/dataset/timeseries/GOOG-year.csv', 'data_type': 'pandas', 'size': [0, 0, 6], 'output_size': [0, 6]}\n",
      "../mlmodels/dataset/timeseries/GOOG-year.csv\n",
      "         Date        Open        High         Low       Close   Adj Close  \\\n",
      "0  2016-11-02  778.200012  781.650024  763.450012  768.700012  768.700012   \n",
      "1  2016-11-03  767.250000  769.950012  759.030029  762.130005  762.130005   \n",
      "2  2016-11-04  750.659973  770.359985  750.560974  762.020020  762.020020   \n",
      "3  2016-11-07  774.500000  785.190002  772.549988  782.520020  782.520020   \n",
      "4  2016-11-08  783.400024  795.632996  780.190002  790.510010  790.510010   \n",
      "\n",
      "    Volume  \n",
      "0  1872400  \n",
      "1  1943200  \n",
      "2  2134800  \n",
      "3  1585100  \n",
      "4  1350800  \n",
      "          0         1         2         3         4         5\n",
      "0  0.706562  0.629914  0.682052  0.599302  0.599302  0.153665\n",
      "1  0.458824  0.320251  0.598101  0.478596  0.478596  0.174523\n",
      "2  0.083484  0.331101  0.437246  0.476576  0.476576  0.230969\n",
      "3  0.622851  0.723606  0.854891  0.853206  0.853206  0.069025\n",
      "4  0.824209  1.000000  1.000000  1.000000  1.000000  0.000000\n",
      "5  0.745928  0.883387  0.838176  0.904464  0.904464  0.370110\n",
      "6  1.000000  0.881878  0.467996  0.486496  0.486496  1.000000\n",
      "7  0.216516  0.077549  0.433808  0.329598  0.329598  0.318466\n",
      "8  0.195249  0.000000  0.000000  0.000000  0.000000  0.671960\n",
      "9  0.000000  0.173783  0.369041  0.411721  0.411721  0.304384\n"
     ]
    }
   ],
   "source": [
    "#### Inference\n",
    "ypred       = module.predict(model, sess=sess,  data_pars=data_pars, compute_pars=compute_pars, out_pars=out_pars)     # predict pipeline"
   ]
  },
  {
   "cell_type": "markdown",
   "metadata": {},
   "source": [
    "## Command line test"
   ]
  },
  {
   "cell_type": "code",
   "execution_count": 1,
   "metadata": {},
   "outputs": [
    {
     "name": "stdout",
     "output_type": "stream",
     "text": [
      "test\n",
      "model_tf/1_lstm.py\n",
      "model_tf.1_lstm.py\n",
      "<module 'mlmodels.model_tf.1_lstm' from '/home/jalfaizy/workspace/upwork/mlmodels/mlmodels/mlmodels/model_tf/1_lstm.py'>\n",
      "<module 'mlmodels.model_tf.1_lstm' from '/home/jalfaizy/workspace/upwork/mlmodels/mlmodels/mlmodels/model_tf/1_lstm.py'>\n",
      "\n",
      "  ('#### Loading params   ##############################################',) \n",
      "\n",
      "  ('############# Data, Params preparation   #################',) \n",
      "{'learning_rate': 0.001, 'num_layers': 1, 'size': None, 'size_layer': 128, 'output_size': None, 'timestep': 4, 'epoch': 2} {'data_path': '/home/jalfaizy/workspace/upwork/mlmodels/mlmodels/mlmodels/dataset/timeseries/GOOG-year.csv', 'data_type': 'pandas'} {} {'path': '/home/jalfaizy/workspace/upwork/mlmodels/mlmodels/mlmodels/dataset/timeseries/GOOG-year.csv'}\n",
      "\n",
      "  ('#### Loading dataset   #############################################',) \n",
      "{'data_path': '/home/jalfaizy/workspace/upwork/mlmodels/mlmodels/mlmodels/dataset/timeseries/GOOG-year.csv', 'data_type': 'pandas'}\n",
      "/home/jalfaizy/workspace/upwork/mlmodels/mlmodels/mlmodels/dataset/timeseries/GOOG-year.csv\n",
      "         Date        Open        High  ...       Close   Adj Close   Volume\n",
      "0  2016-11-02  778.200012  781.650024  ...  768.700012  768.700012  1872400\n",
      "1  2016-11-03  767.250000  769.950012  ...  762.130005  762.130005  1943200\n",
      "2  2016-11-04  750.659973  770.359985  ...  762.020020  762.020020  2134800\n",
      "3  2016-11-07  774.500000  785.190002  ...  782.520020  782.520020  1585100\n",
      "4  2016-11-08  783.400024  795.632996  ...  790.510010  790.510010  1350800\n",
      "\n",
      "[5 rows x 7 columns]\n",
      "\n",
      "  ('############ Model preparation   #########################',) \n",
      "<module 'mlmodels.model_tf.1_lstm' from '/home/jalfaizy/workspace/upwork/mlmodels/mlmodels/mlmodels/model_tf/1_lstm.py'> <mlmodels.model_tf.1_lstm.Model object at 0x7f39ec6fe6d8>\n",
      "\n",
      "  ('############ Model fit   ##################################',) \n",
      "{'data_path': '/home/jalfaizy/workspace/upwork/mlmodels/mlmodels/mlmodels/dataset/timeseries/GOOG-year.csv', 'data_type': 'pandas'}\n",
      "/home/jalfaizy/workspace/upwork/mlmodels/mlmodels/mlmodels/dataset/timeseries/GOOG-year.csv\n",
      "         Date        Open        High  ...       Close   Adj Close   Volume\n",
      "0  2016-11-02  778.200012  781.650024  ...  768.700012  768.700012  1872400\n",
      "1  2016-11-03  767.250000  769.950012  ...  762.130005  762.130005  1943200\n",
      "2  2016-11-04  750.659973  770.359985  ...  762.020020  762.020020  2134800\n",
      "3  2016-11-07  774.500000  785.190002  ...  782.520020  782.520020  1585100\n",
      "4  2016-11-08  783.400024  795.632996  ...  790.510010  790.510010  1350800\n",
      "\n",
      "[5 rows x 7 columns]\n",
      "          0         1         2         3         4         5\n",
      "0  0.706562  0.629914  0.682052  0.599302  0.599302  0.153665\n",
      "1  0.458824  0.320251  0.598101  0.478596  0.478596  0.174523\n",
      "2  0.083484  0.331101  0.437246  0.476576  0.476576  0.230969\n",
      "3  0.622851  0.723606  0.854891  0.853206  0.853206  0.069025\n",
      "4  0.824209  1.000000  1.000000  1.000000  1.000000  0.000000\n",
      "fit success <tensorflow.python.client.session.InteractiveSession object at 0x7f399e084748>\n",
      "\n",
      "  ('############ Prediction##########################',) \n",
      "{'data_path': '/home/jalfaizy/workspace/upwork/mlmodels/mlmodels/mlmodels/dataset/timeseries/GOOG-year.csv', 'data_type': 'pandas'}\n",
      "/home/jalfaizy/workspace/upwork/mlmodels/mlmodels/mlmodels/dataset/timeseries/GOOG-year.csv\n",
      "         Date        Open        High  ...       Close   Adj Close   Volume\n",
      "0  2016-11-02  778.200012  781.650024  ...  768.700012  768.700012  1872400\n",
      "1  2016-11-03  767.250000  769.950012  ...  762.130005  762.130005  1943200\n",
      "2  2016-11-04  750.659973  770.359985  ...  762.020020  762.020020  2134800\n",
      "3  2016-11-07  774.500000  785.190002  ...  782.520020  782.520020  1585100\n",
      "4  2016-11-08  783.400024  795.632996  ...  790.510010  790.510010  1350800\n",
      "\n",
      "[5 rows x 7 columns]\n",
      "          0         1         2         3         4         5\n",
      "0  0.706562  0.629914  0.682052  0.599302  0.599302  0.153665\n",
      "1  0.458824  0.320251  0.598101  0.478596  0.478596  0.174523\n",
      "2  0.083484  0.331101  0.437246  0.476576  0.476576  0.230969\n",
      "3  0.622851  0.723606  0.854891  0.853206  0.853206  0.069025\n",
      "4  0.824209  1.000000  1.000000  1.000000  1.000000  0.000000\n",
      "5  0.745928  0.883387  0.838176  0.904464  0.904464  0.370110\n",
      "6  1.000000  0.881878  0.467996  0.486496  0.486496  1.000000\n",
      "7  0.216516  0.077549  0.433808  0.329598  0.329598  0.318466\n",
      "8  0.195249  0.000000  0.000000  0.000000  0.000000  0.671960\n",
      "9  0.000000  0.173783  0.369041  0.411721  0.411721  0.304384\n",
      "[[ 0.00000000e+00  0.00000000e+00  0.00000000e+00  0.00000000e+00\n",
      "   0.00000000e+00  0.00000000e+00]\n",
      " [ 1.40709311e-01  3.42368148e-04  1.35265619e-01  1.37375697e-01\n",
      "   1.46329328e-01  9.45960954e-02]\n",
      " [ 2.07141995e-01  1.02913380e-01  1.36761576e-01  2.17514083e-01\n",
      "   3.12985256e-02 -5.51533513e-02]\n",
      " [-2.91534178e-02 -1.01325754e-03  5.16091213e-02  2.13935733e-01\n",
      "  -7.92660564e-02 -7.14344606e-02]\n",
      " [-1.02743551e-01 -5.79774752e-02  1.90628260e-01 -4.25289899e-01\n",
      "  -1.57140926e-01 -3.30255553e-02]\n",
      " [ 7.06314892e-02 -1.98183507e-02  4.58575875e-01  3.93844955e-03\n",
      "   2.88146049e-01 -1.77359149e-01]\n",
      " [ 5.70919275e-01 -5.13201416e-01  9.56820965e-01  3.25449079e-01\n",
      "  -1.57967359e-01  1.34812117e-01]\n",
      " [ 1.00680128e-01  7.01511860e-01 -1.11765146e-01  6.33317046e-03\n",
      "   2.63665691e-02  4.83853333e-02]\n",
      " [-5.52920811e-02 -1.29746661e-01  1.79003477e-01 -1.51063696e-01\n",
      "  -3.10875755e-03 -2.70402193e-01]\n",
      " [ 0.00000000e+00  0.00000000e+00  0.00000000e+00  0.00000000e+00\n",
      "   0.00000000e+00  0.00000000e+00]]\n",
      "model_tf/1_lstm.py\n",
      "model_tf.1_lstm.py\n",
      "<module 'mlmodels.model_tf.1_lstm' from '/home/jalfaizy/workspace/upwork/mlmodels/mlmodels/mlmodels/model_tf/1_lstm.py'>\n",
      "<module 'mlmodels.model_tf.1_lstm' from '/home/jalfaizy/workspace/upwork/mlmodels/mlmodels/mlmodels/model_tf/1_lstm.py'>\n",
      "Failed module 'mlmodels.model_tf.1_lstm' has no attribute 'test_global'\n"
     ]
    }
   ],
   "source": [
    "!ml_models  --model_uri model_tf/1_lstm.py  --do test"
   ]
  },
  {
   "cell_type": "code",
   "execution_count": null,
   "metadata": {},
   "outputs": [],
   "source": []
  }
 ],
 "metadata": {
  "hide_input": false,
  "kernelspec": {
   "display_name": "Python [conda env:mlmodels2]",
   "language": "python",
   "name": "conda-env-mlmodels2-py"
  },
  "language_info": {
   "codemirror_mode": {
    "name": "ipython",
    "version": 3
   },
   "file_extension": ".py",
   "mimetype": "text/x-python",
   "name": "python",
   "nbconvert_exporter": "python",
   "pygments_lexer": "ipython3",
   "version": "3.6.5"
  },
  "toc": {
   "base_numbering": 1,
   "nav_menu": {},
   "number_sections": true,
   "sideBar": true,
   "skip_h1_title": false,
   "title_cell": "Table of Contents",
   "title_sidebar": "Contents",
   "toc_cell": false,
   "toc_position": {},
   "toc_section_display": true,
   "toc_window_display": false
  },
  "varInspector": {
   "cols": {
    "lenName": 16,
    "lenType": 16,
    "lenVar": 40
   },
   "kernels_config": {
    "python": {
     "delete_cmd_postfix": "",
     "delete_cmd_prefix": "del ",
     "library": "var_list.py",
     "varRefreshCmd": "print(var_dic_list())"
    },
    "r": {
     "delete_cmd_postfix": ") ",
     "delete_cmd_prefix": "rm(",
     "library": "var_list.r",
     "varRefreshCmd": "cat(var_dic_list()) "
    }
   },
   "types_to_exclude": [
    "module",
    "function",
    "builtin_function_or_method",
    "instance",
    "_Feature"
   ],
   "window_display": false
  }
 },
 "nbformat": 4,
 "nbformat_minor": 4
}
