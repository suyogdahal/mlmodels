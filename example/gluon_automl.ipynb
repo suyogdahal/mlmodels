{
 "cells": [
  {
   "cell_type": "code",
   "execution_count": 1,
   "metadata": {},
   "outputs": [
    {
     "name": "stderr",
     "output_type": "stream",
     "text": [
      "/home/jalfaizy/miniconda3/envs/py36/lib/python3.6/site-packages/mxnet/optimizer/optimizer.py:167: UserWarning: WARNING: New optimizer gluonnlp.optimizer.lamb.LAMB is overriding existing optimizer mxnet.optimizer.optimizer.LAMB\n",
      "  Optimizer.opt_registry[name].__name__))\n"
     ]
    }
   ],
   "source": [
    "# import library\n",
    "import mlmodels\n",
    "import autogluon as ag"
   ]
  },
  {
   "cell_type": "markdown",
   "metadata": {},
   "source": [
    "## Define model and data definitions"
   ]
  },
  {
   "cell_type": "code",
   "execution_count": 2,
   "metadata": {},
   "outputs": [],
   "source": [
    "model_uri = \"model_gluon.gluon_automl.py\"\n",
    "data_pars = {\"train\": True, \"uri_type\": \"amazon_aws\", \"dt_name\": \"Inc\"}\n",
    "\n",
    "model_pars = {\"model_type\": \"tabular\",\n",
    "              \"learning_rate\": ag.space.Real(1e-4, 1e-2, default=5e-4, log=True),\n",
    "              \"activation\": ag.space.Categorical(*tuple([\"relu\", \"softrelu\", \"tanh\"])),\n",
    "              \"layers\": ag.space.Categorical(\n",
    "                          *tuple([[100], [1000], [200, 100], [300, 200, 100]])),\n",
    "              'dropout_prob': ag.space.Real(0.0, 0.5, default=0.1),\n",
    "              'num_boost_round': 10,\n",
    "              'num_leaves': ag.space.Int(lower=26, upper=30, default=36)\n",
    "             }\n",
    "\n",
    "\n",
    "compute_pars = {\n",
    "    \"hp_tune\": True,\n",
    "    \"num_epochs\": 10,\n",
    "    \"time_limits\": 120,\n",
    "    \"num_trials\": 5,\n",
    "    \"search_strategy\": \"skopt\"\n",
    "}\n",
    "\n",
    "out_pars = {\n",
    "    \"out_path\": \"dataset/\"\n",
    "}"
   ]
  },
  {
   "cell_type": "markdown",
   "metadata": {},
   "source": [
    "## Load parameters and train"
   ]
  },
  {
   "cell_type": "code",
   "execution_count": 3,
   "metadata": {},
   "outputs": [],
   "source": [
    "from mlmodels.models import module_load\n",
    "from mlmodels.model_gluon.util_autogluon import fit, metrics\n",
    "\n",
    "module        =  module_load( model_uri= model_uri )                           # Load file definition\n",
    "model         =  module.Model(model_pars=model_pars, compute_pars=compute_pars)             # Create Model instance"
   ]
  },
  {
   "cell_type": "code",
   "execution_count": 4,
   "metadata": {},
   "outputs": [
    {
     "name": "stderr",
     "output_type": "stream",
     "text": [
      "Loaded data from: https://autogluon.s3.amazonaws.com/datasets/Inc/train.csv | Columns = 15 / 15 | Rows = 39073 -> 39073\n",
      "Warning: `hyperparameter_tune=True` is currently experimental and may cause the process to hang. Setting `auto_stack=True` instead is recommended to achieve maximum quality models.\n",
      "Beginning AutoGluon training ... Time limit = 120s\n",
      "AutoGluon will save models to dataset/\n",
      "Train Data Rows:    39073\n",
      "Train Data Columns: 15\n",
      "Preprocessing data ...\n",
      "Here are the first 10 unique label values in your data:  [' Tech-support' ' Transport-moving' ' Other-service' ' ?'\n",
      " ' Handlers-cleaners' ' Sales' ' Craft-repair' ' Adm-clerical'\n",
      " ' Exec-managerial' ' Prof-specialty']\n",
      "AutoGluon infers your prediction problem is: multiclass  (because dtype of label-column == object)\n",
      "If this is wrong, please specify `problem_type` argument in fit() instead (You may specify problem_type as one of: ['binary', 'multiclass', 'regression'])\n",
      "\n",
      "Feature Generator processed 39073 data points with 14 features\n",
      "Original Features:\n",
      "\tint features: 6\n",
      "\tobject features: 8\n",
      "Generated Features:\n",
      "\tint features: 0\n",
      "All Features:\n",
      "\tint features: 6\n",
      "\tobject features: 8\n",
      "\tData preprocessing and feature engineering runtime = 0.17s ...\n",
      "AutoGluon will gauge predictive performance using evaluation metric: accuracy\n",
      "To change this, specify the eval_metric argument of fit()\n",
      "AutoGluon will early stop models using evaluation metric: accuracy\n",
      "  File \"/home/jalfaizy/miniconda3/envs/py36/lib/python3.6/site-packages/autogluon/utils/tabular/ml/trainer/abstract_trainer.py\", line 360, in train_single_full\n",
      "    Y_train=y_train, Y_test=y_test, scheduler_options=(self.scheduler_func, self.scheduler_options), verbosity=self.verbosity)\n",
      "  File \"/home/jalfaizy/miniconda3/envs/py36/lib/python3.6/site-packages/autogluon/utils/tabular/ml/models/lgb/lgb_model.py\", line 283, in hyperparameter_tune\n",
      "    directory=directory, lgb_model=self, **params_copy)\n",
      "  File \"/home/jalfaizy/miniconda3/envs/py36/lib/python3.6/site-packages/autogluon/core/decorator.py\", line 69, in register_args\n",
      "    self.update(**kwvars)\n",
      "  File \"/home/jalfaizy/miniconda3/envs/py36/lib/python3.6/site-packages/autogluon/core/decorator.py\", line 79, in update\n",
      "    hp = v.get_hp(name=k)\n",
      "  File \"/home/jalfaizy/miniconda3/envs/py36/lib/python3.6/site-packages/autogluon/core/space.py\", line 451, in get_hp\n",
      "    default_value=self._default)\n",
      "  File \"ConfigSpace/hyperparameters.pyx\", line 773, in ConfigSpace.hyperparameters.UniformIntegerHyperparameter.__init__\n",
      "  File \"ConfigSpace/hyperparameters.pyx\", line 843, in ConfigSpace.hyperparameters.UniformIntegerHyperparameter.check_default\n",
      "Warning: Exception caused LightGBMClassifier to fail during hyperparameter tuning... Skipping this model.\n",
      "Traceback (most recent call last):\n",
      "  File \"/home/jalfaizy/miniconda3/envs/py36/lib/python3.6/site-packages/autogluon/utils/tabular/ml/trainer/abstract_trainer.py\", line 360, in train_single_full\n",
      "    Y_train=y_train, Y_test=y_test, scheduler_options=(self.scheduler_func, self.scheduler_options), verbosity=self.verbosity)\n",
      "  File \"/home/jalfaizy/miniconda3/envs/py36/lib/python3.6/site-packages/autogluon/utils/tabular/ml/models/lgb/lgb_model.py\", line 283, in hyperparameter_tune\n",
      "    directory=directory, lgb_model=self, **params_copy)\n",
      "  File \"/home/jalfaizy/miniconda3/envs/py36/lib/python3.6/site-packages/autogluon/core/decorator.py\", line 69, in register_args\n",
      "    self.update(**kwvars)\n",
      "  File \"/home/jalfaizy/miniconda3/envs/py36/lib/python3.6/site-packages/autogluon/core/decorator.py\", line 79, in update\n",
      "    hp = v.get_hp(name=k)\n",
      "  File \"/home/jalfaizy/miniconda3/envs/py36/lib/python3.6/site-packages/autogluon/core/space.py\", line 451, in get_hp\n",
      "    default_value=self._default)\n",
      "  File \"ConfigSpace/hyperparameters.pyx\", line 773, in ConfigSpace.hyperparameters.UniformIntegerHyperparameter.__init__\n",
      "  File \"ConfigSpace/hyperparameters.pyx\", line 843, in ConfigSpace.hyperparameters.UniformIntegerHyperparameter.check_default\n",
      "ValueError: Illegal default value 36\n",
      "Starting Experiments\n",
      "Num of Finished Tasks is 0\n",
      "Num of Pending Tasks is 5\n"
     ]
    },
    {
     "data": {
      "application/vnd.jupyter.widget-view+json": {
       "model_id": "77676d40ab30486f874e402b0de5bf89",
       "version_major": 2,
       "version_minor": 0
      },
      "text/plain": [
       "HBox(children=(FloatProgress(value=0.0, max=5.0), HTML(value='')))"
      ]
     },
     "metadata": {},
     "output_type": "display_data"
    },
    {
     "name": "stderr",
     "output_type": "stream",
     "text": [
      "Finished Task with config: {'activation.choice': 0, 'dropout_prob': 0.1, 'embedding_size_factor': 1.0, 'layers.choice': 0, 'learning_rate': 0.0005, 'network_type.choice': 0, 'use_batchnorm.choice': 0, 'weight_decay': 1e-06} and reward: 0.3862\n",
      "Finished Task with config: b'\\x80\\x03}q\\x00(X\\x11\\x00\\x00\\x00activation.choiceq\\x01K\\x00X\\x0c\\x00\\x00\\x00dropout_probq\\x02G?\\xb9\\x99\\x99\\x99\\x99\\x99\\x9aX\\x15\\x00\\x00\\x00embedding_size_factorq\\x03G?\\xf0\\x00\\x00\\x00\\x00\\x00\\x00X\\r\\x00\\x00\\x00layers.choiceq\\x04K\\x00X\\r\\x00\\x00\\x00learning_rateq\\x05G?@bM\\xd2\\xf1\\xa9\\xfcX\\x13\\x00\\x00\\x00network_type.choiceq\\x06K\\x00X\\x14\\x00\\x00\\x00use_batchnorm.choiceq\\x07K\\x00X\\x0c\\x00\\x00\\x00weight_decayq\\x08G>\\xb0\\xc6\\xf7\\xa0\\xb5\\xed\\x8du.' and reward: 0.3862\n",
      "Finished Task with config: b'\\x80\\x03}q\\x00(X\\x11\\x00\\x00\\x00activation.choiceq\\x01K\\x00X\\x0c\\x00\\x00\\x00dropout_probq\\x02G?\\xb9\\x99\\x99\\x99\\x99\\x99\\x9aX\\x15\\x00\\x00\\x00embedding_size_factorq\\x03G?\\xf0\\x00\\x00\\x00\\x00\\x00\\x00X\\r\\x00\\x00\\x00layers.choiceq\\x04K\\x00X\\r\\x00\\x00\\x00learning_rateq\\x05G?@bM\\xd2\\xf1\\xa9\\xfcX\\x13\\x00\\x00\\x00network_type.choiceq\\x06K\\x00X\\x14\\x00\\x00\\x00use_batchnorm.choiceq\\x07K\\x00X\\x0c\\x00\\x00\\x00weight_decayq\\x08G>\\xb0\\xc6\\xf7\\xa0\\xb5\\xed\\x8du.' and reward: 0.3862\n",
      "Finished Task with config: {'activation.choice': 0, 'dropout_prob': 0.06242279301009053, 'embedding_size_factor': 0.8894970996440119, 'layers.choice': 0, 'learning_rate': 0.00040658723058490016, 'network_type.choice': 1, 'use_batchnorm.choice': 1, 'weight_decay': 1.396071956600701e-07} and reward: 0.3582\n",
      "Finished Task with config: b'\\x80\\x03}q\\x00(X\\x11\\x00\\x00\\x00activation.choiceq\\x01K\\x00X\\x0c\\x00\\x00\\x00dropout_probq\\x02G?\\xaf\\xf5\\xe1]\\x01\\xb2\\xaaX\\x15\\x00\\x00\\x00embedding_size_factorq\\x03G?\\xecv\\xc2\\x9f\\x1bs\\xcaX\\r\\x00\\x00\\x00layers.choiceq\\x04K\\x00X\\r\\x00\\x00\\x00learning_rateq\\x05G?:\\xa5f\\xdb\\xbb\\xbc\"X\\x13\\x00\\x00\\x00network_type.choiceq\\x06K\\x01X\\x14\\x00\\x00\\x00use_batchnorm.choiceq\\x07K\\x01X\\x0c\\x00\\x00\\x00weight_decayq\\x08G>\\x82\\xbc\\xdd\\xe1-,\\xddu.' and reward: 0.3582\n",
      "Finished Task with config: b'\\x80\\x03}q\\x00(X\\x11\\x00\\x00\\x00activation.choiceq\\x01K\\x00X\\x0c\\x00\\x00\\x00dropout_probq\\x02G?\\xaf\\xf5\\xe1]\\x01\\xb2\\xaaX\\x15\\x00\\x00\\x00embedding_size_factorq\\x03G?\\xecv\\xc2\\x9f\\x1bs\\xcaX\\r\\x00\\x00\\x00layers.choiceq\\x04K\\x00X\\r\\x00\\x00\\x00learning_rateq\\x05G?:\\xa5f\\xdb\\xbb\\xbc\"X\\x13\\x00\\x00\\x00network_type.choiceq\\x06K\\x01X\\x14\\x00\\x00\\x00use_batchnorm.choiceq\\x07K\\x01X\\x0c\\x00\\x00\\x00weight_decayq\\x08G>\\x82\\xbc\\xdd\\xe1-,\\xddu.' and reward: 0.3582\n",
      "Finished Task with config: {'activation.choice': 0, 'dropout_prob': 0.13655907188097413, 'embedding_size_factor': 1.4763965823278142, 'layers.choice': 1, 'learning_rate': 0.0015973685341835674, 'network_type.choice': 0, 'use_batchnorm.choice': 1, 'weight_decay': 1.2699735047674838e-05} and reward: 0.3898\n",
      "Finished Task with config: b'\\x80\\x03}q\\x00(X\\x11\\x00\\x00\\x00activation.choiceq\\x01K\\x00X\\x0c\\x00\\x00\\x00dropout_probq\\x02G?\\xc1z\\xc4\\x85\\xd9\\xb6\\xffX\\x15\\x00\\x00\\x00embedding_size_factorq\\x03G?\\xf7\\x9fR\\x05\\xd0b\\xdaX\\r\\x00\\x00\\x00layers.choiceq\\x04K\\x01X\\r\\x00\\x00\\x00learning_rateq\\x05G?Z+\\xd9gKi\\xe1X\\x13\\x00\\x00\\x00network_type.choiceq\\x06K\\x00X\\x14\\x00\\x00\\x00use_batchnorm.choiceq\\x07K\\x01X\\x0c\\x00\\x00\\x00weight_decayq\\x08G>\\xea\\xa2\\x1eKX\\xd3*u.' and reward: 0.3898\n",
      "Finished Task with config: b'\\x80\\x03}q\\x00(X\\x11\\x00\\x00\\x00activation.choiceq\\x01K\\x00X\\x0c\\x00\\x00\\x00dropout_probq\\x02G?\\xc1z\\xc4\\x85\\xd9\\xb6\\xffX\\x15\\x00\\x00\\x00embedding_size_factorq\\x03G?\\xf7\\x9fR\\x05\\xd0b\\xdaX\\r\\x00\\x00\\x00layers.choiceq\\x04K\\x01X\\r\\x00\\x00\\x00learning_rateq\\x05G?Z+\\xd9gKi\\xe1X\\x13\\x00\\x00\\x00network_type.choiceq\\x06K\\x00X\\x14\\x00\\x00\\x00use_batchnorm.choiceq\\x07K\\x01X\\x0c\\x00\\x00\\x00weight_decayq\\x08G>\\xea\\xa2\\x1eKX\\xd3*u.' and reward: 0.3898\n",
      "Finished Task with config: {'activation.choice': 2, 'dropout_prob': 0.10772065541754242, 'embedding_size_factor': 1.0979030160904384, 'layers.choice': 0, 'learning_rate': 0.008333862903228807, 'network_type.choice': 0, 'use_batchnorm.choice': 1, 'weight_decay': 5.157414893660699e-10} and reward: 0.3886\n",
      "Finished Task with config: b'\\x80\\x03}q\\x00(X\\x11\\x00\\x00\\x00activation.choiceq\\x01K\\x02X\\x0c\\x00\\x00\\x00dropout_probq\\x02G?\\xbb\\x93\\x94\\xb4\\x1f=ZX\\x15\\x00\\x00\\x00embedding_size_factorq\\x03G?\\xf1\\x91\\x02\\xc0\\xc4\\x9crX\\r\\x00\\x00\\x00layers.choiceq\\x04K\\x00X\\r\\x00\\x00\\x00learning_rateq\\x05G?\\x81\\x11X$\\xf3!\\x07X\\x13\\x00\\x00\\x00network_type.choiceq\\x06K\\x00X\\x14\\x00\\x00\\x00use_batchnorm.choiceq\\x07K\\x01X\\x0c\\x00\\x00\\x00weight_decayq\\x08G>\\x01\\xb8\\x82\\x96\\xf4<\\xcdu.' and reward: 0.3886\n",
      "Finished Task with config: b'\\x80\\x03}q\\x00(X\\x11\\x00\\x00\\x00activation.choiceq\\x01K\\x02X\\x0c\\x00\\x00\\x00dropout_probq\\x02G?\\xbb\\x93\\x94\\xb4\\x1f=ZX\\x15\\x00\\x00\\x00embedding_size_factorq\\x03G?\\xf1\\x91\\x02\\xc0\\xc4\\x9crX\\r\\x00\\x00\\x00layers.choiceq\\x04K\\x00X\\r\\x00\\x00\\x00learning_rateq\\x05G?\\x81\\x11X$\\xf3!\\x07X\\x13\\x00\\x00\\x00network_type.choiceq\\x06K\\x00X\\x14\\x00\\x00\\x00use_batchnorm.choiceq\\x07K\\x01X\\x0c\\x00\\x00\\x00weight_decayq\\x08G>\\x01\\xb8\\x82\\x96\\xf4<\\xcdu.' and reward: 0.3886\n",
      "Please either provide filename or allow plot in get_training_curves\n",
      "Fitting model: weighted_ensemble_k0_l1 ... Training model for up to 119.83s of the 19.69s of remaining time.\n",
      "\t0.394\t = Validation accuracy score\n",
      "\t0.83s\t = Training runtime\n",
      "\t0.0s\t = Validation runtime\n",
      "AutoGluon training complete, total runtime = 101.17s ...\n"
     ]
    },
    {
     "data": {
      "image/png": "[encoded data removed]",
      "text/plain": [
       "<Figure size 432x288 with 1 Axes>"
      ]
     },
     "metadata": {
      "needs_background": "light"
     },
     "output_type": "display_data"
    }
   ],
   "source": [
    "model   =  fit(model, data_pars=data_pars, model_pars=model_pars, compute_pars=compute_pars, out_pars=out_pars)          # fit the model"
   ]
  },
  {
   "cell_type": "markdown",
   "metadata": {},
   "source": [
    "## Check inference"
   ]
  },
  {
   "cell_type": "code",
   "execution_count": 5,
   "metadata": {},
   "outputs": [
    {
     "name": "stderr",
     "output_type": "stream",
     "text": [
      "Loaded data from: https://autogluon.s3.amazonaws.com/datasets/Inc/test.csv | Columns = 15 / 15 | Rows = 9769 -> 9769\n"
     ]
    },
    {
     "data": {
      "text/plain": [
       "array([' Other-service', ' Craft-repair', ' Exec-managerial', ...,\n",
       "       ' Transport-moving', ' Other-service', ' Craft-repair'],\n",
       "      dtype=object)"
      ]
     },
     "execution_count": 5,
     "metadata": {},
     "output_type": "execute_result"
    }
   ],
   "source": [
    "ypred       = module.predict(model,  data_pars=data_pars, compute_pars=compute_pars, out_pars=out_pars)     # predict pipeline\n",
    "ypred"
   ]
  },
  {
   "cell_type": "code",
   "execution_count": null,
   "metadata": {},
   "outputs": [],
   "source": []
  },
  {
   "cell_type": "markdown",
   "metadata": {},
   "source": [
    "## Command line test"
   ]
  },
  {
   "cell_type": "code",
   "execution_count": 1,
   "metadata": {},
   "outputs": [
    {
     "name": "stdout",
     "output_type": "stream",
     "text": [
      "test\n",
      "model_gluon/gluon_automl.py\n",
      "model_gluon.gluon_automl.py\n",
      "/home/jalfaizy/miniconda3/envs/py36/lib/python3.6/site-packages/mxnet/optimizer/optimizer.py:167: UserWarning: WARNING: New optimizer gluonnlp.optimizer.lamb.LAMB is overriding existing optimizer mxnet.optimizer.optimizer.LAMB\n",
      "  Optimizer.opt_registry[name].__name__))\n",
      "<module 'mlmodels.model_gluon.gluon_automl' from '/home/jalfaizy/workspace/upwork/mlmodels/mlmodels/mlmodels/model_gluon/gluon_automl.py'>\n",
      "<module 'mlmodels.model_gluon.gluon_automl' from '/home/jalfaizy/workspace/upwork/mlmodels/mlmodels/mlmodels/model_gluon/gluon_automl.py'>\n",
      "\n",
      "  ('#### Loading params   ##############################################',) \n",
      "\n",
      "  ('#### Model params   ################################################',) \n",
      "\n",
      "  ('#### Loading dataset   #############################################',) \n",
      "Loaded data from: https://autogluon.s3.amazonaws.com/datasets/Inc/train.csv | Columns = 15 / 15 | Rows = 39073 -> 39073\n",
      "\n",
      "  ('#### Model init, fit   #############################################',) \n",
      "Loaded data from: https://autogluon.s3.amazonaws.com/datasets/Inc/train.csv | Columns = 15 / 15 | Rows = 39073 -> 39073\n",
      "Warning: `hyperparameter_tune=True` is currently experimental and may cause the process to hang. Setting `auto_stack=True` instead is recommended to achieve maximum quality models.\n",
      "Beginning AutoGluon training ... Time limit = 120s\n",
      "AutoGluon will save models to dataset/\n",
      "Train Data Rows:    39073\n",
      "Train Data Columns: 15\n",
      "Preprocessing data ...\n",
      "Here are the first 10 unique label values in your data:  [' Tech-support' ' Transport-moving' ' Other-service' ' ?'\n",
      " ' Handlers-cleaners' ' Sales' ' Craft-repair' ' Adm-clerical'\n",
      " ' Exec-managerial' ' Prof-specialty']\n",
      "AutoGluon infers your prediction problem is: multiclass  (because dtype of label-column == object)\n",
      "If this is wrong, please specify `problem_type` argument in fit() instead (You may specify problem_type as one of: ['binary', 'multiclass', 'regression'])\n",
      "\n",
      "Feature Generator processed 39073 data points with 14 features\n",
      "Original Features:\n",
      "\tint features: 6\n",
      "\tobject features: 8\n",
      "Generated Features:\n",
      "\tint features: 0\n",
      "All Features:\n",
      "\tint features: 6\n",
      "\tobject features: 8\n",
      "\tData preprocessing and feature engineering runtime = 0.31s ...\n",
      "AutoGluon will gauge predictive performance using evaluation metric: accuracy\n",
      "To change this, specify the eval_metric argument of fit()\n",
      "AutoGluon will early stop models using evaluation metric: accuracy\n",
      "Starting Experiments\n",
      "Num of Finished Tasks is 0\n",
      "Num of Pending Tasks is 5\n",
      "  0%|                                                     | 0/5 [00:00<?, ?it/s]Finished Task with config: {'feature_fraction': 1.0, 'learning_rate': 0.1, 'min_data_in_leaf': 20, 'num_leaves': 36} and reward: 0.3908\n",
      "Finished Task with config: b'\\x80\\x03}q\\x00(X\\x10\\x00\\x00\\x00feature_fractionq\\x01G?\\xf0\\x00\\x00\\x00\\x00\\x00\\x00X\\r\\x00\\x00\\x00learning_rateq\\x02G?\\xb9\\x99\\x99\\x99\\x99\\x99\\x9aX\\x10\\x00\\x00\\x00min_data_in_leafq\\x03K\\x14X\\n\\x00\\x00\\x00num_leavesq\\x04K$u.' and reward: 0.3908\n",
      "Finished Task with config: b'\\x80\\x03}q\\x00(X\\x10\\x00\\x00\\x00feature_fractionq\\x01G?\\xf0\\x00\\x00\\x00\\x00\\x00\\x00X\\r\\x00\\x00\\x00learning_rateq\\x02G?\\xb9\\x99\\x99\\x99\\x99\\x99\\x9aX\\x10\\x00\\x00\\x00min_data_in_leafq\\x03K\\x14X\\n\\x00\\x00\\x00num_leavesq\\x04K$u.' and reward: 0.3908\n",
      " 40%|██████████████████                           | 2/5 [00:09<00:14,  4.67s/it]Finished Task with config: {'feature_fraction': 0.7953624673171374, 'learning_rate': 0.009976335803655765, 'min_data_in_leaf': 29, 'num_leaves': 30} and reward: 0.3864\n",
      "Finished Task with config: b'\\x80\\x03}q\\x00(X\\x10\\x00\\x00\\x00feature_fractionq\\x01G?\\xe9s\\x9b\\xfd2\\xf9\\xa5X\\r\\x00\\x00\\x00learning_rateq\\x02G?\\x84ny \\x15\\xbd\\x85X\\x10\\x00\\x00\\x00min_data_in_leafq\\x03K\\x1dX\\n\\x00\\x00\\x00num_leavesq\\x04K\\x1eu.' and reward: 0.3864\n",
      "Finished Task with config: b'\\x80\\x03}q\\x00(X\\x10\\x00\\x00\\x00feature_fractionq\\x01G?\\xe9s\\x9b\\xfd2\\xf9\\xa5X\\r\\x00\\x00\\x00learning_rateq\\x02G?\\x84ny \\x15\\xbd\\x85X\\x10\\x00\\x00\\x00min_data_in_leafq\\x03K\\x1dX\\n\\x00\\x00\\x00num_leavesq\\x04K\\x1eu.' and reward: 0.3864\n",
      " 60%|███████████████████████████                  | 3/5 [00:15<00:09,  4.98s/it]Finished Task with config: {'feature_fraction': 0.9590141852225029, 'learning_rate': 0.009490550037055337, 'min_data_in_leaf': 6, 'num_leaves': 57} and reward: 0.3896\n",
      "Finished Task with config: b'\\x80\\x03}q\\x00(X\\x10\\x00\\x00\\x00feature_fractionq\\x01G?\\xee\\xb0>\\x84=\\xc8\\x98X\\r\\x00\\x00\\x00learning_rateq\\x02G?\\x83o\\xc8\\x10=\\xdb\\xbbX\\x10\\x00\\x00\\x00min_data_in_leafq\\x03K\\x06X\\n\\x00\\x00\\x00num_leavesq\\x04K9u.' and reward: 0.3896\n",
      "Finished Task with config: b'\\x80\\x03}q\\x00(X\\x10\\x00\\x00\\x00feature_fractionq\\x01G?\\xee\\xb0>\\x84=\\xc8\\x98X\\r\\x00\\x00\\x00learning_rateq\\x02G?\\x83o\\xc8\\x10=\\xdb\\xbbX\\x10\\x00\\x00\\x00min_data_in_leafq\\x03K\\x06X\\n\\x00\\x00\\x00num_leavesq\\x04K9u.' and reward: 0.3896\n",
      " 80%|████████████████████████████████████         | 4/5 [00:21<00:05,  5.56s/it]Finished Task with config: {'feature_fraction': 0.790621583431061, 'learning_rate': 0.11362111092357562, 'min_data_in_leaf': 30, 'num_leaves': 62} and reward: 0.391\n",
      "Finished Task with config: b'\\x80\\x03}q\\x00(X\\x10\\x00\\x00\\x00feature_fractionq\\x01G?\\xe9L\\xc5\\xa2\\x8b#\\xfcX\\r\\x00\\x00\\x00learning_rateq\\x02G?\\xbd\\x16E\\xeb\\x8dLOX\\x10\\x00\\x00\\x00min_data_in_leafq\\x03K\\x1eX\\n\\x00\\x00\\x00num_leavesq\\x04K>u.' and reward: 0.391\n",
      "Finished Task with config: b'\\x80\\x03}q\\x00(X\\x10\\x00\\x00\\x00feature_fractionq\\x01G?\\xe9L\\xc5\\xa2\\x8b#\\xfcX\\r\\x00\\x00\\x00learning_rateq\\x02G?\\xbd\\x16E\\xeb\\x8dLOX\\x10\\x00\\x00\\x00min_data_in_leafq\\x03K\\x1eX\\n\\x00\\x00\\x00num_leavesq\\x04K>u.' and reward: 0.391\n",
      "100%|█████████████████████████████████████████████| 5/5 [00:30<00:00,  6.06s/it]\n",
      "Finished Task with config: {'feature_fraction': 0.9568981292065704, 'learning_rate': 0.03203386405036084, 'min_data_in_leaf': 14, 'num_leaves': 37} and reward: 0.3932\n",
      "Finished Task with config: b'\\x80\\x03}q\\x00(X\\x10\\x00\\x00\\x00feature_fractionq\\x01G?\\xee\\x9e\\xe8\\xd3Qw6X\\r\\x00\\x00\\x00learning_rateq\\x02G?\\xa0f\\xbe\\x1c\\xeb\\xefGX\\x10\\x00\\x00\\x00min_data_in_leafq\\x03K\\x0eX\\n\\x00\\x00\\x00num_leavesq\\x04K%u.' and reward: 0.3932\n",
      "Finished Task with config: b'\\x80\\x03}q\\x00(X\\x10\\x00\\x00\\x00feature_fractionq\\x01G?\\xee\\x9e\\xe8\\xd3Qw6X\\r\\x00\\x00\\x00learning_rateq\\x02G?\\xa0f\\xbe\\x1c\\xeb\\xefGX\\x10\\x00\\x00\\x00min_data_in_leafq\\x03K\\x0eX\\n\\x00\\x00\\x00num_leavesq\\x04K%u.' and reward: 0.3932\n",
      "Starting Experiments\n",
      "Num of Finished Tasks is 0\n",
      "Num of Pending Tasks is 5\n",
      "  0%|                                                     | 0/5 [00:00<?, ?it/s]Finished Task with config: {'activation.choice': 0, 'dropout_prob': 0.1, 'embedding_size_factor': 1.0, 'layers.choice': 0, 'learning_rate': 0.0005, 'network_type.choice': 0, 'use_batchnorm.choice': 0, 'weight_decay': 1e-06} and reward: 0.3868\n",
      "Finished Task with config: b'\\x80\\x03}q\\x00(X\\x11\\x00\\x00\\x00activation.choiceq\\x01K\\x00X\\x0c\\x00\\x00\\x00dropout_probq\\x02G?\\xb9\\x99\\x99\\x99\\x99\\x99\\x9aX\\x15\\x00\\x00\\x00embedding_size_factorq\\x03G?\\xf0\\x00\\x00\\x00\\x00\\x00\\x00X\\r\\x00\\x00\\x00layers.choiceq\\x04K\\x00X\\r\\x00\\x00\\x00learning_rateq\\x05G?@bM\\xd2\\xf1\\xa9\\xfcX\\x13\\x00\\x00\\x00network_type.choiceq\\x06K\\x00X\\x14\\x00\\x00\\x00use_batchnorm.choiceq\\x07K\\x00X\\x0c\\x00\\x00\\x00weight_decayq\\x08G>\\xb0\\xc6\\xf7\\xa0\\xb5\\xed\\x8du.' and reward: 0.3868\n",
      "Finished Task with config: b'\\x80\\x03}q\\x00(X\\x11\\x00\\x00\\x00activation.choiceq\\x01K\\x00X\\x0c\\x00\\x00\\x00dropout_probq\\x02G?\\xb9\\x99\\x99\\x99\\x99\\x99\\x9aX\\x15\\x00\\x00\\x00embedding_size_factorq\\x03G?\\xf0\\x00\\x00\\x00\\x00\\x00\\x00X\\r\\x00\\x00\\x00layers.choiceq\\x04K\\x00X\\r\\x00\\x00\\x00learning_rateq\\x05G?@bM\\xd2\\xf1\\xa9\\xfcX\\x13\\x00\\x00\\x00network_type.choiceq\\x06K\\x00X\\x14\\x00\\x00\\x00use_batchnorm.choiceq\\x07K\\x00X\\x0c\\x00\\x00\\x00weight_decayq\\x08G>\\xb0\\xc6\\xf7\\xa0\\xb5\\xed\\x8du.' and reward: 0.3868\n",
      " 40%|██████████████████                           | 2/5 [00:18<00:27,  9.17s/it]Finished Task with config: {'activation.choice': 2, 'dropout_prob': 0.4984893589432635, 'embedding_size_factor': 0.634727556083092, 'layers.choice': 3, 'learning_rate': 0.00016217251521343916, 'network_type.choice': 1, 'use_batchnorm.choice': 0, 'weight_decay': 9.034662738907056e-12} and reward: 0.36\n",
      "Finished Task with config: b'\\x80\\x03}q\\x00(X\\x11\\x00\\x00\\x00activation.choiceq\\x01K\\x02X\\x0c\\x00\\x00\\x00dropout_probq\\x02G?\\xdf\\xe7?\\xe9\\x84.<X\\x15\\x00\\x00\\x00embedding_size_factorq\\x03G?\\xe4O\\xb0)\\xe7\\xe6}X\\r\\x00\\x00\\x00layers.choiceq\\x04K\\x03X\\r\\x00\\x00\\x00learning_rateq\\x05G?%A\\x9bL]\\x9fbX\\x13\\x00\\x00\\x00network_type.choiceq\\x06K\\x01X\\x14\\x00\\x00\\x00use_batchnorm.choiceq\\x07K\\x00X\\x0c\\x00\\x00\\x00weight_decayq\\x08G=\\xa3\\xde\\x10\\x1e\\xac}\\xedu.' and reward: 0.36\n",
      "Finished Task with config: b'\\x80\\x03}q\\x00(X\\x11\\x00\\x00\\x00activation.choiceq\\x01K\\x02X\\x0c\\x00\\x00\\x00dropout_probq\\x02G?\\xdf\\xe7?\\xe9\\x84.<X\\x15\\x00\\x00\\x00embedding_size_factorq\\x03G?\\xe4O\\xb0)\\xe7\\xe6}X\\r\\x00\\x00\\x00layers.choiceq\\x04K\\x03X\\r\\x00\\x00\\x00learning_rateq\\x05G?%A\\x9bL]\\x9fbX\\x13\\x00\\x00\\x00network_type.choiceq\\x06K\\x01X\\x14\\x00\\x00\\x00use_batchnorm.choiceq\\x07K\\x00X\\x0c\\x00\\x00\\x00weight_decayq\\x08G=\\xa3\\xde\\x10\\x1e\\xac}\\xedu.' and reward: 0.36\n"
     ]
    },
    {
     "name": "stdout",
     "output_type": "stream",
     "text": [
      " 60%|███████████████████████████                  | 3/5 [00:51<00:32, 16.24s/it]Finished Task with config: {'activation.choice': 2, 'dropout_prob': 0.4131577384353976, 'embedding_size_factor': 0.6654938211776524, 'layers.choice': 1, 'learning_rate': 0.00588093414606025, 'network_type.choice': 0, 'use_batchnorm.choice': 0, 'weight_decay': 0.0006452853419260255} and reward: 0.3726\n",
      "Finished Task with config: b\"\\x80\\x03}q\\x00(X\\x11\\x00\\x00\\x00activation.choiceq\\x01K\\x02X\\x0c\\x00\\x00\\x00dropout_probq\\x02G?\\xdaq-'\\xaa\\xd6\\xb6X\\x15\\x00\\x00\\x00embedding_size_factorq\\x03G?\\xe5K\\xb9\\xb2\\xb4\\xbd&X\\r\\x00\\x00\\x00layers.choiceq\\x04K\\x01X\\r\\x00\\x00\\x00learning_rateq\\x05G?x\\x16\\x9b=<s^X\\x13\\x00\\x00\\x00network_type.choiceq\\x06K\\x00X\\x14\\x00\\x00\\x00use_batchnorm.choiceq\\x07K\\x00X\\x0c\\x00\\x00\\x00weight_decayq\\x08G?E%\\x0b\\xb8W-\\x88u.\" and reward: 0.3726\n",
      "Finished Task with config: b\"\\x80\\x03}q\\x00(X\\x11\\x00\\x00\\x00activation.choiceq\\x01K\\x02X\\x0c\\x00\\x00\\x00dropout_probq\\x02G?\\xdaq-'\\xaa\\xd6\\xb6X\\x15\\x00\\x00\\x00embedding_size_factorq\\x03G?\\xe5K\\xb9\\xb2\\xb4\\xbd&X\\r\\x00\\x00\\x00layers.choiceq\\x04K\\x01X\\r\\x00\\x00\\x00learning_rateq\\x05G?x\\x16\\x9b=<s^X\\x13\\x00\\x00\\x00network_type.choiceq\\x06K\\x00X\\x14\\x00\\x00\\x00use_batchnorm.choiceq\\x07K\\x00X\\x0c\\x00\\x00\\x00weight_decayq\\x08G?E%\\x0b\\xb8W-\\x88u.\" and reward: 0.3726\n",
      " 80%|████████████████████████████████████         | 4/5 [02:03<00:32, 32.96s/it]Finished Task with config: {'activation.choice': 0, 'dropout_prob': 0.3283783550635294, 'embedding_size_factor': 1.0164039312108186, 'layers.choice': 2, 'learning_rate': 0.0018270124957008517, 'network_type.choice': 0, 'use_batchnorm.choice': 0, 'weight_decay': 4.815797626042326e-05} and reward: 0.387\n",
      "Finished Task with config: b'\\x80\\x03}q\\x00(X\\x11\\x00\\x00\\x00activation.choiceq\\x01K\\x00X\\x0c\\x00\\x00\\x00dropout_probq\\x02G?\\xd5\\x04&\\xa5\\xed\\x93\\x9eX\\x15\\x00\\x00\\x00embedding_size_factorq\\x03G?\\xf0C0\\xc4\\xc18\\x86X\\r\\x00\\x00\\x00layers.choiceq\\x04K\\x02X\\r\\x00\\x00\\x00learning_rateq\\x05G?]\\xef\\x0b\\xba\\xc7^bX\\x13\\x00\\x00\\x00network_type.choiceq\\x06K\\x00X\\x14\\x00\\x00\\x00use_batchnorm.choiceq\\x07K\\x00X\\x0c\\x00\\x00\\x00weight_decayq\\x08G?\\t?\\xa7v\\xf2\\xae\\x00u.' and reward: 0.387\n",
      "Finished Task with config: b'\\x80\\x03}q\\x00(X\\x11\\x00\\x00\\x00activation.choiceq\\x01K\\x00X\\x0c\\x00\\x00\\x00dropout_probq\\x02G?\\xd5\\x04&\\xa5\\xed\\x93\\x9eX\\x15\\x00\\x00\\x00embedding_size_factorq\\x03G?\\xf0C0\\xc4\\xc18\\x86X\\r\\x00\\x00\\x00layers.choiceq\\x04K\\x02X\\r\\x00\\x00\\x00learning_rateq\\x05G?]\\xef\\x0b\\xba\\xc7^bX\\x13\\x00\\x00\\x00network_type.choiceq\\x06K\\x00X\\x14\\x00\\x00\\x00use_batchnorm.choiceq\\x07K\\x00X\\x0c\\x00\\x00\\x00weight_decayq\\x08G?\\t?\\xa7v\\xf2\\xae\\x00u.' and reward: 0.387\n",
      "Please either provide filename or allow plot in get_training_curves\n",
      "Fitting model: weighted_ensemble_k0_l1 ... Training model for up to 119.69s of the -67.03s of remaining time.\n",
      "\t0.3988\t = Validation accuracy score\n",
      "\t1.29s\t = Training runtime\n",
      "\t0.0s\t = Validation runtime\n",
      "AutoGluon training complete, total runtime = 188.39s ...\n",
      "\n",
      "  ('#### save the trained model  #######################################',) \n",
      "\n",
      "  ('#### Predict   ####################################################',) \n",
      "Loaded data from: https://autogluon.s3.amazonaws.com/datasets/Inc/test.csv | Columns = 15 / 15 | Rows = 9769 -> 9769\n",
      "\n",
      "  ('#### Plot   #######################################################',) \n",
      "\n",
      "  ('#### Save/Load   ##################################################',) \n",
      "TabularPredictor saved. To load, use: TabularPredictor.load(dataset/)\n",
      "<mlmodels.model_gluon.util_autogluon.Model_empty object at 0x7f1aae2c47b8>\n",
      "model_gluon/gluon_automl.py\n",
      "model_gluon.gluon_automl.py\n",
      "<module 'mlmodels.model_gluon.gluon_automl' from '/home/jalfaizy/workspace/upwork/mlmodels/mlmodels/mlmodels/model_gluon/gluon_automl.py'>\n",
      "<module 'mlmodels.model_gluon.gluon_automl' from '/home/jalfaizy/workspace/upwork/mlmodels/mlmodels/mlmodels/model_gluon/gluon_automl.py'>\n",
      "Failed module 'mlmodels.model_gluon.gluon_automl' has no attribute 'test_global'\n",
      " 80%|████████████████████████████████████         | 4/5 [02:38<00:39, 39.69s/it]\n"
     ]
    }
   ],
   "source": [
    "!ml_models --model_uri model_gluon/gluon_automl.py --do test"
   ]
  },
  {
   "cell_type": "code",
   "execution_count": null,
   "metadata": {},
   "outputs": [],
   "source": []
  }
 ],
 "metadata": {
  "kernelspec": {
   "display_name": "Python 3",
   "language": "python",
   "name": "python3"
  },
  "language_info": {
   "codemirror_mode": {
    "name": "ipython",
    "version": 3
   },
   "file_extension": ".py",
   "mimetype": "text/x-python",
   "name": "python",
   "nbconvert_exporter": "python",
   "pygments_lexer": "ipython3",
   "version": "3.6.5"
  }
 },
 "nbformat": 4,
 "nbformat_minor": 4
}
