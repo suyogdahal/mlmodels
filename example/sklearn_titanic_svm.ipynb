{
 "cells": [
  {
   "cell_type": "code",
   "execution_count": 1,
   "metadata": {},
   "outputs": [],
   "source": [
    "# import library\n",
    "import mlmodels"
   ]
  },
  {
   "cell_type": "markdown",
   "metadata": {},
   "source": [
    "## Load model and data definitions from json"
   ]
  },
  {
   "cell_type": "code",
   "execution_count": 2,
   "metadata": {},
   "outputs": [],
   "source": [
    "from mlmodels.models import module_load\n",
    "from mlmodels.util import load_config\n",
    "\n",
    "model_uri    = \"model_sklearn.sklearn.py\"\n",
    "module        =  module_load( model_uri= model_uri )                           # Load file definition\n",
    "\n",
    "model_pars, data_pars, compute_pars, out_pars = module.get_params(param_pars={\n",
    "    'choice':'json',\n",
    "    'config_mode':'test',\n",
    "    'data_path':'../mlmodels/dataset/json/sklearn_titanic_svm.json'\n",
    "})"
   ]
  },
  {
   "cell_type": "markdown",
   "metadata": {},
   "source": [
    "## Load parameters and train"
   ]
  },
  {
   "cell_type": "code",
   "execution_count": 3,
   "metadata": {},
   "outputs": [
    {
     "name": "stdout",
     "output_type": "stream",
     "text": [
      "[LibSVM]"
     ]
    }
   ],
   "source": [
    "model         =  module.Model(model_pars=model_pars, data_pars=data_pars, compute_pars=compute_pars)             # Create Model instance\n",
    "model, sess   =  module.fit(model, data_pars=data_pars, compute_pars=compute_pars, out_pars=out_pars)          # fit the model"
   ]
  },
  {
   "cell_type": "markdown",
   "metadata": {},
   "source": [
    "## Check inference"
   ]
  },
  {
   "cell_type": "code",
   "execution_count": 4,
   "metadata": {},
   "outputs": [
    {
     "data": {
      "text/plain": [
       "array([False,  True,  True,  True, False, False, False, False,  True,\n",
       "        True,  True,  True, False, False,  True,  True, False, False,\n",
       "        True,  True, False, False,  True, False, False,  True, False,\n",
       "       False,  True, False, False,  True,  True, False, False, False,\n",
       "       False, False,  True,  True,  True,  True, False,  True,  True,\n",
       "       False, False,  True, False,  True, False, False,  True,  True,\n",
       "       False, False,  True, False,  True, False, False,  True, False,\n",
       "       False, False,  True,  True, False, False, False, False, False,\n",
       "       False, False, False, False, False, False,  True,  True, False,\n",
       "       False,  True, False,  True,  True, False, False,  True, False,\n",
       "       False, False, False, False, False, False, False, False,  True,\n",
       "       False,  True, False, False, False, False, False,  True, False,\n",
       "       False,  True, False,  True, False,  True,  True, False, False,\n",
       "       False, False, False, False, False, False,  True, False,  True,\n",
       "       False, False,  True, False, False, False,  True,  True, False,\n",
       "       False,  True, False, False, False,  True,  True,  True, False,\n",
       "       False, False, False,  True, False, False, False,  True, False,\n",
       "       False, False, False,  True, False, False, False, False,  True,\n",
       "       False, False, False,  True,  True,  True, False, False, False,\n",
       "       False,  True, False, False, False, False,  True, False, False,\n",
       "       False, False, False, False,  True, False,  True, False, False,\n",
       "       False,  True, False,  True,  True,  True,  True, False, False,\n",
       "        True,  True, False, False, False, False, False,  True, False,\n",
       "       False,  True, False, False,  True, False, False, False,  True,\n",
       "        True, False,  True, False, False, False, False, False, False,\n",
       "       False, False, False, False, False,  True, False, False, False,\n",
       "       False,  True, False,  True, False, False,  True,  True, False,\n",
       "       False, False, False,  True,  True, False, False, False,  True,\n",
       "       False, False,  True,  True,  True,  True,  True,  True, False,\n",
       "       False, False, False,  True, False, False, False,  True,  True,\n",
       "       False, False,  True, False,  True,  True,  True, False, False,\n",
       "        True, False, False, False, False, False, False, False, False,\n",
       "       False,  True,  True,  True, False,  True, False, False, False,\n",
       "        True, False,  True,  True, False, False,  True, False,  True,\n",
       "        True,  True, False,  True,  True,  True,  True, False, False,\n",
       "        True,  True, False,  True,  True, False, False,  True,  True,\n",
       "       False,  True, False,  True,  True,  True,  True, False, False,\n",
       "       False,  True, False, False,  True, False, False,  True,  True,\n",
       "       False, False, False,  True,  True,  True,  True, False, False,\n",
       "       False, False, False, False, False,  True,  True,  True,  True,\n",
       "       False, False,  True, False, False, False,  True,  True,  True,\n",
       "        True, False, False, False, False, False,  True,  True, False,\n",
       "       False, False,  True,  True, False,  True, False, False, False,\n",
       "        True, False,  True, False, False, False,  True,  True, False,\n",
       "        True, False, False,  True, False, False,  True, False,  True,\n",
       "       False, False,  True, False, False, False, False,  True, False,\n",
       "       False,  True,  True,  True, False,  True, False, False, False,\n",
       "        True, False, False,  True,  True, False, False, False,  True,\n",
       "        True, False, False,  True,  True,  True, False, False,  True,\n",
       "       False, False,  True, False,  True,  True, False,  True,  True,\n",
       "       False, False, False, False, False, False, False,  True,  True,\n",
       "       False, False, False, False, False, False, False, False, False,\n",
       "       False,  True, False, False,  True,  True,  True, False, False,\n",
       "       False, False,  True, False, False, False,  True, False, False,\n",
       "        True, False, False,  True, False, False, False, False, False,\n",
       "       False,  True, False,  True, False, False,  True,  True,  True,\n",
       "        True, False,  True, False, False, False, False, False, False,\n",
       "        True, False, False,  True, False,  True, False,  True, False,\n",
       "       False,  True, False, False,  True, False, False, False,  True,\n",
       "       False, False,  True,  True,  True,  True,  True, False,  True,\n",
       "        True, False, False, False, False, False,  True, False, False,\n",
       "        True, False, False, False, False,  True, False,  True, False,\n",
       "        True,  True, False, False, False, False,  True, False, False,\n",
       "        True, False, False, False,  True, False,  True, False, False,\n",
       "        True,  True,  True, False,  True,  True, False, False, False,\n",
       "        True, False, False, False, False, False,  True, False,  True,\n",
       "       False, False,  True, False, False,  True,  True, False, False,\n",
       "       False, False, False, False, False,  True,  True,  True, False,\n",
       "        True, False, False,  True, False,  True,  True, False, False,\n",
       "       False, False, False, False, False, False,  True, False, False,\n",
       "       False, False, False, False, False,  True, False, False,  True,\n",
       "       False, False,  True, False, False,  True, False, False,  True,\n",
       "       False,  True, False,  True, False,  True,  True, False, False,\n",
       "        True, False, False, False, False, False, False, False, False,\n",
       "       False, False, False,  True,  True, False, False, False, False,\n",
       "       False, False,  True,  True, False,  True, False, False, False,\n",
       "       False, False, False, False, False,  True, False,  True, False,\n",
       "       False,  True, False, False,  True, False, False,  True, False,\n",
       "        True, False, False, False,  True, False,  True,  True,  True,\n",
       "       False, False, False, False, False,  True,  True, False, False,\n",
       "        True, False, False, False, False, False,  True,  True, False,\n",
       "        True,  True, False, False, False, False, False,  True, False,\n",
       "       False, False, False, False,  True, False, False, False, False,\n",
       "        True, False, False,  True,  True, False, False,  True,  True,\n",
       "       False, False, False,  True, False, False, False,  True, False,\n",
       "        True, False,  True, False, False, False, False,  True, False,\n",
       "        True, False, False,  True, False,  True,  True,  True, False,\n",
       "       False, False, False,  True, False,  True, False, False, False,\n",
       "       False, False, False, False, False,  True, False,  True, False,\n",
       "        True,  True,  True, False, False, False,  True, False,  True,\n",
       "       False, False, False, False, False, False,  True, False, False,\n",
       "       False,  True, False, False,  True, False, False, False,  True,\n",
       "       False,  True,  True,  True, False, False, False,  True, False,\n",
       "       False, False, False, False, False,  True, False, False, False,\n",
       "       False, False, False,  True, False, False,  True,  True,  True,\n",
       "        True,  True, False,  True, False, False, False,  True, False,\n",
       "       False,  True,  True, False, False,  True, False,  True, False,\n",
       "       False,  True,  True, False, False, False,  True,  True, False,\n",
       "        True, False, False,  True, False,  True,  True, False, False])"
      ]
     },
     "execution_count": 4,
     "metadata": {},
     "output_type": "execute_result"
    }
   ],
   "source": [
    "ypred       = module.predict(model,  data_pars=data_pars, compute_pars=compute_pars, out_pars=out_pars)     # predict pipeline\n",
    "ypred"
   ]
  },
  {
   "cell_type": "markdown",
   "metadata": {},
   "source": [
    "## Check metrics"
   ]
  },
  {
   "cell_type": "code",
   "execution_count": 5,
   "metadata": {},
   "outputs": [
    {
     "data": {
      "text/plain": [
       "0.8094142459975074"
      ]
     },
     "execution_count": 5,
     "metadata": {},
     "output_type": "execute_result"
    }
   ],
   "source": [
    "import pandas as pd\n",
    "from sklearn.metrics import roc_auc_score\n",
    "\n",
    "y = pd.read_csv('../mlmodels/dataset/tabular/titanic_train_preprocessed.csv')['Survived'].values\n",
    "roc_auc_score(y, ypred)"
   ]
  },
  {
   "cell_type": "code",
   "execution_count": null,
   "metadata": {},
   "outputs": [],
   "source": []
  }
 ],
 "metadata": {
  "kernelspec": {
   "display_name": "Python 3",
   "language": "python",
   "name": "python3"
  },
  "language_info": {
   "codemirror_mode": {
    "name": "ipython",
    "version": 3
   },
   "file_extension": ".py",
   "mimetype": "text/x-python",
   "name": "python",
   "nbconvert_exporter": "python",
   "pygments_lexer": "ipython3",
   "version": "3.6.5"
  }
 },
 "nbformat": 4,
 "nbformat_minor": 4
}
