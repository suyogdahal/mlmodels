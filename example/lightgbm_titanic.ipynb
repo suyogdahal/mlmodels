{
 "cells": [
  {
   "cell_type": "code",
   "execution_count": 47,
   "metadata": {},
   "outputs": [
    {
     "name": "stdout",
     "output_type": "stream",
     "text": [
      "The autoreload extension is already loaded. To reload it, use:\n",
      "  %reload_ext autoreload\n"
     ]
    }
   ],
   "source": [
    "%load_ext autoreload\n",
    "%autoreload 2\n",
    "\n",
    "import mlmodels\n",
    "from mlmodels.models import module_load\n",
    "import json\n",
    "from mlmodels.optim import optim"
   ]
  },
  {
   "cell_type": "code",
   "execution_count": 48,
   "metadata": {},
   "outputs": [
    {
     "name": "stdout",
     "output_type": "stream",
     "text": [
      "\n",
      "  ({'objective': 'binary', 'random_state': 2}, {'mode': 'train', 'path': '../dataset/tabular/titanic_train_preprocessed.csv', 'data_type': 'pandas', 'colX': ['Pclass', 'Sex', 'Age', 'SibSp', 'Parch', 'Fare', 'Embarked_Q', 'Embarked_S', 'Title'], 'coly': 'Survived'}, {'lightgbm_pars': {}}, {'engine_pars': {'engine': 'optuna', 'ntrials': 1, 'metric_target': 'roc_auc_score', 'method': 'normal'}, 'num_leaves': {'type': 'int', 'init': 100, 'range': [5, 200]}, 'max_depth': {'type': 'int', 'init': 4, 'range': [0, 6]}}) \n",
      "\n",
      "  (<module 'mlmodels.model_sklearn.model_lightgbm' from 'f:\\\\congviec\\\\forme\\\\mlmodels\\\\mlmodels\\\\model_sklearn\\\\model_lightgbm.py'>,) \n",
      "\n",
      "  ('###### Hyper-optimization through study   ##################################',) \n",
      "\n",
      "  ('check', <module 'mlmodels.model_sklearn.model_lightgbm' from 'f:\\\\congviec\\\\forme\\\\mlmodels\\\\mlmodels\\\\model_sklearn\\\\model_lightgbm.py'>, {'mode': 'train', 'path': '../dataset/tabular/titanic_train_preprocessed.csv', 'data_type': 'pandas', 'colX': ['Pclass', 'Sex', 'Age', 'SibSp', 'Parch', 'Fare', 'Embarked_Q', 'Embarked_S', 'Title'], 'coly': 'Survived'}) \n"
     ]
    },
    {
     "name": "stderr",
     "output_type": "stream",
     "text": [
      "[I 2020-04-03 10:35:03,761] Finished trial#0 resulted in value: 0.9478455284552846. Current best value is 0.9478455284552846 with parameters: {'num_leaves': 162, 'max_depth': 0}.\n"
     ]
    },
    {
     "name": "stdout",
     "output_type": "stream",
     "text": [
      "\n",
      " ################################### ('Optim, finished',) ###################################\n",
      "\n",
      "  ('### Save Stats   ##########################################################',) \n",
      "\n",
      "  ('### Run Model with best   #################################################',) \n",
      "\n",
      "  ('#### Saving     ###########################################################',) \n",
      "{'path': './temp', 'model_type': 'model_sklearn', 'model_uri': 'model_sklearn-model_lightgbm-py'}\n"
     ]
    }
   ],
   "source": [
    "data_path = 'hyper_lightgbm_titanic.json'  \n",
    "\n",
    "pars = json.load(open( data_path , mode='r'))\n",
    "for key, pdict in  pars.items() :\n",
    "  globals()[key] = pdict  \n",
    "\n",
    "hypermodel_pars = test['hypermodel_pars']\n",
    "model_pars      = test['model_pars']\n",
    "data_pars       = test['data_pars']\n",
    "compute_pars    = test['compute_pars']\n",
    "out_pars        = test['out_pars']\n",
    "\n",
    "model_uri    = \"model_sklearn.model_lightgbm.py\"\n",
    "module        =  module_load( model_uri= model_uri)\n",
    "\n",
    "model_pars_update = optim(\n",
    "    model_uri       = model_uri,\n",
    "    hypermodel_pars = hypermodel_pars,\n",
    "    model_pars      = model_pars,\n",
    "    data_pars       = data_pars,\n",
    "    compute_pars    = compute_pars,\n",
    "    out_pars        = out_pars\n",
    ")"
   ]
  },
  {
   "cell_type": "code",
   "execution_count": 49,
   "metadata": {},
   "outputs": [],
   "source": [
    "model = module.Model(model_pars, data_pars, compute_pars)\n",
    "model, session = module.fit(model, data_pars, compute_pars, out_pars)"
   ]
  },
  {
   "cell_type": "code",
   "execution_count": 50,
   "metadata": {},
   "outputs": [
    {
     "name": "stdout",
     "output_type": "stream",
     "text": [
      "[[2. 0. 5. ... 0. 1. 7.]\n",
      " [3. 1. 3. ... 1. 0. 2.]\n",
      " [1. 1. 3. ... 0. 1. 1.]\n",
      " ...\n",
      " [2. 0. 0. ... 0. 1. 6.]\n",
      " [3. 0. 4. ... 1. 0. 6.]\n",
      " [3. 1. 0. ... 0. 1. 2.]]\n"
     ]
    }
   ],
   "source": [
    "ypred       = module.predict(model,  data_pars=data_pars, compute_pars=compute_pars, out_pars=out_pars)     # predict pipeline\n",
    "ypred"
   ]
  },
  {
   "cell_type": "code",
   "execution_count": 51,
   "metadata": {},
   "outputs": [
    {
     "data": {
      "text/plain": [
       "{'roc_auc_score': 0.9632566069906223}"
      ]
     },
     "execution_count": 51,
     "metadata": {},
     "output_type": "execute_result"
    }
   ],
   "source": [
    "metrics_val = module.fit_metrics(model, data_pars, compute_pars, out_pars)\n",
    "metrics_val"
   ]
  },
  {
   "cell_type": "code",
   "execution_count": null,
   "metadata": {},
   "outputs": [],
   "source": []
  }
 ],
 "metadata": {
  "kernelspec": {
   "display_name": "mlmodels",
   "language": "python",
   "name": "mlmodels"
  },
  "language_info": {
   "codemirror_mode": {
    "name": "ipython",
    "version": 3
   },
   "file_extension": ".py",
   "mimetype": "text/x-python",
   "name": "python",
   "nbconvert_exporter": "python",
   "pygments_lexer": "ipython3",
   "version": "3.7.4"
  }
 },
 "nbformat": 4,
 "nbformat_minor": 4
}
